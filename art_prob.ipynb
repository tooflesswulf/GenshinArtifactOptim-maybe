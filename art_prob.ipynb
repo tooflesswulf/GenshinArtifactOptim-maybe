{
 "cells": [
  {
   "cell_type": "code",
   "execution_count": 5,
   "id": "f8876343-af09-4992-ac9d-0332db0e97e7",
   "metadata": {},
   "outputs": [],
   "source": [
    "import matplotlib.pyplot as plt\n",
    "import matplotlib\n",
    "from typing import Tuple\n",
    "from functools import cache\n",
    "import itertools\n",
    "import scipy.special\n",
    "import scipy.stats\n",
    "import numpy as np\n",
    "\n",
    "%matplotlib inline\n",
    "matplotlib.rcParams['font.size'] = 20\n",
    "matplotlib.rcParams['figure.figsize'] = (16,9)\n",
    "matplotlib.rcParams['savefig.bbox'] = 'tight'"
   ]
  },
  {
   "cell_type": "markdown",
   "id": "4c919185-05f9-41d9-96a1-d25afb4c6878",
   "metadata": {},
   "source": [
    "# A fast implementation of artifact statistics\n",
    "This code aims to demonstrate the ideas and maths shown in the following paper: [https://www.overleaf.com/read/nvxmkdpqjprj](https://www.overleaf.com/read/nvxmkdpqjprj)\n",
    "\n",
    "I offer two contributions:\n",
    "\n",
    "1. Very fast implementation of GenshinOptimizer's existing Roll Probability Calculator. frzyc noted that it's somewhat straining the front-end, so I've made a cache-based implementation that runs in microseconds per query.\n",
    "2. A method that, given an optimization target and a current build, finds the artifact in the inventory that has the greatest chance of improving your build."
   ]
  },
  {
   "cell_type": "code",
   "execution_count": 6,
   "id": "e0e9f651-dff8-4e04-9d1d-4c30d3ebbbbc",
   "metadata": {},
   "outputs": [],
   "source": [
    "@cache\n",
    "def nk3(n, k):\n",
    "    return sum([scipy.special.binom(n, i) * scipy.special.binom(n, k-2*i) for i in range(k//2+1)])\n",
    "\n",
    "@cache\n",
    "def mu(a, j):\n",
    "    return sum([nk3(j, i-7*j) for i in range(a, 10*j+1)]) / (4**j)\n",
    "\n",
    "@cache\n",
    "def multinom(j1, j2=None, j3=None, j4=None, N=5):\n",
    "    # The standard multinomial distribution. Below logic handles variable arguments\n",
    "    if j2 is None:\n",
    "        rem = N-j1\n",
    "        rv = scipy.stats.multinomial(N, [1/4, 3/4])\n",
    "        return rv.pmf([j1, rem])\n",
    "    \n",
    "    if j3 is None:\n",
    "        rem = N-j1-j2\n",
    "        rv = scipy.stats.multinomial(N, [1/4, 1/4, 2/4])\n",
    "        return rv.pmf([j1, j2, rem])\n",
    "    \n",
    "    if j4 is None:\n",
    "        rem = N-j1-j2-j3\n",
    "        rv = scipy.stats.multinomial(N, [1/4, 1/4, 1/4, 1/4])\n",
    "        return rv.pmf([j1, j2, j3, rem])\n",
    "    \n",
    "    if j1+j2+j3+j4 != N:\n",
    "        return 0\n",
    "    rv = scipy.stats.multinomial(N, [1/4, 1/4, 1/4, 1/4])\n",
    "    return rv.pmf([j1, j2, j3, j4])"
   ]
  },
  {
   "cell_type": "markdown",
   "id": "51c2c1a8-ebba-4a6d-8b0c-a2e729c041df",
   "metadata": {},
   "source": [
    "## Type 1 Query\n",
    "The type 1 query behaves as:\n",
    "$$ P(A_1\\geq a_1 \\land A_2\\geq a_2\\land\\cdots)$$\n",
    "\n",
    "This is already implemented in frzyc's GenshinOptimizer, but issues regarding its computational load have been brought up. The following method I present is quite fast; with appropriate caching it reaches about 200µs per loop. (around .2s for 1000 queries)\n",
    "\n",
    "----\n",
    "\n",
    "Can be further optimized:\n",
    "- iterate with nested loops i=0..N; j=0..(N-i); k=0..(N-i-j) rather than the cartesian products\n",
    "- check for mu=0 conditions, whenever $a_i> 10(j_i+b)$. Skip computation of those terms.\n",
    "- wrap the cached functions in a preprocessor to reduce required cache size\n",
    "  - mu=1 whenever $a_i \\leq 7(j_i+b)$\n",
    "  - sort inputs to `multinom`, discard any zeros in the input"
   ]
  },
  {
   "cell_type": "code",
   "execution_count": 7,
   "id": "f2464a40-eacb-4722-8fbc-e074b87049e1",
   "metadata": {},
   "outputs": [],
   "source": [
    "# P(A1 >= a1 AND A2 >= a2)\n",
    "def prob1(a1, a2=None, a3=None, a4=None, N=5, b=1):\n",
    "    if a2 is None:\n",
    "        return sum([multinom(j1, N=N) * mu(a1, j1+b) for j1 in range(N+1)])\n",
    "    \n",
    "    if a3 is None:\n",
    "        ret = 0\n",
    "        for j1, j2 in filter(lambda x: sum(x)<=N, itertools.product(range(N+1), repeat=2)):\n",
    "            ret += multinom(j1, j2, N=N) * mu(a1, j1+b) * mu(a2, j2+b)\n",
    "        return ret\n",
    "    \n",
    "    if a4 is None:\n",
    "        ret = 0\n",
    "        for j1, j2, j3 in filter(lambda x: sum(x)<=N, itertools.product(range(N+1), repeat=3)):\n",
    "            ret += multinom(j1, j2, j3, N=N) * mu(a1, j1+b) * mu(a2, j2+b) * mu(a3, j3+b)\n",
    "        return ret\n",
    "    \n",
    "    ret = 0\n",
    "    for j1, j2, j3 in filter(lambda x: sum(x)<=N, itertools.product(range(N+1), repeat=3)):\n",
    "        j4 = N-j1-j2-j3\n",
    "        ret += multinom(j1, j2, j3, j4, N=N) * mu(a1, j1+b) * mu(a2, j2+b) * mu(a3, j3+b) * mu(a4, j4+b)\n",
    "    return ret\n"
   ]
  },
  {
   "cell_type": "code",
   "execution_count": 8,
   "id": "b346573d-b228-4cdd-bfd6-ce5194af6797",
   "metadata": {},
   "outputs": [
    {
     "name": "stdout",
     "output_type": "stream",
     "text": [
      "180 µs ± 13.2 µs per loop (mean ± std. dev. of 7 runs, 10000 loops each)\n"
     ]
    }
   ],
   "source": [
    "%timeit prob1(*np.random.randint(20, size=4))"
   ]
  },
  {
   "cell_type": "markdown",
   "id": "ba580290-f393-4ca8-9ef0-12725205fdab",
   "metadata": {},
   "source": [
    "### Type 1 Query on existing artifact\n",
    "Existing artifacts reduce to a special case of the previous query. Since they're practically the same query, the runtime is essentially the same, and is faster if `rolls_left` is smaller."
   ]
  },
  {
   "cell_type": "code",
   "execution_count": 9,
   "id": "3981983e-6b5f-4e26-b624-caae18c40527",
   "metadata": {},
   "outputs": [],
   "source": [
    "def p1_existing(requirements, existing, rolls_left):\n",
    "    transformed_requirements = []\n",
    "    for ai, az in zip(requirements, existing):\n",
    "        transformed_requirements.append(ai - az)\n",
    "    \n",
    "    return prob1(*transformed_requirements, N=rolls_left, b=0)"
   ]
  },
  {
   "cell_type": "markdown",
   "id": "8ee8d6f8-423f-42ba-b25e-bc61ba63ddd0",
   "metadata": {},
   "source": [
    "## Type 2 Query\n",
    "The type 2 query behaves as:\n",
    "$$ P(k_1A_1 + k_2A_2 + \\cdots\\geq a^*)$$\n",
    "\n",
    "There are many reasons why this kind of query is interesting. For example, suppose I want my artifact to roll 100 EM or 15% crit rate, or anywhere in between. So some acceptable results would be:\n",
    "- 100 EM, 0% cr\n",
    "- 90 EM, 1.5% cr\n",
    "- 80 EM, 3% cr\n",
    "- 50 EM, 7.5% cr\n",
    "- 20 EM, 12% cr\n",
    "- 0 EM, 25% cr\n",
    "\n",
    "Converting to the language of substat rolls, we're asking for 42.9 IVs in EM or 38.6 IVs in CR. Writing with linear coefficients, we can roughly phrase the problem as:\n",
    "$$ \\begin{array}{ccc}k_1 = 0.9 & k_2 = 1 & a^* = 38.6 \\end{array} $$\n",
    "$$ P(0.9A_1 + A_2 \\geq 38.6) $$\n",
    "\n",
    "\n",
    "The problem becomes rather nontrivial even for the combination of only two artifacts, especially when they have different weights."
   ]
  },
  {
   "cell_type": "code",
   "execution_count": 325,
   "id": "875606bd-1a0c-4e0b-8dd0-ed6f82b6398d",
   "metadata": {},
   "outputs": [],
   "source": [
    "# Returns list of (v, p(v)) which represent exact distribution of P(k1A1 + ... = v)\n",
    "def exact(ks, js):\n",
    "    if len(ks) == 0:\n",
    "        return np.array([[0, 1]])\n",
    "    \n",
    "    k, j = ks[-1], js[-1]\n",
    "    pr1 = np.array([(k*i, nk3(j, i-7*j) / 4**j) for i in range(7*j, 10*j+1)])\n",
    "    pr2 = exact(ks[:-1], js[:-1])\n",
    "    \n",
    "    res = {}\n",
    "    for v1, p1 in pr1:\n",
    "        for v2, p2 in pr2:\n",
    "            res[v1 + v2] = res.get(v1+v2, 0) + p1*p2\n",
    "    return np.array([(k, v) for k, v in res.items()])\n",
    "\n",
    "# Returns the probability the sum total value of k1A1 + ... exceeds thr.\n",
    "# We can also guarantee some % error threshold, at the cost of computation time. Set err_thresh=0 to solve exactly.\n",
    "def pnj(thr, kjs, err_thresh=None):\n",
    "    # increase all j's by b    \n",
    "    ks = kjs[0]\n",
    "    js = (kjs[1]).astype(int)\n",
    "\n",
    "    # Check for simple situations\n",
    "    if thr <= 7 * np.sum(ks * js):\n",
    "        return 1\n",
    "    if thr > 10 * np.sum(ks*js):\n",
    "        return 0\n",
    "        \n",
    "    # Gaussian estimate\n",
    "    mu = 8.5 * np.sum(ks * js)\n",
    "    var = 5/4 * np.sum(ks*ks*js)        \n",
    "    p_est = scipy.special.erfc((thr - mu) / np.sqrt(2 * var)) / 2\n",
    "\n",
    "    # error estimate of Gaussian\n",
    "    err = np.amax(ks) / (2 * np.sqrt(2 * var))\n",
    "    max_err = err / p_est\n",
    "    if err_thresh is None or max_err <= err_thresh:\n",
    "        return p_est\n",
    "        \n",
    "    # Partially exact formulation\n",
    "    ktarg = err_thresh * p_est * (2 * np.sqrt(2 * var))\n",
    "    approx_select = ks < ktarg\n",
    "    ext = exact(ks[~approx_select], js[~approx_select])\n",
    "    \n",
    "    # Construct partial approximate distribution\n",
    "    ks, js = ks[approx_select], js[approx_select]\n",
    "    mu = 8.5 * np.sum(ks * js)\n",
    "    var = 5/4 * np.sum(ks*ks*js)\n",
    "    if var > 0:\n",
    "        p_est = lambda x: scipy.special.erfc((x - mu) / np.sqrt(2 * var)) / 2\n",
    "    else:\n",
    "        p_est = lambda x: 1 if x < 0 else 0\n",
    "    \n",
    "    # convolve exact distribution with approximate distribution\n",
    "    ptot = 0\n",
    "    for v, p in ext:\n",
    "        ptot += p * p_est(thr - v)\n",
    "    return ptot\n",
    "\n",
    "def prob2(thresh, ks = (1), N=5, b=1, err=None):\n",
    "    reps = 0\n",
    "    ks = np.array(ks)\n",
    "    \n",
    "    ptot = 0\n",
    "    for js in filter(lambda x: sum(x) <= N, itertools.product(range(N+1), repeat=len(ks))):\n",
    "        js2 = np.array(js) + b\n",
    "        if thresh <= 7*np.sum(ks * js2):\n",
    "            ptot += multinom(*js, N=N)\n",
    "            continue\n",
    "        elif thresh > 10*np.sum(ks * js2):\n",
    "            continue\n",
    "            \n",
    "        tmp = pnj(thresh, (ks, js2), err_thresh=err)\n",
    "        ptot += multinom(*js, N=N) * tmp\n",
    "    return ptot"
   ]
  },
  {
   "cell_type": "markdown",
   "id": "731770a8-5e33-4453-bf58-a3ed5bcb9434",
   "metadata": {},
   "source": [
    "A note on the `err` paramter. I typically leave it unconstrained because my approximation is constructed very well. I've also found a way to mathematically guarantee certain error bounds, which naturally makes the computation time suffer.\n",
    "\n",
    "For example, we could let `err=0.1` to guarantee that the returned result is within 10% of the true probability, or even `err=0` to force the program to find the exact probability."
   ]
  },
  {
   "cell_type": "code",
   "execution_count": 345,
   "id": "a19371bb-b290-436c-955c-a8bb63d064cd",
   "metadata": {},
   "outputs": [
    {
     "name": "stdout",
     "output_type": "stream",
     "text": [
      "Approximate P(100EM or 15CR): 0.4258741547179381\n",
      "Exact       P(100EM or 15CR): 0.4154639244079591\n"
     ]
    }
   ],
   "source": [
    "print(f'Approximate P(100EM or 15CR): {prob2(38.6, [.9, 1])}')\n",
    "print(f'Exact       P(100EM or 15CR): {prob2(38.6, [.9, 1], err=0)}')"
   ]
  },
  {
   "cell_type": "code",
   "execution_count": 346,
   "id": "3808b22f-5886-4e5d-8deb-76caaeeee6e6",
   "metadata": {},
   "outputs": [
    {
     "name": "stdout",
     "output_type": "stream",
     "text": [
      "601 µs ± 23.6 µs per loop (mean ± std. dev. of 7 runs, 1000 loops each)\n"
     ]
    }
   ],
   "source": [
    "%timeit prob2(38.6, [.9, 1])"
   ]
  },
  {
   "cell_type": "code",
   "execution_count": 347,
   "id": "c189480c-44fb-4449-b3f4-3c02ce8ce2d0",
   "metadata": {},
   "outputs": [
    {
     "name": "stdout",
     "output_type": "stream",
     "text": [
      "2.82 ms ± 172 µs per loop (mean ± std. dev. of 7 runs, 100 loops each)\n"
     ]
    }
   ],
   "source": [
    "%timeit prob2(38.6, [.9, 1], err=0)"
   ]
  },
  {
   "cell_type": "markdown",
   "id": "24a6ede4-bcf6-4f0a-a019-0d0e5e313465",
   "metadata": {},
   "source": [
    "### Type 2 Query on existing artifact\n",
    "Same as with Type 1 queries, we just need to shift the threshold."
   ]
  },
  {
   "cell_type": "code",
   "execution_count": 337,
   "id": "cd6e0cd0-889b-4788-b52c-8d82e6053c70",
   "metadata": {},
   "outputs": [],
   "source": [
    "def p2_existing(thresh, ks, existing, rolls_left):\n",
    "    new_th = thresh\n",
    "    for ki, vi in zip(ks, existing):\n",
    "        new_th -= ki*vi\n",
    "    \n",
    "    return prob2(new_th, ks, N=rolls_left, b=0)"
   ]
  },
  {
   "cell_type": "markdown",
   "id": "efc02b13-7b23-4377-b979-9aea485fb1f5",
   "metadata": {},
   "source": [
    "## Connection to the Damage Formula\n",
    "The following couple blocks set up my damage evaluation schema, where I've manually filled in some standard(ish) values.\n",
    "\n",
    "All the percent- values are multiplied by 1000 for some reason."
   ]
  },
  {
   "cell_type": "code",
   "execution_count": 699,
   "id": "0c4dca34-603e-44aa-8a3f-9a2ae02e3119",
   "metadata": {},
   "outputs": [],
   "source": [
    "import artifact2\n",
    "import char2\n",
    "import damage2\n",
    "from util.common import statnames, statmap"
   ]
  },
  {
   "cell_type": "code",
   "execution_count": 755,
   "id": "e89cf27f-b5d9-40bd-bc4e-87b95d703557",
   "metadata": {},
   "outputs": [
    {
     "data": {
      "text/plain": [
       "<module 'damage2' from '/Users/albertxu/PycharmProjects/playground/Genshin/damage2.py'>"
      ]
     },
     "execution_count": 755,
     "metadata": {},
     "output_type": "execute_result"
    }
   ],
   "source": [
    "import importlib\n",
    "importlib.reload(damage2)"
   ]
  },
  {
   "cell_type": "code",
   "execution_count": 756,
   "id": "221438a1-faac-4f6a-8ff9-3eb263fcef14",
   "metadata": {},
   "outputs": [],
   "source": [
    "# Stats of lvl 90 Diona w/ protype crescent\n",
    "diona_stats = np.zeros(len(statnames))\n",
    "diona_stats[statmap['HP']] = 9570\n",
    "diona_stats[statmap['BaseATK']] = 722\n",
    "diona_stats[statmap['ATK%']] = 413\n",
    "diona_stats[statmap['DEF']] = 601\n",
    "diona_stats[statmap['CR']] = 50\n",
    "diona_stats[statmap['CD']] = 500\n",
    "diona_stats[statmap['ER']] = 1000\n",
    "diona_stats[statmap['Cryo']] = 240"
   ]
  },
  {
   "cell_type": "code",
   "execution_count": 757,
   "id": "889116df-0794-4336-963c-15ebb50af89d",
   "metadata": {},
   "outputs": [],
   "source": [
    "# The artifacts I have equipped\n",
    "flower = np.zeros(len(statnames))\n",
    "flower[statmap['HP']] = 4780\n",
    "flower[statmap['ATK']] = 33\n",
    "flower[statmap['DEF']] = 16\n",
    "flower[statmap['EM']] = 82\n",
    "flower[statmap['CD']] = 140\n",
    "\n",
    "feather = np.zeros(len(statnames))\n",
    "feather[statmap['ATK']] = 311\n",
    "feather[statmap['ER']] = 162\n",
    "feather[statmap['DEF']] = 37\n",
    "feather[statmap['CR']] = 31\n",
    "feather[statmap['CD']] = 192\n",
    "\n",
    "sands = np.zeros(len(statnames))\n",
    "sands[statmap['EM']] = 187\n",
    "sands[statmap['HP']] = 538\n",
    "sands[statmap['DEF']] = 39\n",
    "sands[statmap['CR']] = 124\n",
    "sands[statmap['CD']] = 78\n",
    "\n",
    "cup = np.zeros(len(statnames))\n",
    "cup[statmap['Cryo']] = 466\n",
    "cup[statmap['HP%']] = 47\n",
    "cup[statmap['ATK%']] = 111\n",
    "cup[statmap['ER']] = 220\n",
    "cup[statmap['EM']] = 16\n",
    "\n",
    "hat = np.zeros(len(statnames))\n",
    "hat[statmap['CR']] = 311\n",
    "hat[statmap['HP']] = 299\n",
    "hat[statmap['CD']] = 155\n",
    "hat[statmap['ATK%']] = 105\n",
    "hat[statmap['EM']] = 56"
   ]
  },
  {
   "cell_type": "code",
   "execution_count": 938,
   "id": "b7eb6461-4e0d-4e26-a8c8-e34a8bee8c0a",
   "metadata": {},
   "outputs": [
    {
     "name": "stdout",
     "output_type": "stream",
     "text": [
      "Current damage per charged shot: 12169.443822372452\n"
     ]
    }
   ],
   "source": [
    "dmg = damage2.NormalDmg(2.23) * damage2.CritMult() * damage2.VapeMelt(1.5)\n",
    "stats = diona_stats + flower + feather + sands + cup + hat\n",
    "print(f'Current damage per charged shot: {dmg.eval(stats)[0]}')"
   ]
  },
  {
   "cell_type": "markdown",
   "id": "b5c68ca0-2fdd-4425-b83b-b4f76079778a",
   "metadata": {},
   "source": [
    "### Queries for replacing an artifact\n",
    "Let's say I have a couple candidate artifacts to upgrade. All of them are EM sands, and they are all at lvl 0."
   ]
  },
  {
   "cell_type": "code",
   "execution_count": 943,
   "id": "76bc2e46-1ed6-451a-98b2-518fb5df52f6",
   "metadata": {},
   "outputs": [],
   "source": [
    "def to_stat(subs):\n",
    "    st = np.zeros(len(statnames))\n",
    "    for k, v in subs.items():\n",
    "        st[statmap[k]] = v * artifact2.sub_vals[k] / 10\n",
    "    return st\n",
    "\n",
    "# Want to beat this number\n",
    "sands0 = np.zeros(len(statnames))\n",
    "sands0[statmap['EM']] = 187\n",
    "\n",
    "stats = diona_stats + flower + feather + sands0 + cup + hat\n",
    "subs_orig = {'HP': 18, 'DEF': 17, 'CR': 32, 'CD': 10}\n",
    "dmg0 = dmg.eval(stats + to_stat(subs_orig))[0]\n",
    "\n",
    "def eval_potential(new_subs, rolls=0, err=None):\n",
    "    rolls_left = 5 - rolls\n",
    "    v, g, h = dmg.eval(stats + to_stat(new_subs))\n",
    "    ix = [statmap[k] for k in sub1]\n",
    "    scale = np.array([artifact2.sub_vals[k]/10 for k in sub1])\n",
    "\n",
    "    gnorm = g[ix] * scal\n",
    "    hnorm = h[ix][:,ix] * np.outer(scal, scal)\n",
    "    \n",
    "    if len(ix) == 3:\n",
    "        # force the thing to be 4x4.\n",
    "        gnorm = np.append(gnorm, 0)\n",
    "        hnorm = np.pad(hnorm, [0,1])\n",
    "        rolls_left = 4\n",
    "\n",
    "    h_lin1 = np.sum(hz) + np.sum(np.diag(hz)) + 2 * (np.sum(hz, axis=0) + np.diag(hz))\n",
    "    h_lin = 50 / 7 * np.linalg.pinv(np.eye(4) + 1) @ h_lin1\n",
    "    \n",
    "    weights = gz + h_lin/2\n",
    "    weights[weights < 0] = 0\n",
    "        \n",
    "    return prob2(dmg0 - v, weights, N=rolls_left, b=0, err=err)"
   ]
  },
  {
   "cell_type": "code",
   "execution_count": 944,
   "id": "4c2e6fc8-c38e-445d-8447-abf9ecda9b76",
   "metadata": {},
   "outputs": [],
   "source": [
    "# Pretend all of these are unupgraded EM main-stat sands.\n",
    "sub1 = {'CD': 7, 'HP': 9, 'ATK%': 8, 'ATK': 7}\n",
    "sub2 = {'CD': 8, 'CR': 9, 'HP': 10, 'ATK': 7}\n",
    "sub3 = {'CD': 10, 'CR': 10, 'ATK%': 9}\n",
    "sub4 = {'ATK': 8, 'DEF': 10, 'ATK%': 9}"
   ]
  },
  {
   "cell_type": "code",
   "execution_count": 959,
   "id": "fae38e98-d1e0-419f-b236-1b97b422a414",
   "metadata": {},
   "outputs": [
    {
     "name": "stdout",
     "output_type": "stream",
     "text": [
      "20.6 ms ± 647 µs per loop (mean ± std. dev. of 7 runs, 10 loops each)\n"
     ]
    }
   ],
   "source": [
    "%timeit eval_potential(sub4, err=0)"
   ]
  },
  {
   "cell_type": "code",
   "execution_count": 960,
   "id": "05daa88f-17d8-4694-a797-b906291cd030",
   "metadata": {},
   "outputs": [
    {
     "name": "stdout",
     "output_type": "stream",
     "text": [
      "4.2 ms ± 23.7 µs per loop (mean ± std. dev. of 7 runs, 100 loops each)\n"
     ]
    }
   ],
   "source": [
    "%timeit eval_potential(sub4, err=None)"
   ]
  },
  {
   "cell_type": "code",
   "execution_count": 958,
   "id": "39c14a75-7d80-4a2b-b122-4eaba0b82ba2",
   "metadata": {},
   "outputs": [
    {
     "name": "stdout",
     "output_type": "stream",
     "text": [
      "0.27045917510986334\n",
      "0.26915888130853294\n"
     ]
    }
   ],
   "source": [
    "print(eval_potential(sub4, err=0))\n",
    "print(eval_potential(sub4, err=None))"
   ]
  },
  {
   "cell_type": "code",
   "execution_count": 936,
   "id": "c6567511-42f4-4c73-9565-adbc8545ace1",
   "metadata": {},
   "outputs": [
    {
     "data": {
      "text/plain": [
       "12172.241709086176"
      ]
     },
     "execution_count": 936,
     "metadata": {},
     "output_type": "execute_result"
    }
   ],
   "source": [
    "dmg.eval(stats + to_stat(subs_orig))[0]"
   ]
  },
  {
   "cell_type": "code",
   "execution_count": 916,
   "id": "678916fa-5215-4048-8255-ebe72c1069ca",
   "metadata": {},
   "outputs": [
    {
     "data": {
      "text/plain": [
       "{'HP': 18, 'DEF': 17, 'CR': 13, 'CD': 10}"
      ]
     },
     "execution_count": 916,
     "metadata": {},
     "output_type": "execute_result"
    }
   ],
   "source": [
    "subs_orig"
   ]
  },
  {
   "cell_type": "code",
   "execution_count": 921,
   "id": "85a5e371-771c-431e-abb4-d92eb3e40353",
   "metadata": {},
   "outputs": [
    {
     "data": {
      "text/plain": [
       "77.7"
      ]
     },
     "execution_count": 921,
     "metadata": {},
     "output_type": "execute_result"
    }
   ],
   "source": [
    "to_stat(subs_orig)[statmap['CD']]"
   ]
  },
  {
   "cell_type": "code",
   "execution_count": 915,
   "id": "05fec049-d5ef-4c6c-8e77-33cfcd620c73",
   "metadata": {},
   "outputs": [
    {
     "data": {
      "text/plain": [
       "array([  0.   , 539.55 ,   0.   ,  39.355,   0.   ,   0.   ,  50.57 ,\n",
       "        77.7  ,   0.   ,   0.   ,   0.   ,   0.   ,   0.   ,   0.   ,\n",
       "         0.   ,   0.   ,   0.   ,   0.   ,   0.   ,   0.   ,   0.   ,\n",
       "         0.   ])"
      ]
     },
     "execution_count": 915,
     "metadata": {},
     "output_type": "execute_result"
    }
   ],
   "source": [
    "to_stat(subs_orig2)"
   ]
  },
  {
   "cell_type": "code",
   "execution_count": 922,
   "id": "eaac696a-9611-4cfa-9b71-eb13fa006d1b",
   "metadata": {},
   "outputs": [
    {
     "data": {
      "text/plain": [
       "11284.160960709472"
      ]
     },
     "execution_count": 922,
     "metadata": {},
     "output_type": "execute_result"
    }
   ],
   "source": [
    "subs_orig2 = {'HP': 18, 'DEF': 17, 'CR': 13, 'DEF%': 10}\n",
    "dmg.eval(stats + to_stat(subs_orig2))[0]"
   ]
  },
  {
   "cell_type": "code",
   "execution_count": 932,
   "id": "cdedd3d2-0aa8-48c4-849f-88370660fded",
   "metadata": {},
   "outputs": [
    {
     "name": "stdout",
     "output_type": "stream",
     "text": [
      "150.76644583209054 [25.21828783  0.         30.95882571 14.23092477]\n"
     ]
    },
    {
     "data": {
      "text/plain": [
       "0.5"
      ]
     },
     "execution_count": 932,
     "metadata": {},
     "output_type": "execute_result"
    }
   ],
   "source": [
    "subs_orig = {'HP': 18, 'DEF': 17, 'CR': 27, 'DEF%': 10}\n",
    "eval_potential(subs_orig, rolls=4)"
   ]
  },
  {
   "cell_type": "code",
   "execution_count": 905,
   "id": "fbf638d5-2ee4-4f41-9a9b-1c872b822852",
   "metadata": {},
   "outputs": [
    {
     "data": {
      "text/plain": [
       "16.0"
      ]
     },
     "execution_count": 905,
     "metadata": {},
     "output_type": "execute_result"
    }
   ],
   "source": [
    "1/.0625"
   ]
  },
  {
   "cell_type": "code",
   "execution_count": 874,
   "id": "3480ac5c-15d4-4671-816c-d54da4bfa801",
   "metadata": {},
   "outputs": [
    {
     "name": "stdout",
     "output_type": "stream",
     "text": [
      "0.490494105706669\n",
      "0.6056074687668723\n",
      "0.9155252194726436\n",
      "0.2872047984442604\n"
     ]
    }
   ],
   "source": [
    "print(eval_potential(sub1))\n",
    "print(eval_potential(sub2))\n",
    "print(eval_potential(sub3))\n",
    "print(eval_potential(sub4))"
   ]
  },
  {
   "cell_type": "code",
   "execution_count": 865,
   "id": "6b20d871-6015-47fe-b235-91a7e148134b",
   "metadata": {},
   "outputs": [
    {
     "ename": "TypeError",
     "evalue": "p2_existing() missing 4 required positional arguments: 'thresh', 'ks', 'existing', and 'rolls_left'",
     "output_type": "error",
     "traceback": [
      "\u001b[0;31m---------------------------------------------------------------------------\u001b[0m",
      "\u001b[0;31mTypeError\u001b[0m                                 Traceback (most recent call last)",
      "\u001b[0;32m/var/folders/g7/85rmgp356tb3k172104gjdp80000gn/T/ipykernel_88175/3572461962.py\u001b[0m in \u001b[0;36m<module>\u001b[0;34m\u001b[0m\n\u001b[0;32m----> 1\u001b[0;31m \u001b[0mp2_existing\u001b[0m\u001b[0;34m(\u001b[0m\u001b[0;34m)\u001b[0m\u001b[0;34m\u001b[0m\u001b[0;34m\u001b[0m\u001b[0m\n\u001b[0m",
      "\u001b[0;31mTypeError\u001b[0m: p2_existing() missing 4 required positional arguments: 'thresh', 'ks', 'existing', and 'rolls_left'"
     ]
    }
   ],
   "source": [
    "prob2(new_th, ks, N=rolls_left, b=0)"
   ]
  },
  {
   "cell_type": "code",
   "execution_count": 860,
   "id": "8a7a96d5-17d7-4230-8aed-fb124e4c56ef",
   "metadata": {},
   "outputs": [
    {
     "data": {
      "text/plain": [
       "array([[0.        , 0.        , 0.06623656],\n",
       "       [0.        , 0.        , 0.        ],\n",
       "       [0.06623656, 0.        , 0.        ]])"
      ]
     },
     "execution_count": 860,
     "metadata": {},
     "output_type": "execute_result"
    }
   ],
   "source": [
    "hz2"
   ]
  },
  {
   "cell_type": "code",
   "execution_count": 839,
   "id": "383d60d7-0757-44db-9e8d-2fa3c0c1016f",
   "metadata": {},
   "outputs": [
    {
     "data": {
      "text/plain": [
       "array([25.77167591, -0.27669404, 31.29359697, 14.31119457])"
      ]
     },
     "execution_count": 839,
     "metadata": {},
     "output_type": "execute_result"
    }
   ],
   "source": [
    "v, g, h = dmg.eval(stats + to_stat(sub1))\n",
    "ix = [statmap[k] for k in sub1]\n",
    "scal = np.array([artifact2.sub_vals[k]/10 for k in sub1])\n",
    "\n",
    "gz = g[ix] * scal\n",
    "hz = h[ix][:,ix] * np.outer(scal, scal)\n",
    "\n",
    "rhs = np.sum(hz) + np.sum(np.diag(hz)) + 2 * (np.sum(hz, axis=0) + np.diag(hz))\n",
    "h_adjust = 50 / 7 * np.linalg.pinv(np.eye(4) + 1) @ rhs\n",
    "gz + h_adjust"
   ]
  },
  {
   "cell_type": "code",
   "execution_count": 845,
   "id": "a6dc1834-38d4-43b9-b009-8e665bbe35c4",
   "metadata": {},
   "outputs": [
    {
     "data": {
      "text/plain": [
       "array([24.66489975,  0.        , 30.62405446, 14.15065497])"
      ]
     },
     "execution_count": 845,
     "metadata": {},
     "output_type": "execute_result"
    }
   ],
   "source": [
    "gz"
   ]
  },
  {
   "cell_type": "code",
   "execution_count": 844,
   "id": "2a24f57c-5ad0-42f0-a2b2-c8ec66f935cc",
   "metadata": {},
   "outputs": [
    {
     "name": "stdout",
     "output_type": "stream",
     "text": [
      "11722.466872756158\n",
      "11722.466872756158\n",
      "11730.901870857402\n"
     ]
    }
   ],
   "source": [
    "delta = to_stat({'CD': 7.5, 'HP': 2.2, 'ATK%': 4.3})\n",
    "print(dmg.eval(stats + to_stat(sub1) + delta)[0])\n",
    "print(v + g@delta + delta@h@delta/2 )\n",
    "print(v + (gz+h_adjust)@[7.5,2.2,4.3,0] )"
   ]
  },
  {
   "cell_type": "code",
   "execution_count": 835,
   "id": "20ccdc38-4d47-4683-9b1b-ea70f710d5ba",
   "metadata": {},
   "outputs": [
    {
     "data": {
      "text/plain": [
       "array([246.64899746,   0.        , 306.24054457, 141.50654965])"
      ]
     },
     "execution_count": 835,
     "metadata": {},
     "output_type": "execute_result"
    }
   ],
   "source": [
    "gz"
   ]
  },
  {
   "cell_type": "code",
   "execution_count": 832,
   "id": "234a5588-7637-4297-b610-9f55f79b2a95",
   "metadata": {},
   "outputs": [
    {
     "data": {
      "text/plain": [
       "array([246.64899746,   0.        , 306.24054457, 141.50654965])"
      ]
     },
     "execution_count": 832,
     "metadata": {},
     "output_type": "execute_result"
    }
   ],
   "source": [
    "gz"
   ]
  },
  {
   "cell_type": "code",
   "execution_count": 828,
   "id": "81905cf6-cb56-45a2-8c0f-765354504f41",
   "metadata": {},
   "outputs": [
    {
     "data": {
      "text/plain": [
       "array([38.7371656 , 19.3685828 , 32.61589455, 25.48985385])"
      ]
     },
     "execution_count": 828,
     "metadata": {},
     "output_type": "execute_result"
    }
   ],
   "source": [
    "np.sum(hz) + np.sum(np.diag(hz)) + 2 * (np.sum(hz, axis=0) + np.diag(hz))"
   ]
  },
  {
   "cell_type": "code",
   "execution_count": 813,
   "id": "0c561285-c21c-475f-887a-23591af1105f",
   "metadata": {},
   "outputs": [
    {
     "data": {
      "text/plain": [
       "768.5811476073068"
      ]
     },
     "execution_count": 813,
     "metadata": {},
     "output_type": "execute_result"
    }
   ],
   "source": [
    "dmg0 - v"
   ]
  },
  {
   "cell_type": "code",
   "execution_count": 816,
   "id": "c7baed4c-a15b-4475-b273-08504ff98b36",
   "metadata": {},
   "outputs": [
    {
     "data": {
      "text/plain": [
       "array([[0.        , 0.        , 0.0014622 , 0.00202521],\n",
       "       [0.        , 0.        , 0.        , 0.        ],\n",
       "       [0.0014622 , 0.        , 0.        , 0.        ],\n",
       "       [0.00202521, 0.        , 0.        , 0.        ]])"
      ]
     },
     "execution_count": 816,
     "metadata": {},
     "output_type": "execute_result"
    }
   ],
   "source": [
    "h[ix][:,ix]"
   ]
  },
  {
   "cell_type": "code",
   "execution_count": null,
   "id": "f026d042-1594-4c0d-9f6b-c944267ddaf7",
   "metadata": {},
   "outputs": [],
   "source": [
    "h[ix][:,ix]"
   ]
  },
  {
   "cell_type": "code",
   "execution_count": 814,
   "id": "10411b32-138f-40d1-95b3-7023d24fffb7",
   "metadata": {},
   "outputs": [
    {
     "data": {
      "text/plain": [
       "array([[ 0.8, -0.2, -0.2, -0.2],\n",
       "       [-0.2,  0.8, -0.2, -0.2],\n",
       "       [-0.2, -0.2,  0.8, -0.2],\n",
       "       [-0.2, -0.2, -0.2,  0.8]])"
      ]
     },
     "execution_count": 814,
     "metadata": {},
     "output_type": "execute_result"
    }
   ],
   "source": [
    "np.linalg.pinv(np.eye(4) + 1)"
   ]
  },
  {
   "cell_type": "code",
   "execution_count": 809,
   "id": "71c99dc1-fad2-4cc8-8d1f-87fd5b413f0b",
   "metadata": {},
   "outputs": [
    {
     "data": {
      "text/plain": [
       "array([246.64899746,   0.        , 306.24054457, 141.50654965])"
      ]
     },
     "execution_count": 809,
     "metadata": {},
     "output_type": "execute_result"
    }
   ],
   "source": [
    "g[ix] * scal"
   ]
  },
  {
   "cell_type": "code",
   "execution_count": 807,
   "id": "8cc784a3-3a07-4f72-88cb-3a996be037e8",
   "metadata": {},
   "outputs": [
    {
     "data": {
      "text/plain": [
       "array([262.90534328, 323.39378847,   0.        , 145.50356492])"
      ]
     },
     "execution_count": 807,
     "metadata": {},
     "output_type": "execute_result"
    }
   ],
   "source": [
    "g[ix] * scal"
   ]
  },
  {
   "cell_type": "code",
   "execution_count": 787,
   "id": "b14b4305-80c8-478f-ab86-c1970e167400",
   "metadata": {},
   "outputs": [
    {
     "data": {
      "text/plain": [
       "{'HP': 299.75,\n",
       " 'ATK': 19.45,\n",
       " 'DEF': 23.15,\n",
       " 'HP%': 58.3,\n",
       " 'ATK%': 58.3,\n",
       " 'DEF%': 72.9,\n",
       " 'EM': 23.31,\n",
       " 'ER': 6.48,\n",
       " 'CR': 38.9,\n",
       " 'CD': 77.7}"
      ]
     },
     "execution_count": 787,
     "metadata": {},
     "output_type": "execute_result"
    }
   ],
   "source": [
    "artifact2.sub_vals"
   ]
  },
  {
   "cell_type": "code",
   "execution_count": 788,
   "id": "433c518e-b64b-4817-afce-59d86a9816b0",
   "metadata": {},
   "outputs": [],
   "source": [
    "oneatk = np.zeros(len(statnames))\n",
    "oneatk[statmap['ATK%']] = 58.3\n",
    "onecd = np.zeros(len(statnames))\n",
    "onecd[statmap['CD']] = 77.7\n"
   ]
  },
  {
   "cell_type": "code",
   "execution_count": 791,
   "id": "2f756561-d261-4bee-be79-7be28b24af39",
   "metadata": {},
   "outputs": [
    {
     "name": "stdout",
     "output_type": "stream",
     "text": [
      "11709.901106047048\n",
      "11650.309558935687\n"
     ]
    }
   ],
   "source": [
    "print(dmg.eval(stats + to_stat(sub1) + oneatk)[0])\n",
    "print(dmg.eval(stats + to_stat(sub1) + onecd)[0])"
   ]
  },
  {
   "cell_type": "code",
   "execution_count": 793,
   "id": "82f92a5e-2136-4cb7-8e58-463b2544be93",
   "metadata": {},
   "outputs": [],
   "source": [
    "zz = stats + to_stat(sub1)"
   ]
  },
  {
   "cell_type": "code",
   "execution_count": 795,
   "id": "225859ca-1e8c-4018-bba3-eb38a37197f8",
   "metadata": {},
   "outputs": [
    {
     "data": {
      "text/plain": [
       "675.64"
      ]
     },
     "execution_count": 795,
     "metadata": {},
     "output_type": "execute_result"
    }
   ],
   "source": [
    "zz[statmap['ATK%']]"
   ]
  },
  {
   "cell_type": "code",
   "execution_count": 799,
   "id": "3eeafcf5-48fe-4584-9b8f-eaa72fb2469b",
   "metadata": {},
   "outputs": [
    {
     "data": {
      "text/plain": [
       "1567.42708"
      ]
     },
     "execution_count": 799,
     "metadata": {},
     "output_type": "execute_result"
    }
   ],
   "source": [
    "zz[statmap['ATK']] + zz[statmap['BaseATK']] * (1 + zz[statmap['ATK%']]/1000)"
   ]
  },
  {
   "cell_type": "code",
   "execution_count": 800,
   "id": "5da376fc-ba4c-459f-a816-dbf481c6746f",
   "metadata": {},
   "outputs": [
    {
     "data": {
      "text/plain": [
       "42.0926"
      ]
     },
     "execution_count": 800,
     "metadata": {},
     "output_type": "execute_result"
    }
   ],
   "source": [
    "zz[statmap['BaseATK']] * .0583"
   ]
  },
  {
   "cell_type": "code",
   "execution_count": 796,
   "id": "12f1feb2-3162-4f37-b418-95adf739a845",
   "metadata": {},
   "outputs": [
    {
     "data": {
      "text/plain": [
       "1041.39"
      ]
     },
     "execution_count": 796,
     "metadata": {},
     "output_type": "execute_result"
    }
   ],
   "source": [
    "zz[statmap['CD']]"
   ]
  },
  {
   "cell_type": "code",
   "execution_count": 786,
   "id": "658b84a5-7400-4f42-b361-5755cbecb6ba",
   "metadata": {},
   "outputs": [
    {
     "data": {
      "text/plain": [
       "array([[0.        , 0.        , 6.62365588, 3.06063552],\n",
       "       [0.        , 0.        , 0.        , 0.        ],\n",
       "       [6.62365588, 0.        , 0.        , 0.        ],\n",
       "       [3.06063552, 0.        , 0.        , 0.        ]])"
      ]
     },
     "execution_count": 786,
     "metadata": {},
     "output_type": "execute_result"
    }
   ],
   "source": [
    "h[ix][:,ix] * np.outer(scal, scal)"
   ]
  },
  {
   "cell_type": "code",
   "execution_count": null,
   "id": "d8b203da-cda0-49ac-b0c2-35dc0a3f9804",
   "metadata": {},
   "outputs": [
    {
     "name": "stdout",
     "output_type": "stream",
     "text": [
      "12169.443822372452\n",
      "12169.228615425942\n"
     ]
    }
   ],
   "source": [
    "dz = hat_subs\n",
    "print(dmg.eval(stats + dz)[0])\n",
    "print(v + g @ dz + dz @ h @ dz/2)"
   ]
  },
  {
   "cell_type": "code",
   "execution_count": null,
   "id": "ff749907-cf6c-4313-9970-a8daacd0ab6a",
   "metadata": {},
   "outputs": [],
   "source": []
  }
 ],
 "metadata": {
  "kernelspec": {
   "display_name": "Python 3 (ipykernel)",
   "language": "python",
   "name": "python3"
  },
  "language_info": {
   "codemirror_mode": {
    "name": "ipython",
    "version": 3
   },
   "file_extension": ".py",
   "mimetype": "text/x-python",
   "name": "python",
   "nbconvert_exporter": "python",
   "pygments_lexer": "ipython3",
   "version": "3.9.5"
  }
 },
 "nbformat": 4,
 "nbformat_minor": 5
}
