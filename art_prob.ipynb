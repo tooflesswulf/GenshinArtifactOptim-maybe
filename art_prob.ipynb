{
 "cells": [
  {
   "cell_type": "code",
   "execution_count": 1,
   "id": "f8876343-af09-4992-ac9d-0332db0e97e7",
   "metadata": {},
   "outputs": [],
   "source": [
    "import matplotlib.pyplot as plt\n",
    "import matplotlib\n",
    "from typing import Tuple\n",
    "from functools import cache\n",
    "import itertools\n",
    "import scipy.special\n",
    "import scipy.stats\n",
    "import numpy as np\n",
    "import libarti_prob\n",
    "\n",
    "%matplotlib inline\n",
    "matplotlib.rcParams['font.size'] = 20\n",
    "matplotlib.rcParams['figure.figsize'] = (16,9)\n",
    "matplotlib.rcParams['savefig.bbox'] = 'tight'"
   ]
  },
  {
   "cell_type": "markdown",
   "id": "4c919185-05f9-41d9-96a1-d25afb4c6878",
   "metadata": {},
   "source": [
    "# An implementation of artifact statistics\n",
    "This code aims to demonstrate the ideas and maths shown in the following paper: [https://www.overleaf.com/read/nvxmkdpqjprj](https://www.overleaf.com/read/nvxmkdpqjprj)\n",
    "\n",
    "I offer three contributions:\n",
    "\n",
    "1. Very fast implementation of GenshinOptimizer's existing Roll Probability Calculator. frzyc noted that it's somewhat straining the front-end, so I've made a cache-based implementation that runs in microseconds per query.\n",
    "2. A method that, given an optimization target and a current build, finds the artifact in the inventory that has the greatest chance of improving your build.\n",
    "3. A method to evaluate any particular build by scoring how difficult it would be to improve any item of the build."
   ]
  },
  {
   "cell_type": "markdown",
   "id": "51c2c1a8-ebba-4a6d-8b0c-a2e729c041df",
   "metadata": {},
   "source": [
    "## Type 1 Query (Contribution 1)\n",
    "The type 1 query behaves as:\n",
    "$$ P(A_1\\geq a_1 \\land A_2\\geq a_2\\land\\cdots)$$\n",
    "\n",
    "This is already implemented in frzyc's GenshinOptimizer, but issues regarding its computational load have been brought up. The following method I present is quite fast; with appropriate caching it reaches about 50µs per loop on my laptop. (around .05s for 1,000 queries)\n",
    "\n",
    "Also, this solution is exact."
   ]
  },
  {
   "cell_type": "code",
   "execution_count": 2,
   "id": "79d69bee-14a6-453c-824a-71ba32321e79",
   "metadata": {},
   "outputs": [],
   "source": [
    "sigma = libarti_prob.sigma\n",
    "mu = libarti_prob.mu\n",
    "\n",
    "# P(A1 >= a1 AND A2 >= a2)\n",
    "def prob1(a, N=5, b=1):\n",
    "    a = sorted(a, reverse=True)\n",
    "    ret = 0\n",
    "    for j1 in reversed(range(N+1)):\n",
    "        m1 = mu(a[0], j1+b)\n",
    "        if m1 == 0: break\n",
    "        if len(a) == 1:\n",
    "            ret += sigma([j1], n=N) * m1\n",
    "            continue\n",
    "        for j2 in reversed(range(N+1-j1)):\n",
    "            m2 = mu(a[1], j2+b)\n",
    "            if m2 == 0: break\n",
    "            if len(a) == 2:\n",
    "                ret += sigma([j1, j2], n=N) * m1*m2\n",
    "                continue\n",
    "            for j3 in reversed(range(N+1-j1-j2)):\n",
    "                m3 = mu(a[2], j3+b)\n",
    "                if m3 == 0: break\n",
    "                j4 = N-j1-j2-j3\n",
    "                mm = m1*m2*m3\n",
    "                if len(a) == 4: mm *= mu(a[3], j4+b)\n",
    "                ret += sigma([j1, j2, j3, j4], n=N) * mm\n",
    "    return ret"
   ]
  },
  {
   "cell_type": "code",
   "execution_count": 4,
   "id": "b346573d-b228-4cdd-bfd6-ce5194af6797",
   "metadata": {},
   "outputs": [],
   "source": [
    "# %timeit prob1([26,13,10,10])"
   ]
  },
  {
   "cell_type": "markdown",
   "id": "ba580290-f393-4ca8-9ef0-12725205fdab",
   "metadata": {},
   "source": [
    "### Type 1 Query on existing artifact\n",
    "Existing artifacts reduce to a special case of the previous query. Since they're practically the same query, the runtime is essentially the same, and is faster if `rolls_left` is smaller."
   ]
  },
  {
   "cell_type": "code",
   "execution_count": 5,
   "id": "3981983e-6b5f-4e26-b624-caae18c40527",
   "metadata": {},
   "outputs": [],
   "source": [
    "def p1_existing(requirements, existing, rolls_left):\n",
    "    transformed_requirements = []\n",
    "    for ai, az in zip(requirements, existing):\n",
    "        transformed_requirements.append(ai - az)\n",
    "    \n",
    "    return prob1(transformed_requirements, N=rolls_left, b=0)"
   ]
  },
  {
   "cell_type": "markdown",
   "id": "8ee8d6f8-423f-42ba-b25e-bc61ba63ddd0",
   "metadata": {},
   "source": [
    "## Type 2 Query\n",
    "The type 2 query behaves as:\n",
    "$$ P(k_1A_1 + k_2A_2 + \\cdots\\geq d^*)$$\n",
    "\n",
    "It will be useful later down the line."
   ]
  },
  {
   "cell_type": "code",
   "execution_count": 6,
   "id": "875606bd-1a0c-4e0b-8dd0-ed6f82b6398d",
   "metadata": {},
   "outputs": [],
   "source": [
    "# thr-  threshold value (d*)\n",
    "# ks -  weight values\n",
    "# N  -  num rolls\n",
    "# b  -  number of guaranteed rolls for each substat\n",
    "# E  -  returns E[d | d > d*]\n",
    "def prob2(thr, ks, N=5, b=1, fast=True, exact=False, E=False):\n",
    "    if not fast:\n",
    "        return prob2_slow(thr, ks, N, b, exact=exact, E=E)\n",
    "    \n",
    "    ks = np.array(ks)\n",
    "    n4b = N + 4*b\n",
    "    mu = 17/8*n4b * np.sum(ks)\n",
    "    var = (5/16*n4b + N*289/16)*np.sum(ks**2) - N*(17/8*np.sum(ks))**2\n",
    "    if np.isclose(var, 0):\n",
    "        if mu > thr:\n",
    "            if E: return np.array([1, mu - thr])\n",
    "            return 1\n",
    "        if E: return np.array([0, 0])\n",
    "        return 0\n",
    "    \n",
    "    p = scipy.special.erfc((thr - mu) / np.sqrt(2 * var)) / 2\n",
    "    if E:\n",
    "        if np.isclose(p, 0): return np.array([p, 0])\n",
    "        phi = np.exp(-(thr-mu)**2 /var/2)/np.sqrt(2*np.pi)\n",
    "        return np.array([p, mu + np.sqrt(var) * phi / p - thr])\n",
    "    return p\n",
    "\n",
    "@cache\n",
    "def nk3(n, k):\n",
    "    return sum([scipy.special.binom(n, i) * scipy.special.binom(n, k-2*i) for i in range(k//2+1)])\n",
    "\n",
    "def exact_vs(ks, js):\n",
    "    if len(ks) == 0:\n",
    "        return np.array([[0, 1]])\n",
    "    \n",
    "    k, j = ks[-1], js[-1]\n",
    "    pr1 = np.array([(k*i, nk3(j, i-7*j) / 4**j) for i in range(7*j, 10*j+1)])\n",
    "    pr2 = exact_vs(ks[:-1], js[:-1])\n",
    "    \n",
    "    res = {}\n",
    "    for v1, p1 in pr1:\n",
    "        for v2, p2 in pr2:\n",
    "            res[v1 + v2] = res.get(v1+v2, 0) + p1*p2\n",
    "    return np.array([(k, v) for k, v in res.items()])\n",
    "\n",
    "\n",
    "def subsum(z):\n",
    "    for i in range(z+1):\n",
    "        for j in range(z-i+1):\n",
    "            for k in range(z-i-j+1):\n",
    "                yield (i, j, k, z-i-j-k)\n",
    "\n",
    "def prob2_slow(thr, ks, N=5, b=1, exact=False, E=False):\n",
    "    if E:\n",
    "        raise NotImplemented()\n",
    "    reps = 0\n",
    "    ks = np.array(ks)\n",
    "    \n",
    "    ptot = 0\n",
    "    if len(ks) == 4:\n",
    "        it = subsum(N)\n",
    "    else:\n",
    "        it = filter(lambda x: sum(x) <= N, itertools.product(range(N+1), repeat=len(ks)))\n",
    "    for js in it:\n",
    "        js2 = np.array(js) + b\n",
    "        mn = sigma(js, n=N)\n",
    "        if mn == 0: continue\n",
    "        \n",
    "        if thr <= 7*np.sum(ks * js2):\n",
    "            ptot += mn\n",
    "            continue\n",
    "        elif thr > 10*np.sum(ks * js2):\n",
    "            continue\n",
    "\n",
    "        if exact:\n",
    "            ext = exact_vs(ks, js2)\n",
    "            p_est = sum([p for v, p in ext if v > thr])\n",
    "        else:\n",
    "            mu = 8.5 * np.sum(ks * js2)\n",
    "            var = 1.25 * np.sum(ks*ks * js2)\n",
    "            p_est = scipy.special.erfc((thr - mu) / np.sqrt(2 * var)) / 2\n",
    "        ptot += mn * p_est\n",
    "    return ptot\n"
   ]
  },
  {
   "cell_type": "code",
   "execution_count": 7,
   "id": "a19371bb-b290-436c-955c-a8bb63d064cd",
   "metadata": {},
   "outputs": [
    {
     "name": "stdout",
     "output_type": "stream",
     "text": [
      "Approx (fast) P(100EM or 15CR): 0.4041975884216023\n",
      "Approx (slow) P(100EM or 15CR): 0.425874154717938\n",
      "Exact         P(100EM or 15CR): 0.415463924407959\n"
     ]
    }
   ],
   "source": [
    "print(f'Approx (fast) P(100EM or 15CR): {prob2(38.6, [.9, 1])}')\n",
    "print(f'Approx (slow) P(100EM or 15CR): {prob2(38.6, [.9, 1], fast=False)}')\n",
    "print(f'Exact         P(100EM or 15CR): {prob2(38.6, [.9, 1], fast=False, exact=True)}')"
   ]
  },
  {
   "cell_type": "code",
   "execution_count": 8,
   "id": "53b93ae2-c7ed-4b3c-b3ed-21c82adb9f93",
   "metadata": {},
   "outputs": [
    {
     "data": {
      "text/plain": [
       "0.00140380859375"
      ]
     },
     "execution_count": 8,
     "metadata": {},
     "output_type": "execute_result"
    }
   ],
   "source": [
    "prob2(50, [.77777,.77777,0,0], fast=False, exact=True)"
   ]
  },
  {
   "cell_type": "markdown",
   "id": "a378d318-829b-4944-98d3-e2c9d37cb9ee",
   "metadata": {},
   "source": [
    "### Timings\n",
    "Here I've tested the timing of [Fast], [Slow], and [Exact]. [Fast] is blazing fast, but is prone to being inaccurate for certain combinations of weights. [Slow] is 10x slower, but has small error bounds that we can take advantage of. There is never a real reason to use the [Exact] solver because [Slow] will always be within 1-2% of the true value."
   ]
  },
  {
   "cell_type": "code",
   "execution_count": 9,
   "id": "3808b22f-5886-4e5d-8deb-76caaeeee6e6",
   "metadata": {},
   "outputs": [],
   "source": [
    "# %timeit prob2(38.6, [.9, 1])"
   ]
  },
  {
   "cell_type": "code",
   "execution_count": 10,
   "id": "c189480c-44fb-4449-b3f4-3c02ce8ce2d0",
   "metadata": {},
   "outputs": [],
   "source": [
    "# %timeit prob2(38.6, [.9, 1], fast=False)"
   ]
  },
  {
   "cell_type": "code",
   "execution_count": 11,
   "id": "36b13ef6-d72d-4154-b58b-ee7c0578a867",
   "metadata": {},
   "outputs": [],
   "source": [
    "# %timeit prob2(38.6, [.9, 1], fast=False, exact=True)"
   ]
  },
  {
   "cell_type": "markdown",
   "id": "efc02b13-7b23-4377-b979-9aea485fb1f5",
   "metadata": {},
   "source": [
    "## Connection to the Damage Formula\n",
    "The following couple blocks set up my damage evaluation schema, where I've manually filled in some standard(ish) values.\n",
    "\n",
    "All the percent- values are multiplied by 1000 for some reason."
   ]
  },
  {
   "cell_type": "code",
   "execution_count": 12,
   "id": "0c4dca34-603e-44aa-8a3f-9a2ae02e3119",
   "metadata": {},
   "outputs": [],
   "source": [
    "import artifact2\n",
    "import damage2\n",
    "import random\n",
    "from util.common import statnames, statmap, slotnames"
   ]
  },
  {
   "cell_type": "code",
   "execution_count": 13,
   "id": "221438a1-faac-4f6a-8ff9-3eb263fcef14",
   "metadata": {},
   "outputs": [],
   "source": [
    "# Stats of lvl 90 Diona w/ protype crescent\n",
    "diona_stats = np.zeros(len(statnames))\n",
    "diona_stats[statmap['HP']] = 9570\n",
    "diona_stats[statmap['BaseATK']] = 722\n",
    "diona_stats[statmap['ATK%']] = 413\n",
    "diona_stats[statmap['DEF']] = 601\n",
    "diona_stats[statmap['CR']] = 50\n",
    "diona_stats[statmap['CD']] = 500\n",
    "diona_stats[statmap['ER']] = 1000\n",
    "diona_stats[statmap['Cryo']] = 240"
   ]
  },
  {
   "cell_type": "code",
   "execution_count": 14,
   "id": "889116df-0794-4336-963c-15ebb50af89d",
   "metadata": {},
   "outputs": [],
   "source": [
    "# The artifacts I have equipped\n",
    "flower = np.zeros(len(statnames))\n",
    "flower[statmap['HP']] = 4780\n",
    "flower[statmap['ATK']] = 33\n",
    "flower[statmap['DEF']] = 16\n",
    "flower[statmap['EM']] = 82\n",
    "flower[statmap['CD']] = 140\n",
    "\n",
    "feather = np.zeros(len(statnames))\n",
    "feather[statmap['ATK']] = 311\n",
    "feather[statmap['ER']] = 162\n",
    "feather[statmap['DEF']] = 37\n",
    "feather[statmap['CR']] = 31\n",
    "feather[statmap['CD']] = 192\n",
    "\n",
    "sands = np.zeros(len(statnames))\n",
    "sands[statmap['EM']] = 187\n",
    "sands[statmap['HP']] = 538\n",
    "sands[statmap['DEF']] = 39\n",
    "sands[statmap['CR']] = 124\n",
    "sands[statmap['CD']] = 78\n",
    "\n",
    "cup = np.zeros(len(statnames))\n",
    "cup[statmap['Cryo']] = 466\n",
    "cup[statmap['HP%']] = 47\n",
    "cup[statmap['ATK%']] = 111\n",
    "cup[statmap['ER']] = 220\n",
    "cup[statmap['EM']] = 16\n",
    "\n",
    "hat = np.zeros(len(statnames))\n",
    "hat[statmap['CR']] = 311\n",
    "hat[statmap['HP']] = 299\n",
    "hat[statmap['CD']] = 155\n",
    "hat[statmap['ATK%']] = 105\n",
    "hat[statmap['EM']] = 56"
   ]
  },
  {
   "cell_type": "code",
   "execution_count": 15,
   "id": "b7eb6461-4e0d-4e26-a8c8-e34a8bee8c0a",
   "metadata": {},
   "outputs": [
    {
     "name": "stdout",
     "output_type": "stream",
     "text": [
      "Current damage per charged shot: 20761.071160967404\n"
     ]
    }
   ],
   "source": [
    "dmg = damage2.NormalDmg(2.23) * damage2.CritMult() * damage2.VapeMelt(1.5) * damage2.DmgBonus('Cryo')\n",
    "stats = diona_stats + flower + feather + sands + cup + hat\n",
    "print(f'Current damage per charged shot: {dmg.eval(stats)[0]}')"
   ]
  },
  {
   "cell_type": "markdown",
   "id": "b5c68ca0-2fdd-4425-b83b-b4f76079778a",
   "metadata": {},
   "source": [
    "## Queries for replacing an artifact (Contribution 2)\n",
    "Let's say I have a couple candidate artifacts to upgrade. All of them are EM sands, and they are all at lvl 0."
   ]
  },
  {
   "cell_type": "code",
   "execution_count": 16,
   "id": "27698d2e-e93f-4a73-a9a0-920159e8b4db",
   "metadata": {},
   "outputs": [],
   "source": [
    "def to_stat(subs):\n",
    "    st = np.zeros(len(statnames))\n",
    "    for k, v in subs.items():\n",
    "        st[statmap[k]] = v * artifact2.sub_vals[k] / 10\n",
    "    return st\n",
    "\n",
    "# Finds linear approximation of 4x4 Hessian\n",
    "def appx_hessian2(H, k=1):\n",
    "    a = np.sum(H) + np.trace(H)\n",
    "    b = np.sum(H, axis=0) + np.diag(H)\n",
    "    \n",
    "    lhs = np.zeros(5)\n",
    "    lhs[1:] = k / 7 * (a + 2*b)\n",
    "    lhs[0] = k / 6 * a\n",
    "    \n",
    "    rhs_inv = 1 + np.eye(5)\n",
    "    rhs_inv[:,0] = -6\n",
    "    rhs_inv[0,:] = -k\n",
    "    rhs_inv[0,0] = 5*k\n",
    "    gv = rhs_inv @ lhs\n",
    "    return gv[0], gv[1:]"
   ]
  },
  {
   "cell_type": "code",
   "execution_count": 17,
   "id": "43ec6936-c5b9-4725-a215-567152f7007c",
   "metadata": {},
   "outputs": [],
   "source": [
    "class QueryHandle:\n",
    "    def __init__(self, char_stats, artis, dmg):\n",
    "        self.dmg = dmg\n",
    "        self.ch = char_stats\n",
    "        self.a = artis\n",
    "        \n",
    "        self.slot = None\n",
    "        self.a2 = None\n",
    "        \n",
    "        self.dmg0, _, _ = self.dmg.eval(sum(self.a, start=self.ch))\n",
    "    \n",
    "    def set_slot(self, slot, main):\n",
    "        if isinstance(slot, str):\n",
    "            slot = slotnames.index(slot)\n",
    "        self.slot = slot\n",
    "        self.a2 = np.zeros(len(statnames))\n",
    "        self.a2[statmap[main]] = artifact2.main_vals[main]\n",
    "        self.vgh = self.dmg.eval(self._stat())\n",
    "        \n",
    "    def _stat(self, slot=None, main=None):\n",
    "        if slot is not None:\n",
    "            self.set_slot(slot, main)\n",
    "\n",
    "        ret = self.ch\n",
    "        for i, a in enumerate(self.a):\n",
    "            if i == self.slot:\n",
    "                ret = ret + self.a2\n",
    "                continue\n",
    "            ret = ret + a\n",
    "        return ret\n",
    "    \n",
    "    def _resolve_lpd(self, lpd, E=False):\n",
    "        if E:\n",
    "            ptot, dtot = 0, 0\n",
    "            for l, (p, d) in lpd:\n",
    "                ptot += l*p\n",
    "                dtot += l*p*d\n",
    "            if np.isclose(ptot, 0): return 0, 0\n",
    "            return ptot, dtot/ptot\n",
    "        return np.sum(np.prod(lpd, axis=1))\n",
    "\n",
    "    def linearize(self, subs, rolls=5):\n",
    "        if self.slot is None: raise RuntimeError('Need to specify a slot first!')\n",
    "        ixs = [statmap[k] for k in subs]\n",
    "        if np.all(to_stat(subs) == 0):\n",
    "            v, g, h = self.vgh\n",
    "        else:\n",
    "            v, g, h = self.dmg.eval(self._stat() + to_stat(subs))\n",
    "\n",
    "        ix_names = [statnames[s] for s in ixs]\n",
    "        scale = np.array([artifact2.sub_vals[k]/10 for k in ix_names])\n",
    "\n",
    "        gnorm = g[ixs] * scale\n",
    "        hnorm = h[ixs][:,ixs] * np.outer(scale, scale)\n",
    "        if len(ixs) == 3:\n",
    "            # force the thing to be 4x4.\n",
    "            gnorm = np.append(gnorm, 0)\n",
    "            hnorm = np.pad(hnorm, [0,1])\n",
    "            rolls = 4\n",
    "        c0, h_lin = appx_hessian2(hnorm, k=10*rolls)\n",
    "        return v + c0, gnorm + h_lin / 2\n",
    "    \n",
    "    def eval_arti(self, subs, rolls=0, fast=True, E=False):\n",
    "        rolls_left = 5 - rolls\n",
    "        if len(subs) == 3:\n",
    "            rolls_left = 4\n",
    "\n",
    "        c, m = self.linearize(subs, rolls_left)\n",
    "        return prob2(self.dmg0 - c, m, N=rolls_left, b=0, fast=fast, E=E)\n",
    "    \n",
    "    def eval_sub(self, subs, p3sub=.8, fast=True, E=False):\n",
    "        rolls_left = 5 + 4\n",
    "        c, m = self.linearize(subs, rolls_left)\n",
    "        \n",
    "        lpd = []\n",
    "        lpd.append([p3sub, prob2(self.dmg0 - c, m, N=4, b=1, fast=fast, E=E)])\n",
    "        lpd.append([1-p3sub, prob2(self.dmg0 - c, m, N=5, b=1, fast=fast, E=E)])\n",
    "        return self._resolve_lpd(lpd, E)\n",
    "    \n",
    "    def eval_slot(self, slot, p3sub=.8, fast=True, E=False):\n",
    "        main_distr = artifact2.mainstat[slot].distr\n",
    "        main_denom = sum(main_distr.values())\n",
    "        lpd = []\n",
    "        for main, v_main in main_distr.items():\n",
    "            p_main = v_main / main_denom\n",
    "            self.set_slot(slot, main)\n",
    "            \n",
    "            sub_distr = artifact2.substat\n",
    "            sub_distr = sub_distr.remove(main)\n",
    "            for c in itertools.combinations(sub_distr.k, 4):\n",
    "                prb = p_main * libarti_prob.p_subs(c, main)\n",
    "                c2 = {cc: 0 for cc in c}\n",
    "                lpd.append([prb, self.eval_sub(c2, p3sub=p3sub, fast=fast, E=E)])\n",
    "        return self._resolve_lpd(lpd, E)\n",
    "\n",
    "    def dmg_per_arti(self, p3sub=.8):\n",
    "        lpd = []\n",
    "        for i in range(5):\n",
    "            lpd.append([1/5, self.eval_slot(i, p3sub=p3sub, E=True)])\n",
    "        p, d = self._resolve_lpd(lpd, E=True)\n",
    "        return -d * p * np.log(p) / (1-p)\n"
   ]
  },
  {
   "cell_type": "code",
   "execution_count": 18,
   "id": "0d16c210-29ae-4fa4-b4c9-140604b5cd27",
   "metadata": {},
   "outputs": [],
   "source": [
    "qh = QueryHandle(diona_stats, [flower, feather, sands, cup, hat], dmg)"
   ]
  },
  {
   "cell_type": "code",
   "execution_count": 19,
   "id": "4c2e6fc8-c38e-445d-8447-abf9ecda9b76",
   "metadata": {},
   "outputs": [],
   "source": [
    "# Pretend all of these are unupgraded EM main-stat sands.\n",
    "qh.set_slot('Sands', 'EM')\n",
    "sub1 = {'CD': 7, 'HP': 9, 'ATK%': 8, 'ATK': 7}\n",
    "sub2 = {'CD': 8, 'CR': 9, 'HP': 10, 'ATK': 7}\n",
    "sub3 = {'CD': 10, 'CR': 10, 'ATK%': 9}\n",
    "sub4 = {'ATK': 8, 'DEF': 10, 'ATK%': 9, 'HP': 9}\n",
    "sub5 = {'ATK': 7, 'ATK%': 10, 'CR': 8}"
   ]
  },
  {
   "cell_type": "code",
   "execution_count": 20,
   "id": "cd41552a-b400-45c3-b303-f5e95d9ae9c2",
   "metadata": {},
   "outputs": [
    {
     "name": "stdout",
     "output_type": "stream",
     "text": [
      "Probability that upgrading option 1 will improve your total damage:\n",
      "  0.45733313255119795\n"
     ]
    }
   ],
   "source": [
    "print(f'Probability that upgrading option 1 will improve your total damage:')\n",
    "print(f'  {qh.eval_arti(sub1)}')"
   ]
  },
  {
   "cell_type": "markdown",
   "id": "a7434d7d-6911-4562-834d-1e8cb3ae0914",
   "metadata": {},
   "source": [
    "### Testing the maths\n",
    "The validity of my maths are evaluated by upgrading some un-upgraded artifact 10,000 times and comparing the predicted probability with the observed probability."
   ]
  },
  {
   "cell_type": "code",
   "execution_count": 23,
   "id": "3428edeb-5efb-475c-ac49-1d2b5ff9b5b1",
   "metadata": {},
   "outputs": [],
   "source": [
    "def upgrade_artifact(subs_init, nn=5):\n",
    "    up_locs = np.random.randint(4, size=nn)\n",
    "    up_vals = np.random.randint(7, 11, size=nn)\n",
    "    \n",
    "    new_subs = {}\n",
    "    for i, k in enumerate(subs_init):\n",
    "        new_subs[k] = up_vals[up_locs == i].sum() + subs_init[k]\n",
    "    return new_subs\n",
    "\n",
    "artis = [flower, feather, sands, cup, hat]\n",
    "def mc_artiprob(subs, N=1000, return_values=False):\n",
    "    global dmg0\n",
    "    global stats\n",
    "    slot = 2\n",
    "    sand0 = np.zeros_like(diona_stats)\n",
    "    sand0[statmap['EM']] = 187\n",
    "    stats = diona_stats + sum([a for i, a in enumerate(artis) if i != slot])\n",
    "    dmg0 = dmg.eval(stats + artis[slot])[0]\n",
    "    stats = stats + sand0\n",
    "    \n",
    "    num_ups = 5 - (4 - len(subs))\n",
    "    test_vals = [dmg.eval(stats + to_stat(upgrade_artifact(subs, nn=num_ups)))[0] for _ in range(N)]\n",
    "    prb = np.count_nonzero(np.array(test_vals) > dmg0) / N\n",
    "    if return_values:\n",
    "        return prb, np.array(test_vals)\n",
    "    return prb"
   ]
  },
  {
   "cell_type": "code",
   "execution_count": 22,
   "id": "fae38e98-d1e0-419f-b236-1b97b422a414",
   "metadata": {},
   "outputs": [
    {
     "name": "stdout",
     "output_type": "stream",
     "text": [
      "Math predictions (fast):\t0.6398567946916713\n",
      "Math predictions (slow):\t0.6416270988319123\n",
      "Simulated Value:\t\t0.664\n"
     ]
    }
   ],
   "source": [
    "print(f'Math predictions (fast):\\t{qh.eval_arti(sub2, fast=True)}')\n",
    "print(f'Math predictions (slow):\\t{qh.eval_arti(sub2, fast=False)}')\n",
    "print(f'Simulated Value:\\t\\t{mc_artiprob(sub2, N=10000)}')"
   ]
  },
  {
   "cell_type": "code",
   "execution_count": 34,
   "id": "301611f0-673f-4e1d-8f34-dc5454f64beb",
   "metadata": {},
   "outputs": [],
   "source": [
    "_, vv = mc_artiprob(sub2, N=100000, return_values=True)"
   ]
  },
  {
   "cell_type": "code",
   "execution_count": 46,
   "id": "e545fbf5-ad43-40fb-9bf7-44e08ee99acc",
   "metadata": {},
   "outputs": [],
   "source": [
    "c, m = qh.linearize(sub2, 5)"
   ]
  },
  {
   "cell_type": "code",
   "execution_count": 59,
   "id": "30c97d2e-117e-4da6-85a8-fdd3aee0416c",
   "metadata": {},
   "outputs": [
    {
     "data": {
      "text/plain": [
       "0.6398567946916713"
      ]
     },
     "execution_count": 59,
     "metadata": {},
     "output_type": "execute_result"
    }
   ],
   "source": [
    "ks = np.array(m)\n",
    "n4b = 5\n",
    "mu = 17/8*n4b * np.sum(ks)\n",
    "var = (5/16*n4b + 5*289/16)*np.sum(ks**2) - 5*(17/8*np.sum(ks))**2\n",
    "thr = qh.dmg0 - c\n",
    "if np.isclose(var, 0):\n",
    "    if mu > thr:\n",
    "        p = 1\n",
    "    else:\n",
    "        p = 0\n",
    "\n",
    "p = scipy.special.erfc((thr - mu) / np.sqrt(2 * var)) / 2\n",
    "p"
   ]
  },
  {
   "cell_type": "code",
   "execution_count": 65,
   "id": "1389ec55-327a-4961-82c2-ffef31743fc2",
   "metadata": {},
   "outputs": [
    {
     "data": {
      "text/plain": [
       "20918.413918460086"
      ]
     },
     "execution_count": 65,
     "metadata": {},
     "output_type": "execute_result"
    }
   ],
   "source": [
    "mu + c"
   ]
  },
  {
   "cell_type": "code",
   "execution_count": 64,
   "id": "8e931cd8-2eba-406a-a2ca-3f4fc1b799eb",
   "metadata": {},
   "outputs": [
    {
     "data": {
      "text/plain": [
       "20761.071160967404"
      ]
     },
     "execution_count": 64,
     "metadata": {},
     "output_type": "execute_result"
    }
   ],
   "source": [
    "qh.dmg0 - c + c"
   ]
  },
  {
   "cell_type": "code",
   "execution_count": 92,
   "id": "acf0598b-a233-4680-baa4-bc7b9a9792fb",
   "metadata": {},
   "outputs": [],
   "source": [
    "def gaussian(x, mu, var):\n",
    "    return np.exp(-np.power(x - mu, 2.) / (2 * var)) / np.sqrt(2*np.pi*var)\n",
    "\n",
    "def erf(x, mu, var):\n",
    "    return (1 + scipy.special.erf((x - mu) / np.sqrt(2 * var))) / 2"
   ]
  },
  {
   "cell_type": "code",
   "execution_count": 135,
   "id": "80aab5a0-612e-4c9e-beed-d5c98feff1e1",
   "metadata": {},
   "outputs": [
    {
     "data": {
      "text/plain": [
       "[<matplotlib.lines.Line2D at 0x17e243490>]"
      ]
     },
     "execution_count": 135,
     "metadata": {},
     "output_type": "execute_result"
    },
    {
     "data": {
      "image/png": "[encoded data removed]",
      "text/plain": [
       "<Figure size 1152x648 with 1 Axes>"
      ]
     },
     "metadata": {
      "needs_background": "light"
     },
     "output_type": "display_data"
    }
   ],
   "source": [
    "# x = np.linspace(np.amin(vv), np.amax(vv), 1000)\n",
    "x = np.sort(vv)\n",
    "plt.plot(x, np.linspace(0,1,(len(x))))\n",
    "plt.plot(x, erf(x, mu+c+30, 1.05*var))\n",
    "# plt.plot(x, np.linspace(0,1,(len(x))) - erf(x, mu+c+30, 1.05*var))"
   ]
  },
  {
   "cell_type": "markdown",
   "id": "d9c5764b-3152-498c-b1fc-98b0cfe25e9e",
   "metadata": {},
   "source": [
    "### Timings\n",
    "Now [Fast] is about 5x faster than [Slow]. There may be a slight difference in accuracy, but I personally don't think it matters all that much."
   ]
  },
  {
   "cell_type": "code",
   "execution_count": 21,
   "id": "1b88d943-b769-4abb-83f2-74aee9b5e5c4",
   "metadata": {},
   "outputs": [
    {
     "name": "stdout",
     "output_type": "stream",
     "text": [
      "106 µs ± 1.38 µs per loop (mean ± std. dev. of 7 runs, 10,000 loops each)\n"
     ]
    }
   ],
   "source": [
    "%timeit qh.eval_arti(sub1)"
   ]
  },
  {
   "cell_type": "code",
   "execution_count": 22,
   "id": "34620eb7-1362-4636-bfb5-33ba097793ce",
   "metadata": {},
   "outputs": [
    {
     "name": "stdout",
     "output_type": "stream",
     "text": [
      "530 µs ± 4.25 µs per loop (mean ± std. dev. of 7 runs, 1,000 loops each)\n"
     ]
    }
   ],
   "source": [
    "%timeit qh.eval_arti(sub1, fast=False)"
   ]
  },
  {
   "cell_type": "markdown",
   "id": "6c264705-b4eb-4b54-b2f9-3cef1f7e6347",
   "metadata": {},
   "source": [
    "## Querying \"completeness\" of artifact set (Contribution 3)\n",
    "We can design another query type that gives the expected amount of time it would take to improve upon your current set's total DPS. \n",
    "\n",
    "For each slot (flower, feather, etc.) and main stat (ATK%, EM, HP%, etc.) we can compute the probability that a random new artifact, once upgraded to max, will improve upon the current set's total DPS. Then we can take the weighted average of these probabilities to be the total probability that a new artifact will improve the set's DPS. The expected time we would need to farm to improve DPS is then the inverse of the probability."
   ]
  },
  {
   "cell_type": "code",
   "execution_count": 23,
   "id": "bd9a9dc6-3fcd-473e-9b51-8da5d19ed362",
   "metadata": {},
   "outputs": [
    {
     "name": "stdout",
     "output_type": "stream",
     "text": [
      "Flower -  0.03959592347242475\n",
      "Feath  -  0.27918481352149277\n",
      "Sands  -  0.03997074931008088\n",
      "Cup    -  0.024652017068497907\n",
      "Hat    -  0.0006920061380296522\n"
     ]
    }
   ],
   "source": [
    "slotprobs = []\n",
    "for i in range(5):\n",
    "    slotprobs.append(qh.eval_slot(i))\n",
    "    print(f'{slotnames[i]:7s}-  {slotprobs[-1]}')"
   ]
  },
  {
   "cell_type": "code",
   "execution_count": 24,
   "id": "554a69c4-b265-4da1-81d6-71936ce84cab",
   "metadata": {},
   "outputs": [
    {
     "name": "stdout",
     "output_type": "stream",
     "text": [
      "296 ms ± 3.86 ms per loop (mean ± std. dev. of 7 runs, 1 loop each)\n"
     ]
    }
   ],
   "source": [
    "%timeit [qh.eval_slot(i) for i in range(5)]"
   ]
  },
  {
   "cell_type": "markdown",
   "id": "a6d7d19e-f8c6-453b-9d16-a2c9cf51d25e",
   "metadata": {},
   "source": [
    "### Evaluating/Testing\n",
    "The function `QueryHandle::eval_slot` returns an estimate of the probability that a random new flower/feather/etc. will beat the current set's total damage value. We can compare the above predictions to estimates of the actual probability by creating many random artifacts below, using a Monte-Carlo approach."
   ]
  },
  {
   "cell_type": "code",
   "execution_count": 25,
   "id": "05a4855e-0726-49fd-a16d-1082ffef39bb",
   "metadata": {},
   "outputs": [],
   "source": [
    "def mc_slotprob(slot, N=1000):\n",
    "    stats = diona_stats + sum([a for i, a in enumerate(artis) if i != slot])\n",
    "    dmg0 = dmg.eval(stats + artis[slot])[0]\n",
    "    \n",
    "    num_exc = 0\n",
    "    for _ in range(N):\n",
    "        a = artifact2.make_arti(slot=slot).tostat()\n",
    "        dmg2 = dmg.eval(stats + a)[0]\n",
    "        if dmg2 > dmg0:\n",
    "            num_exc += 1\n",
    "    return num_exc / N"
   ]
  },
  {
   "cell_type": "code",
   "execution_count": 26,
   "id": "b2b2ae10-98b4-491e-a1ea-a8f64a2958fd",
   "metadata": {},
   "outputs": [
    {
     "name": "stdout",
     "output_type": "stream",
     "text": [
      "Flower -  actual: 0.0484\tapprox: 0.0396\n",
      "Feath  -  actual: 0.2881\tapprox: 0.2792\n",
      "Sands  -  actual: 0.0479\tapprox: 0.0400\n",
      "Cup    -  actual: 0.0256\tapprox: 0.0247\n",
      "Hat    -  actual: 0.0009\tapprox: 0.0007\n"
     ]
    }
   ],
   "source": [
    "# slotprobs = []\n",
    "for i in range(5):\n",
    "    print(f'{slotnames[i]:7s}-  actual: {mc_slotprob(i, N=10000):.04f}\\tapprox: {slotprobs[i]:.04f}')"
   ]
  },
  {
   "cell_type": "code",
   "execution_count": 27,
   "id": "d59d3a60-8316-4681-9ebd-92306e7a0597",
   "metadata": {},
   "outputs": [
    {
     "name": "stdout",
     "output_type": "stream",
     "text": [
      "Expected farm duration for improvement: 13.017595562030326\n"
     ]
    }
   ],
   "source": [
    "print(f'Expected farm duration for improvement: {5/sum(slotprobs)}')"
   ]
  },
  {
   "cell_type": "markdown",
   "id": "5ef4664d-7206-4333-9015-9ef42a9aadea",
   "metadata": {},
   "source": [
    "## Expected damage increase & dmg/resin\n",
    "To wrap everything up, we can even estimate the expected damage increase per artifact farmed. Define the damage per artifact ratio as:\n",
    "$$ \\omega = \\frac{\\Delta D}{N} $$\n",
    "\n",
    "where $\\Delta D$ is the increase in damage, and $N$ is the number of artifacts farmed and upgraded before finding one that increases total damage."
   ]
  },
  {
   "cell_type": "code",
   "execution_count": 28,
   "id": "8c1ca44e-9216-4fdc-bbe3-43d829e55515",
   "metadata": {},
   "outputs": [
    {
     "data": {
      "text/plain": [
       "102.09499038180766"
      ]
     },
     "execution_count": 28,
     "metadata": {},
     "output_type": "execute_result"
    }
   ],
   "source": [
    "qh.dmg_per_arti()"
   ]
  },
  {
   "cell_type": "code",
   "execution_count": 33,
   "id": "e06a8bee-3fdd-4922-b6c8-96b14901d7a5",
   "metadata": {},
   "outputs": [],
   "source": [
    "def mc_dpa_prob(N=1000):\n",
    "    stats = diona_stats + sum([a for i, a in enumerate(artis)])\n",
    "    dmg0 = dmg.eval(stats)[0]\n",
    "    \n",
    "    vs = []\n",
    "    for _ in range(N):\n",
    "        n = 0\n",
    "        while True:\n",
    "            n += 1\n",
    "            a = artifact2.make_arti()\n",
    "            dmg2 = dmg.eval(stats + a.tostat() - artis[a.slot])[0]\n",
    "            if dmg2 > dmg0: break\n",
    "        vs.append((dmg2 - dmg0) / n)\n",
    "    print(np.mean(vs), np.std(vs))\n",
    "    return vs"
   ]
  },
  {
   "cell_type": "code",
   "execution_count": 34,
   "id": "7244de29-fb22-4041-8af3-f5138fbd563b",
   "metadata": {},
   "outputs": [
    {
     "name": "stdout",
     "output_type": "stream",
     "text": [
      "120.50532793428289 204.43195502587247\n"
     ]
    }
   ],
   "source": [
    "_ = mc_dpa_prob()"
   ]
  },
  {
   "cell_type": "code",
   "execution_count": 38,
   "id": "5c2ca93d-3461-43ed-aa89-6f2e37f30511",
   "metadata": {},
   "outputs": [
    {
     "data": {
      "text/plain": [
       "(array([426., 182., 100.,  71.,  48.,  32.,  21.,  13.,  14.,  11.,  10.,\n",
       "          9.,   7.,   5.,   6.,   7.,   4.,   2.,   1.,   7.,   3.,   1.,\n",
       "          4.,   1.,   1.,   0.,   1.,   1.,   2.,   0.,   2.,   1.,   1.,\n",
       "          0.,   1.,   0.,   0.,   0.,   0.,   1.,   0.,   0.,   1.,   1.,\n",
       "          0.,   0.,   0.,   1.,   0.,   1.]),\n",
       " array([7.56808933e-02, 3.64998020e+01, 7.29239230e+01, 1.09348044e+02,\n",
       "        1.45772165e+02, 1.82196286e+02, 2.18620407e+02, 2.55044528e+02,\n",
       "        2.91468649e+02, 3.27892771e+02, 3.64316892e+02, 4.00741013e+02,\n",
       "        4.37165134e+02, 4.73589255e+02, 5.10013376e+02, 5.46437497e+02,\n",
       "        5.82861618e+02, 6.19285739e+02, 6.55709860e+02, 6.92133981e+02,\n",
       "        7.28558102e+02, 7.64982223e+02, 8.01406344e+02, 8.37830466e+02,\n",
       "        8.74254587e+02, 9.10678708e+02, 9.47102829e+02, 9.83526950e+02,\n",
       "        1.01995107e+03, 1.05637519e+03, 1.09279931e+03, 1.12922343e+03,\n",
       "        1.16564756e+03, 1.20207168e+03, 1.23849580e+03, 1.27491992e+03,\n",
       "        1.31134404e+03, 1.34776816e+03, 1.38419228e+03, 1.42061640e+03,\n",
       "        1.45704052e+03, 1.49346464e+03, 1.52988877e+03, 1.56631289e+03,\n",
       "        1.60273701e+03, 1.63916113e+03, 1.67558525e+03, 1.71200937e+03,\n",
       "        1.74843349e+03, 1.78485761e+03, 1.82128173e+03]),\n",
       " <BarContainer object of 50 artists>)"
      ]
     },
     "execution_count": 38,
     "metadata": {},
     "output_type": "execute_result"
    },
    {
     "data": {
      "image/png": "[encoded data removed]",
      "text/plain": [
       "<Figure size 1152x648 with 1 Axes>"
      ]
     },
     "metadata": {
      "needs_background": "light"
     },
     "output_type": "display_data"
    }
   ],
   "source": [
    "plt.hist(_, bins=50)"
   ]
  },
  {
   "cell_type": "code",
   "execution_count": null,
   "id": "fbb0b185-8404-4ca7-9210-6fabcaaef61b",
   "metadata": {},
   "outputs": [],
   "source": []
  }
 ],
 "metadata": {
  "kernelspec": {
   "display_name": "Python 3 (ipykernel)",
   "language": "python",
   "name": "python3"
  },
  "language_info": {
   "codemirror_mode": {
    "name": "ipython",
    "version": 3
   },
   "file_extension": ".py",
   "mimetype": "text/x-python",
   "name": "python",
   "nbconvert_exporter": "python",
   "pygments_lexer": "ipython3",
   "version": "3.10.1"
  }
 },
 "nbformat": 4,
 "nbformat_minor": 5
}
