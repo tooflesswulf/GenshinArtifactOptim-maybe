{
 "cells": [
  {
   "cell_type": "code",
   "execution_count": 1,
   "id": "133d6e71-6780-475b-a671-e677d3732cb8",
   "metadata": {},
   "outputs": [],
   "source": [
    "import numpy as np\n",
    "import matplotlib.pyplot as plt\n",
    "import pandas as pd\n",
    "from dataclasses import dataclass\n",
    "from typing import Tuple\n",
    "import random\n",
    "from multiprocessing.pool import ThreadPool\n",
    "import time\n",
    "\n",
    "import artifact\n",
    "import sampler\n",
    "import char\n",
    "import damage\n",
    "import stats\n",
    "import solver\n",
    "import analysis\n",
    "from common import statnames, statmap, slotnames\n",
    "\n",
    "from IPython import display"
   ]
  },
  {
   "cell_type": "code",
   "execution_count": 2,
   "id": "6f94dcb8-f9e5-4a6d-bdf9-02dc03616406",
   "metadata": {},
   "outputs": [],
   "source": [
    "# lvl 90, talent lvl 9. weap=R5 L90 sharpshooter's\n",
    "diona = [\n",
    "    0, 9570,\n",
    "    0, 601,\n",
    "    0, 212 + 401,\n",
    "    50, 500 + 469,\n",
    "    0, 0,\n",
    "    0, 0, 0, 0, 240, 0, 0, 0, 0,\n",
    "]\n",
    "diona = stats.Stats(np.array(diona, dtype=np.float32))\n",
    "\n",
    "# Diluc base stats at A5 L80. With Lvl 90 prototype archaic.\n",
    "#  Also crimson witch 4-set.\n",
    "diluc = [\n",
    "    0, 11453,\n",
    "    0, 692,\n",
    "    0 + 276, 295 + 565,\n",
    "    50 + 144, 500,\n",
    "    0, 0,\n",
    "    0, 0, 0, 150, 0, 0, 0, 0, 0,\n",
    "]\n",
    "diluc = stats.Stats(np.array(diluc, dtype=np.float32))\n",
    "\n",
    "n1 = damage.DilucN(0)\n",
    "n2 = damage.DilucN(1)\n",
    "n3 = damage.DilucN(2)\n",
    "n4 = damage.DilucN(3)\n",
    "n1q = damage.DilucN(0, q_infuse=True)\n",
    "n2q = damage.DilucN(1, q_infuse=True)\n",
    "n3q = damage.DilucN(2, q_infuse=True)\n",
    "n4q = damage.DilucN(3, q_infuse=True)\n",
    "q = damage.DilucQ()\n",
    "e1 = damage.DilucE(0)\n",
    "e2 = damage.DilucE(1)\n",
    "e3 = damage.DilucE(2)\n",
    "\n",
    "cw_buff = lambda x: damage.StatBuff(x, 'Pyro', .075)\n",
    "q_buff = lambda x: damage.StatBuff(x, 'Pyro', .2)\n",
    "\n",
    "vape = lambda f: damage.MultRxn(f, mult=1.5 * 1.15)  # crimson witch 15% bonus\n",
    "\n",
    "tail = n1q + vape(n2q) + n3q + vape(n4q)\n",
    "tail = vape(n1q + e3) + cw_buff(tail)\n",
    "tail = n1q + vape(e2) + cw_buff(tail)\n",
    "tail = vape(n1q + e1) + cw_buff(tail)\n",
    "formula = vape(q) + q_buff(tail)\n",
    "\n",
    "# formula = vape(q + n1 + e1) + n1 + vape(e2 + n1 + e3) + n1 + vape(n2) + n3 + vape(n4)\n",
    "# formula = vape(q + n1q + e1 + e2 + n1q + e3 + n2q + n4q) + n1q + n1q + n3q\n",
    "\n",
    "# formula =  damage.DilucN(0) + damage.DilucE(0) + damage.DilucN(0) + damage.DilucE(1)\n",
    "# formula += damage.DilucN(0) + damage.DilucN(1) + damage.DilucE(1) + damage.DilucQ()\n",
    "# formula =  damage.DilucN(0) + damage.DilucN(0) + damage.DilucN(0) + damage.DilucN(1)\n",
    "# formula += damage.MultRxn(damage.DilucE(0) + damage.DilucE(1) + damage.DilucE(1) + damage.DilucQ())\n",
    "# formula += damage.MultRxn(damage.DilucN(0, q_infuse=True) + damage.DilucN(2, q_infuse=True))\n",
    "# formula += damage.DilucN(1, q_infuse=True) + damage.DilucN(3, q_infuse=True)\n",
    "# sum(damage.DilucN(i, q_infuse=True) for i in range(4))\n",
    "# formula = sum(damage.DilucN(i) for i in range(4))\n",
    "c = char.Character(diluc, formula)\n",
    "\n",
    "# formula = damage.DionaCharged(.5)\n",
    "# c = char.Character(diona, formula)"
   ]
  },
  {
   "cell_type": "code",
   "execution_count": 3,
   "id": "31c2a2b7-2c60-46d3-8f75-90c4fabba786",
   "metadata": {},
   "outputs": [
    {
     "name": "stdout",
     "output_type": "stream",
     "text": [
      "iter 0, dt: 2.844583034515381\n",
      "iter 10, dt: 8.699596881866455\n",
      "iter 20, dt: 21.660290002822876\n",
      "iter 30, dt: 22.053767919540405\n",
      "iter 40, dt: 23.30176305770874\n",
      "iter 50, dt: 27.914993047714233\n",
      "iter 60, dt: 36.07973384857178\n",
      "iter 70, dt: 39.80584096908569\n",
      "iter 80, dt: 43.20510196685791\n",
      "iter 90, dt: 51.1441011428833\n",
      "iter 100, dt: 53.17913794517517\n",
      "iter 110, dt: 60.491328954696655\n",
      "iter 120, dt: 63.32545495033264\n",
      "iter 130, dt: 68.15449595451355\n",
      "iter 140, dt: 76.0265781879425\n",
      "iter 150, dt: 76.43631601333618\n",
      "iter 160, dt: 84.9290988445282\n",
      "iter 170, dt: 91.94002985954285\n",
      "iter 180, dt: 92.27883195877075\n",
      "iter 190, dt: 97.39056396484375\n",
      "iter 200, dt: 101.02997493743896\n",
      "iter 210, dt: 107.66066408157349\n",
      "iter 220, dt: 112.56740188598633\n",
      "iter 230, dt: 114.39685797691345\n",
      "iter 240, dt: 122.5767650604248\n",
      "iter 250, dt: 124.12159514427185\n",
      "iter 260, dt: 130.45990109443665\n",
      "iter 270, dt: 137.2550048828125\n",
      "iter 280, dt: 142.83214783668518\n",
      "iter 290, dt: 147.98956680297852\n",
      "iter 300, dt: 152.68345308303833\n",
      "iter 310, dt: 157.93181586265564\n",
      "iter 320, dt: 173.41191601753235\n",
      "iter 330, dt: 175.27877187728882\n",
      "iter 340, dt: 176.68194890022278\n",
      "iter 350, dt: 182.76003289222717\n",
      "iter 360, dt: 187.81828498840332\n",
      "iter 370, dt: 201.75770115852356\n",
      "iter 380, dt: 205.81579685211182\n",
      "iter 390, dt: 209.2923309803009\n",
      "iter 400, dt: 219.06016993522644\n",
      "iter 410, dt: 219.8100221157074\n",
      "iter 420, dt: 224.5933518409729\n",
      "iter 430, dt: 229.2986409664154\n",
      "iter 440, dt: 233.65662693977356\n",
      "iter 450, dt: 239.23210906982422\n",
      "iter 460, dt: 240.46522498130798\n",
      "iter 470, dt: 246.90000891685486\n",
      "iter 480, dt: 255.45416283607483\n",
      "iter 490, dt: 257.1723380088806\n",
      "iter 500, dt: 263.8879818916321\n",
      "iter 510, dt: 273.20875906944275\n",
      "iter 520, dt: 276.8979060649872\n",
      "iter 530, dt: 278.93144702911377\n",
      "iter 540, dt: 288.6087439060211\n",
      "iter 550, dt: 292.28318786621094\n",
      "iter 560, dt: 296.84289288520813\n",
      "iter 570, dt: 304.1759259700775\n",
      "iter 580, dt: 310.46769094467163\n",
      "iter 590, dt: 317.5180459022522\n",
      "iter 600, dt: 322.6749339103699\n",
      "iter 610, dt: 328.5335750579834\n",
      "iter 620, dt: 334.2504119873047\n",
      "iter 630, dt: 341.3874399662018\n",
      "iter 640, dt: 342.5753598213196\n",
      "iter 650, dt: 350.12271785736084\n",
      "iter 660, dt: 358.49145698547363\n",
      "iter 670, dt: 359.8963189125061\n",
      "iter 680, dt: 366.0989830493927\n",
      "iter 690, dt: 373.20195508003235\n",
      "iter 700, dt: 373.38293385505676\n",
      "iter 710, dt: 378.3551290035248\n",
      "iter 720, dt: 382.9947519302368\n",
      "iter 730, dt: 388.06572580337524\n",
      "iter 740, dt: 397.10203099250793\n",
      "iter 750, dt: 406.5655767917633\n",
      "iter 760, dt: 406.68760895729065\n",
      "iter 770, dt: 414.47448205947876\n",
      "iter 780, dt: 418.02262592315674\n",
      "iter 790, dt: 433.80685210227966\n",
      "iter 800, dt: 434.2948269844055\n",
      "iter 810, dt: 435.61280393600464\n",
      "iter 820, dt: 437.24346899986267\n",
      "iter 830, dt: 441.9634988307953\n",
      "iter 840, dt: 451.9943220615387\n",
      "iter 850, dt: 455.4953730106354\n",
      "iter 860, dt: 463.9272050857544\n",
      "iter 870, dt: 467.84015107154846\n",
      "iter 880, dt: 472.7907249927521\n",
      "iter 890, dt: 479.57262682914734\n",
      "iter 900, dt: 483.880567073822\n",
      "iter 910, dt: 490.6825828552246\n",
      "iter 920, dt: 500.9799430370331\n",
      "iter 930, dt: 501.9098539352417\n",
      "iter 940, dt: 505.44378209114075\n",
      "iter 950, dt: 514.9571750164032\n",
      "iter 960, dt: 516.7375547885895\n",
      "iter 970, dt: 519.4814829826355\n",
      "iter 980, dt: 531.7708389759064\n",
      "iter 990, dt: 532.3766930103302\n",
      "532.7378258705139\n",
      "483.50595116615295\n"
     ]
    }
   ],
   "source": [
    "thresh = 300000\n",
    "def solve():\n",
    "    slv = solver.Top1(diluc, formula)\n",
    "    while slv.step() < thresh:\n",
    "        pass\n",
    "    return slv\n",
    "\n",
    "with ThreadPool() as pool:\n",
    "    t0 = time.time()\n",
    "    results = []\n",
    "    for _ in range(1000):\n",
    "        results.append(pool.apply_async(solve))\n",
    "        \n",
    "    solns = []\n",
    "    durs = []\n",
    "    for i, r in enumerate(results):\n",
    "        tstart = time.time()\n",
    "        solns.append(r.get())\n",
    "        durs.append(time.time() - tstart)\n",
    "        if i % 10 == 0:\n",
    "            display.display(f'iter {i}, dt: {time.time() - t0}')\n",
    "            display.clear_output(wait=True)\n",
    "    display.display(f'Total time: {time.time() - t0}')\n",
    "    print(sum(durs))\n"
   ]
  },
  {
   "cell_type": "code",
   "execution_count": 23,
   "id": "b4dae8ad-e272-4229-837f-54b9c584ef31",
   "metadata": {},
   "outputs": [
    {
     "data": {
      "text/plain": [
       "Loadout(dmg=-1, artis=(None, None, None, None, None))"
      ]
     },
     "execution_count": 23,
     "metadata": {},
     "output_type": "execute_result"
    }
   ],
   "source": [
    "c.artis"
   ]
  },
  {
   "cell_type": "code",
   "execution_count": 24,
   "id": "bf449b44-163d-4789-953c-725aca29545d",
   "metadata": {},
   "outputs": [
    {
     "data": {
      "text/plain": [
       "'Base dmg: 45840.93515599214'"
      ]
     },
     "execution_count": 24,
     "metadata": {},
     "output_type": "execute_result"
    }
   ],
   "source": [
    "# c.artis = [None for _ in range(5)]\n",
    "f'Base dmg: {c.eval()}'"
   ]
  },
  {
   "cell_type": "code",
   "execution_count": 25,
   "id": "6a032d5e-9f2f-4f24-bc39-7b11d453bb1e",
   "metadata": {},
   "outputs": [
    {
     "data": {
      "text/plain": [
       "[<matplotlib.lines.Line2D at 0x1447d6a00>]"
      ]
     },
     "execution_count": 25,
     "metadata": {},
     "output_type": "execute_result"
    },
    {
     "data": {
      "image/png": "[encoded data removed]",
      "text/plain": [
       "<Figure size 432x288 with 1 Axes>"
      ]
     },
     "metadata": {
      "needs_background": "light"
     },
     "output_type": "display_data"
    }
   ],
   "source": [
    "slv = solver.Top1(diluc, formula)\n",
    "dmg = [slv.step() for _ in range(30000)]\n",
    "plt.plot(dmg)"
   ]
  },
  {
   "cell_type": "code",
   "execution_count": 27,
   "id": "87a7cef3-e10a-455c-9819-229f5fe5aa12",
   "metadata": {},
   "outputs": [
    {
     "data": {
      "text/plain": [
       "[<matplotlib.lines.Line2D at 0x144faf0a0>]"
      ]
     },
     "execution_count": 27,
     "metadata": {},
     "output_type": "execute_result"
    },
    {
     "data": {
      "image/png": "[encoded data removed]",
      "text/plain": [
       "<Figure size 432x288 with 1 Axes>"
      ]
     },
     "metadata": {
      "needs_background": "light"
     },
     "output_type": "display_data"
    }
   ],
   "source": [
    "for _ in range(10000):\n",
    "    dmg.append(slv.step())\n",
    "plt.plot(dmg)"
   ]
  },
  {
   "cell_type": "code",
   "execution_count": 28,
   "id": "f7574499-78f7-4bc6-9b03-0709a2cc645a",
   "metadata": {},
   "outputs": [
    {
     "data": {
      "text/plain": [
       "372525.95647169696"
      ]
     },
     "execution_count": 28,
     "metadata": {},
     "output_type": "execute_result"
    }
   ],
   "source": [
    "dmg[-1]"
   ]
  },
  {
   "cell_type": "code",
   "execution_count": 29,
   "id": "887f3730-98bc-49f9-af95-06b452fe3416",
   "metadata": {},
   "outputs": [
    {
     "data": {
      "text/plain": [
       "298020.7651773576"
      ]
     },
     "execution_count": 29,
     "metadata": {},
     "output_type": "execute_result"
    }
   ],
   "source": [
    "dmg[-1] * .8"
   ]
  },
  {
   "cell_type": "code",
   "execution_count": 13,
   "id": "2196b419-2b7c-4368-851d-036fac8b8b3b",
   "metadata": {},
   "outputs": [
    {
     "data": {
      "text/plain": [
       "1625"
      ]
     },
     "execution_count": 13,
     "metadata": {},
     "output_type": "execute_result"
    }
   ],
   "source": [
    "np.argmax(np.array(dmg) > dmg[-1] * .8)"
   ]
  },
  {
   "cell_type": "code",
   "execution_count": 30,
   "id": "ceeaed30-18ee-4a87-a809-36d5d14d1a97",
   "metadata": {},
   "outputs": [
    {
     "data": {
      "text/plain": [
       "'iter 999, 1491'"
      ]
     },
     "metadata": {},
     "output_type": "display_data"
    }
   ],
   "source": [
    "# thresh = 100000\n",
    "# thresh = 84000\n",
    "thresh = 300000\n",
    "\n",
    "outs = []\n",
    "generated = []\n",
    "for _ in range(1000):\n",
    "    slv = solver.Top1(diluc, formula)\n",
    "    while slv.step() < thresh:\n",
    "        pass\n",
    "    \n",
    "    display.display(f'iter {_}, {len(slv.artis)}')\n",
    "    display.clear_output(wait=True)\n",
    "    \n",
    "    outs.append(slv.top1)\n",
    "    generated.append(slv.artis)"
   ]
  },
  {
   "cell_type": "code",
   "execution_count": 6,
   "id": "5e49ce4d-de48-49c2-9a08-914fef979799",
   "metadata": {},
   "outputs": [
    {
     "data": {
      "text/plain": [
       "804.771"
      ]
     },
     "execution_count": 6,
     "metadata": {},
     "output_type": "execute_result"
    },
    {
     "data": {
      "image/png": "[encoded data removed]",
      "text/plain": [
       "<Figure size 432x288 with 1 Axes>"
      ]
     },
     "metadata": {
      "needs_background": "light"
     },
     "output_type": "display_data"
    }
   ],
   "source": [
    "plt.hist(list(map(len, generated)), bins=50)\n",
    "np.mean(list(map(len, generated)))"
   ]
  },
  {
   "cell_type": "code",
   "execution_count": 4,
   "id": "c01a7caa-f7bd-4515-8a34-6c28ed8e493e",
   "metadata": {},
   "outputs": [],
   "source": [
    "outs = []\n",
    "generated = []\n",
    "for s in solns:\n",
    "    outs.append(s.top1)\n",
    "    generated.append(s.artis)"
   ]
  },
  {
   "cell_type": "code",
   "execution_count": 5,
   "id": "3a8a0928-5a25-419d-9732-8a34a5038a13",
   "metadata": {},
   "outputs": [],
   "source": [
    "anb1 = analysis.MainstatNB()\n",
    "anb2 = analysis.SubstatNB()\n",
    "anb3 = analysis.SubCountNB()\n",
    "\n",
    "for o, g in zip(outs, generated):\n",
    "    for a in g:\n",
    "        anb1.summarize(a, a in o.artis)\n",
    "        anb2.summarize(a, a in o.artis)\n",
    "        anb3.summarize(a, a in o.artis)"
   ]
  },
  {
   "cell_type": "code",
   "execution_count": 62,
   "id": "c19e02d2-f49e-43ea-a328-703f71a478d8",
   "metadata": {},
   "outputs": [],
   "source": [
    "for o in outs:\n",
    "    if o.artis[3].main_stat == statmap['Pyro']:\n",
    "        break"
   ]
  },
  {
   "cell_type": "code",
   "execution_count": 63,
   "id": "d8a237be-ecce-434a-a6d0-ae0a6ac60763",
   "metadata": {},
   "outputs": [
    {
     "data": {
      "text/plain": [
       "Loadout(dmg=330951.1168046932, artis=(HP Flower@(HP%:58>99, ATK%:47>88, CR:35>74, EM:23>69), ATK Feath@(HP%:58>58, CR:39>39, CD:54>256, EM:21>59), ATK% Sands@(HP:269>269, DEF%:51>51, CD:62>366, EM:23>42), Pyro Cup@(DEF:0>32, ATK%:47>194, ATK:18>18, EM:16>16), CR Hat@(HP%:41>129, ATK%:53>94, CD:70>148, EM:23>46)))"
      ]
     },
     "execution_count": 63,
     "metadata": {},
     "output_type": "execute_result"
    }
   ],
   "source": [
    "o"
   ]
  },
  {
   "cell_type": "code",
   "execution_count": 64,
   "id": "ccc55c26-1668-4307-997c-cd2b4394f076",
   "metadata": {},
   "outputs": [
    {
     "name": "stdout",
     "output_type": "stream",
     "text": [
      "Artifact stat bonuses:\n",
      "ATK: 329.0\n",
      "ATK%: 842.0\n",
      "CR: 424.0\n",
      "CD: 770.0\n",
      "Pyro: 466.0\n",
      "\n",
      "final stats:\n",
      "ATK: 2150.47998046875\n",
      "CR: 0.6179999709129333\n",
      "CD: 1.2699999809265137\n",
      "Pyro: 1.0410000085830688\n"
     ]
    }
   ],
   "source": [
    "print('Artifact stat bonuses:')\n",
    "for st in ['ATK', 'ATK%', 'CR', 'CD', 'Pyro']:\n",
    "    print(f'{st}: {o._bake()[st]}')\n",
    "    \n",
    "c.equip(o)\n",
    "print('\\nfinal stats:')\n",
    "for st in ['ATK', 'CR', 'CD', 'Pyro']:\n",
    "    print(f'{st}: {c._bake_stats()[st]}')"
   ]
  },
  {
   "cell_type": "code",
   "execution_count": 11,
   "id": "c29f0735-e28d-4223-b089-44613fc31ca6",
   "metadata": {},
   "outputs": [
    {
     "data": {
      "text/plain": [
       "array([['HP%', '0', '35461'],\n",
       "       ['DEF%', '0', '35652'],\n",
       "       ['ATK%', '309', '35216'],\n",
       "       ['CR', '321', '15637'],\n",
       "       ['CD', '208', '15834'],\n",
       "       ['EM', '162', '6391'],\n",
       "       ['Heal', '0', '16309']], dtype='<U5')"
      ]
     },
     "execution_count": 11,
     "metadata": {},
     "output_type": "execute_result"
    }
   ],
   "source": [
    "slot = 4\n",
    "statis = np.unique(np.array(list(anb1.slic(slot=slot).keys()))[:,1])\n",
    "statis.sort()\n",
    "\n",
    "nbsum4 = np.array([[anb1[slot, s, t] for t in [True, False]] for s in statis])\n",
    "np.array(list(zip(list(map(statnames.__getitem__, statis)), *nbsum4.astype(str).T)))"
   ]
  },
  {
   "cell_type": "code",
   "execution_count": 36,
   "id": "db7d7ff4-a6f3-4375-ae0e-d853a5ea21b5",
   "metadata": {},
   "outputs": [
    {
     "data": {
      "text/plain": [
       "array([[0.        , 1.        ],\n",
       "       [0.        , 1.        ],\n",
       "       [0.00932432, 0.99067568],\n",
       "       [0.        , 1.        ],\n",
       "       [0.0355712 , 0.9644288 ]])"
      ]
     },
     "execution_count": 36,
     "metadata": {},
     "output_type": "execute_result"
    }
   ],
   "source": [
    "(nbsum4.T / np.sum(nbsum4, axis=1)).T"
   ]
  },
  {
   "cell_type": "code",
   "execution_count": 16,
   "id": "afcfd0ce-c1c5-4bb1-8d66-60c36c19e633",
   "metadata": {},
   "outputs": [
    {
     "data": {
      "text/plain": [
       "array([['3', '625', '128312'],\n",
       "       ['4', '375', '32188']], dtype='<U21')"
      ]
     },
     "execution_count": 16,
     "metadata": {},
     "output_type": "execute_result"
    }
   ],
   "source": [
    "slot = 4\n",
    "statis = np.unique(np.array(list(anb3.slic(slot=slot).keys()))[:,1])\n",
    "statis.sort()\n",
    "\n",
    "nbsum4 = np.array([[anb3[slot, s, t] for t in [True, False]] for s in statis])\n",
    "np.array(list(zip(statis, *nbsum4.astype(str).T)))"
   ]
  },
  {
   "cell_type": "code",
   "execution_count": 20,
   "id": "034383db-c719-4bea-807e-5558f3a757d6",
   "metadata": {},
   "outputs": [
    {
     "data": {
      "text/plain": [
       "<module 'analysis' from '/Users/albertxu/PycharmProjects/playground/Genshin/analysis.py'>"
      ]
     },
     "execution_count": 20,
     "metadata": {},
     "output_type": "execute_result"
    }
   ],
   "source": [
    "import importlib\n",
    "importlib.reload(analysis)"
   ]
  },
  {
   "cell_type": "code",
   "execution_count": 55,
   "id": "29cdfaf7-cefe-46ff-ace8-29d90a5cca93",
   "metadata": {},
   "outputs": [
    {
     "data": {
      "text/plain": [
       "[('HP%', array([  209, 21529])),\n",
       " ('HP', array([  304, 39046])),\n",
       " ('DEF%', array([  210, 21641])),\n",
       " ('DEF', array([  330, 38713])),\n",
       " ('ATK%', array([  499, 21161])),\n",
       " ('ATK', array([  462, 38670])),\n",
       " ('CR', array([  413, 19181])),\n",
       " ('CD', array([  479, 19210])),\n",
       " ('ER', array([  198, 27452])),\n",
       " ('EM', array([  214, 26526]))]"
      ]
     },
     "execution_count": 55,
     "metadata": {},
     "output_type": "execute_result"
    }
   ],
   "source": [
    "slot = 4\n",
    "stats = np.unique(np.array(list(anb2.slic(slot=slot).keys()))[:,1])\n",
    "stats.sort()\n",
    "\n",
    "nbsum4 = np.array([[sum(anb2[slot, s, t].values()) for t in [True, False]] for s in stats])\n",
    "list(zip(list(map(statnames.__getitem__, stats)), nbsum4))"
   ]
  },
  {
   "cell_type": "code",
   "execution_count": 40,
   "id": "1176cf79-e352-40fe-b35c-10247215253e",
   "metadata": {},
   "outputs": [
    {
     "data": {
      "text/plain": [
       "[('HP%', -4.639801629957732, -0.00970657031679176),\n",
       " ('HP', -4.859990301867764, -0.00778075074237004),\n",
       " ('DEF%', -4.6402353573940855, -0.009702340738558381),\n",
       " ('DEF', -4.770351730719712, -0.008513535391284363),\n",
       " ('ATK%', -3.7687067539734906, -0.02335245293157549),\n",
       " ('ATK', -4.43701987925181, -0.011901689231392142),\n",
       " ('CR', -3.857214768933151, -0.021353124470568946),\n",
       " ('CD', -3.7141308536432334, -0.024678646916727505),\n",
       " ('ER', -4.934148512340663, -0.00722260648166775),\n",
       " ('EM', -4.823352614046948, -0.008072280969402417)]"
      ]
     },
     "execution_count": 40,
     "metadata": {},
     "output_type": "execute_result"
    }
   ],
   "source": [
    "nb = nbsum4+1\n",
    "list(zip(map(statnames.__getitem__, stats), *np.log(((nb.T)/ np.sum(nb, axis=1)))))"
   ]
  },
  {
   "cell_type": "code",
   "execution_count": 90,
   "id": "4f4a79ad-7d6f-4afa-83b3-4f5553af8088",
   "metadata": {},
   "outputs": [
    {
     "data": {
      "text/plain": [
       "[{1: 100}, {5: 100}, {4: 100}, {13: 100}, {6: 43, 7: 35, 4: 22}]"
      ]
     },
     "execution_count": 90,
     "metadata": {},
     "output_type": "execute_result"
    }
   ],
   "source": [
    "mainstats_pos"
   ]
  },
  {
   "cell_type": "code",
   "execution_count": 91,
   "id": "a8607bfe-20e1-442c-a970-46c226f4e1e9",
   "metadata": {},
   "outputs": [
    {
     "data": {
      "text/plain": [
       "[{1: 8671},\n",
       " {5: 8614},\n",
       " {2: 2338, 9: 877, 4: 2193, 0: 2292, 8: 832},\n",
       " {13: 335,\n",
       "  16: 412,\n",
       "  4: 1899,\n",
       "  12: 425,\n",
       "  17: 439,\n",
       "  0: 1776,\n",
       "  14: 452,\n",
       "  2: 1708,\n",
       "  15: 419,\n",
       "  11: 456,\n",
       "  9: 208},\n",
       " {4: 1997, 2: 1962, 10: 865, 6: 841, 0: 1976, 7: 867, 9: 326}]"
      ]
     },
     "execution_count": 91,
     "metadata": {},
     "output_type": "execute_result"
    }
   ],
   "source": [
    "mainstats_neg"
   ]
  },
  {
   "cell_type": "code",
   "execution_count": 63,
   "id": "f985eb7a-d934-418d-a588-49f668b6f04c",
   "metadata": {},
   "outputs": [
    {
     "data": {
      "text/plain": [
       "(array([86.,  0.,  0.,  0.,  0.,  0.,  0.,  0.,  0.,  0.,  2.,  3.,  0.,\n",
       "         3.,  0.,  0.,  0.,  0.,  0.,  0.,  0.,  0.,  2.,  0.,  0.,  1.,\n",
       "         1.,  0.,  1.,  1.]),\n",
       " array([  0.        ,   4.86666667,   9.73333333,  14.6       ,\n",
       "         19.46666667,  24.33333333,  29.2       ,  34.06666667,\n",
       "         38.93333333,  43.8       ,  48.66666667,  53.53333333,\n",
       "         58.4       ,  63.26666667,  68.13333333,  73.        ,\n",
       "         77.86666667,  82.73333333,  87.6       ,  92.46666667,\n",
       "         97.33333333, 102.2       , 107.06666667, 111.93333333,\n",
       "        116.8       , 121.66666667, 126.53333333, 131.4       ,\n",
       "        136.26666667, 141.13333333, 146.        ]),\n",
       " <BarContainer object of 30 artists>)"
      ]
     },
     "execution_count": 63,
     "metadata": {},
     "output_type": "execute_result"
    },
    {
     "data": {
      "image/png": "[encoded data removed]",
      "text/plain": [
       "<Figure size 432x288 with 1 Axes>"
      ]
     },
     "metadata": {
      "needs_background": "light"
     },
     "output_type": "display_data"
    }
   ],
   "source": [
    "plt.hist(substats[:, 0, statmap['DEF%']], bins=30)"
   ]
  },
  {
   "cell_type": "code",
   "execution_count": 35,
   "id": "3fe60e04-61a3-4d83-8053-c21b717b3cbf",
   "metadata": {},
   "outputs": [
    {
     "data": {
      "text/plain": [
       "array([[ 1,  5,  4, 13,  6],\n",
       "       [ 1,  5,  4, 13,  6],\n",
       "       [ 1,  5,  4, 13,  6],\n",
       "       [ 1,  5,  4, 13,  6],\n",
       "       [ 1,  5,  4, 13,  7],\n",
       "       [ 1,  5,  4, 13,  6],\n",
       "       [ 1,  5,  4, 13,  6],\n",
       "       [ 1,  5,  4, 13,  6],\n",
       "       [ 1,  5,  4, 13,  6],\n",
       "       [ 1,  5,  4, 13,  6],\n",
       "       [ 1,  5,  4, 13,  4],\n",
       "       [ 1,  5,  4, 13,  6],\n",
       "       [ 1,  5,  4, 13,  7],\n",
       "       [ 1,  5,  4, 13,  6],\n",
       "       [ 1,  5,  4, 13,  7],\n",
       "       [ 1,  5,  4, 13,  6],\n",
       "       [ 1,  5,  4, 13,  4],\n",
       "       [ 1,  5,  4, 13,  7],\n",
       "       [ 1,  5,  4, 13,  4],\n",
       "       [ 1,  5,  4, 13,  6],\n",
       "       [ 1,  5,  4, 13,  4],\n",
       "       [ 1,  5,  4, 13,  7],\n",
       "       [ 1,  5,  4, 13,  4],\n",
       "       [ 1,  5,  4, 13,  4],\n",
       "       [ 1,  5,  4, 13,  6],\n",
       "       [ 1,  5,  4, 13,  6],\n",
       "       [ 1,  5,  4, 13,  4],\n",
       "       [ 1,  5,  4, 13,  7],\n",
       "       [ 1,  5,  4, 13,  4],\n",
       "       [ 1,  5,  4, 13,  6],\n",
       "       [ 1,  5,  4, 13,  7],\n",
       "       [ 1,  5,  4, 13,  4],\n",
       "       [ 1,  5,  4, 13,  4],\n",
       "       [ 1,  5,  4, 13,  6],\n",
       "       [ 1,  5,  4, 13,  4],\n",
       "       [ 1,  5,  4, 13,  6],\n",
       "       [ 1,  5,  4, 13,  6],\n",
       "       [ 1,  5,  4, 13,  7],\n",
       "       [ 1,  5,  4, 13,  4],\n",
       "       [ 1,  5,  4, 13,  6],\n",
       "       [ 1,  5,  4, 13,  7],\n",
       "       [ 1,  5,  4, 13,  7],\n",
       "       [ 1,  5,  4, 13,  6],\n",
       "       [ 1,  5,  4, 13,  7],\n",
       "       [ 1,  5,  4, 13,  6],\n",
       "       [ 1,  5,  4, 13,  7],\n",
       "       [ 1,  5,  4, 13,  6],\n",
       "       [ 1,  5,  4, 13,  7],\n",
       "       [ 1,  5,  4, 13,  6],\n",
       "       [ 1,  5,  4, 13,  4],\n",
       "       [ 1,  5,  4, 13,  4],\n",
       "       [ 1,  5,  4, 13,  7],\n",
       "       [ 1,  5,  4, 13,  6],\n",
       "       [ 1,  5,  4, 13,  7],\n",
       "       [ 1,  5,  4, 13,  7],\n",
       "       [ 1,  5,  4, 13,  6],\n",
       "       [ 1,  5,  4, 13,  7],\n",
       "       [ 1,  5,  4, 13,  7],\n",
       "       [ 1,  5,  4, 13,  7],\n",
       "       [ 1,  5,  4, 13,  6],\n",
       "       [ 1,  5,  4, 13,  6],\n",
       "       [ 1,  5,  4, 13,  7],\n",
       "       [ 1,  5,  4, 13,  7],\n",
       "       [ 1,  5,  4, 13,  7],\n",
       "       [ 1,  5,  4, 13,  6],\n",
       "       [ 1,  5,  4, 13,  7],\n",
       "       [ 1,  5,  4, 13,  6],\n",
       "       [ 1,  5,  4, 13,  6],\n",
       "       [ 1,  5,  4, 13,  7],\n",
       "       [ 1,  5,  4, 13,  6],\n",
       "       [ 1,  5,  4, 13,  7],\n",
       "       [ 1,  5,  4, 13,  6],\n",
       "       [ 1,  5,  4, 13,  4],\n",
       "       [ 1,  5,  4, 13,  4],\n",
       "       [ 1,  5,  4, 13,  6],\n",
       "       [ 1,  5,  4, 13,  7],\n",
       "       [ 1,  5,  4, 13,  6],\n",
       "       [ 1,  5,  4, 13,  6],\n",
       "       [ 1,  5,  4, 13,  6],\n",
       "       [ 1,  5,  4, 13,  7],\n",
       "       [ 1,  5,  4, 13,  4],\n",
       "       [ 1,  5,  4, 13,  6],\n",
       "       [ 1,  5,  4, 13,  6],\n",
       "       [ 1,  5,  4, 13,  4],\n",
       "       [ 1,  5,  4, 13,  7],\n",
       "       [ 1,  5,  4, 13,  4],\n",
       "       [ 1,  5,  4, 13,  7],\n",
       "       [ 1,  5,  4, 13,  4],\n",
       "       [ 1,  5,  4, 13,  7],\n",
       "       [ 1,  5,  4, 13,  4],\n",
       "       [ 1,  5,  4, 13,  7],\n",
       "       [ 1,  5,  4, 13,  4],\n",
       "       [ 1,  5,  4, 13,  7],\n",
       "       [ 1,  5,  4, 13,  6],\n",
       "       [ 1,  5,  4, 13,  6],\n",
       "       [ 1,  5,  4, 13,  7],\n",
       "       [ 1,  5,  4, 13,  6],\n",
       "       [ 1,  5,  4, 13,  7],\n",
       "       [ 1,  5,  4, 13,  6],\n",
       "       [ 1,  5,  4, 13,  7]])"
      ]
     },
     "execution_count": 35,
     "metadata": {},
     "output_type": "execute_result"
    }
   ],
   "source": [
    "mainstats"
   ]
  },
  {
   "cell_type": "code",
   "execution_count": 31,
   "id": "5c09e0b1-5b32-454a-b1af-d0a53831cb0c",
   "metadata": {},
   "outputs": [
    {
     "data": {
      "text/plain": [
       "(array([[ 1,  5,  4, 13,  4],\n",
       "        [ 1,  5,  4, 13,  6],\n",
       "        [ 1,  5,  4, 13,  7]]),\n",
       " array([22, 43, 35]))"
      ]
     },
     "execution_count": 31,
     "metadata": {},
     "output_type": "execute_result"
    }
   ],
   "source": [
    "np.unique(np.array(mainstats), axis=0, return_counts=True)"
   ]
  },
  {
   "cell_type": "code",
   "execution_count": 17,
   "id": "0abde0be-4fd4-4098-8a73-2538bbe71eb3",
   "metadata": {},
   "outputs": [
    {
     "data": {
      "text/plain": [
       "(array([4, 6, 7]), array([22, 43, 35]))"
      ]
     },
     "execution_count": 17,
     "metadata": {},
     "output_type": "execute_result"
    }
   ],
   "source": [
    "np.unique([o.artis[4].main_stat for o in outs], return_counts=True)"
   ]
  },
  {
   "cell_type": "code",
   "execution_count": 26,
   "id": "031dcaac-3fff-4704-bcf5-6c859dae8414",
   "metadata": {},
   "outputs": [
    {
     "data": {
      "text/plain": [
       "'CD'"
      ]
     },
     "execution_count": 26,
     "metadata": {},
     "output_type": "execute_result"
    }
   ],
   "source": [
    "statnames[7]"
   ]
  },
  {
   "cell_type": "code",
   "execution_count": 7,
   "id": "9757f507-10c3-4bb7-84ce-abc8e83801ba",
   "metadata": {},
   "outputs": [],
   "source": [
    "slv3 = solver.Top1(diluc, formula)\n",
    "vss3 = [slv3.step() for _ in range(30000)]"
   ]
  },
  {
   "cell_type": "code",
   "execution_count": 8,
   "id": "c0fba2d8-3e46-43f8-a1ff-d0867d34388c",
   "metadata": {},
   "outputs": [
    {
     "data": {
      "text/plain": [
       "[<matplotlib.lines.Line2D at 0x133c4f4c0>]"
      ]
     },
     "execution_count": 8,
     "metadata": {},
     "output_type": "execute_result"
    },
    {
     "data": {
      "image/png": "[encoded data removed]",
      "text/plain": [
       "<Figure size 432x288 with 1 Axes>"
      ]
     },
     "metadata": {
      "needs_background": "light"
     },
     "output_type": "display_data"
    }
   ],
   "source": [
    "plt.plot(vss3)"
   ]
  },
  {
   "cell_type": "code",
   "execution_count": 9,
   "id": "d75ba93b-facc-4ff2-b8d0-1aef227b88b5",
   "metadata": {},
   "outputs": [
    {
     "data": {
      "text/plain": [
       "Loadout(dmg=126042.26506664866, artis=(HP Flower@(ATK%:41>41, CR:39>109, CD:78>280, EM:16>16), ATK Feath@(HP:299>299, ATK%:53>106, CR:39>39, CD:70>334), ATK% Sands@(ATK:16>16, CR:39>101, CD:62>256, EM:21>21), Pyro Cup@(DEF:21>21, CR:31>97, CD:0>226, ER:65>65), CR Hat@(DEF:19>19, ATK%:41>88, ATK:16>44, CD:62>202)))"
      ]
     },
     "execution_count": 9,
     "metadata": {},
     "output_type": "execute_result"
    }
   ],
   "source": [
    "slv3.top1"
   ]
  },
  {
   "cell_type": "code",
   "execution_count": 10,
   "id": "efa3e9ab-9250-4f3d-a866-dd0a08f4a597",
   "metadata": {},
   "outputs": [
    {
     "name": "stdout",
     "output_type": "stream",
     "text": [
      "2071.22\n",
      "0.851\n",
      "1.798\n",
      "0.466\n"
     ]
    }
   ],
   "source": [
    "print(slv3.c._bake_stats()['ATK'])\n",
    "print(slv3.c._bake_stats()['CR'])\n",
    "print(slv3.c._bake_stats()['CD'])\n",
    "print(slv3.c._bake_stats()['Pyro'])"
   ]
  },
  {
   "cell_type": "code",
   "execution_count": 61,
   "id": "60414573-4351-4b68-bcf2-6a8e458712ce",
   "metadata": {},
   "outputs": [],
   "source": [
    "formula = damage.DionaCharged(1)\n",
    "slv2 = solver.Top1(diona, formula)\n",
    "vss2 = [slv2.step() for _ in range(2000)]"
   ]
  },
  {
   "cell_type": "code",
   "execution_count": 70,
   "id": "de3c0639-033a-4035-b138-0a05f97bcc63",
   "metadata": {},
   "outputs": [
    {
     "data": {
      "text/plain": [
       "[<matplotlib.lines.Line2D at 0x250113130>]"
      ]
     },
     "execution_count": 70,
     "metadata": {},
     "output_type": "execute_result"
    },
    {
     "data": {
      "image/png": "[encoded data removed]",
      "text/plain": [
       "<Figure size 432x288 with 1 Axes>"
      ]
     },
     "metadata": {
      "needs_background": "light"
     },
     "output_type": "display_data"
    }
   ],
   "source": [
    "random.seed(1)\n",
    "np.random.seed(1)\n",
    "slv4 = solver.TopPerc(diluc, formula, perc=.95)\n",
    "vss4 = []\n",
    "for _ in range(10000):\n",
    "    vss4.append(slv4.step())\n",
    "    if _ % 10 == 0:\n",
    "        if _ > 1000:\n",
    "            plt.clf()\n",
    "            plt.plot(vss3[:10+len(vss4)])\n",
    "            plt.plot(vss4)\n",
    "            display.display(plt.gcf())\n",
    "        display.display(_)\n",
    "        display.display(f'Hist len: {len(slv4.history_full[-1])}')\n",
    "    \n",
    "    display.clear_output(wait=True)\n",
    "plt.plot(list(map(len, slv4.history_full)))"
   ]
  },
  {
   "cell_type": "code",
   "execution_count": 79,
   "id": "03ff817a-0fa9-4d37-bac4-3c2f9099344d",
   "metadata": {},
   "outputs": [
    {
     "ename": "NameError",
     "evalue": "name 'slv4' is not defined",
     "output_type": "error",
     "traceback": [
      "\u001b[0;31m---------------------------------------------------------------------------\u001b[0m",
      "\u001b[0;31mNameError\u001b[0m                                 Traceback (most recent call last)",
      "\u001b[0;32m<ipython-input-79-38aa56864695>\u001b[0m in \u001b[0;36m<module>\u001b[0;34m\u001b[0m\n\u001b[0;32m----> 1\u001b[0;31m \u001b[0mplt\u001b[0m\u001b[0;34m.\u001b[0m\u001b[0mplot\u001b[0m\u001b[0;34m(\u001b[0m\u001b[0mlist\u001b[0m\u001b[0;34m(\u001b[0m\u001b[0mmap\u001b[0m\u001b[0;34m(\u001b[0m\u001b[0mlen\u001b[0m\u001b[0;34m,\u001b[0m \u001b[0mslv4\u001b[0m\u001b[0;34m.\u001b[0m\u001b[0mhistory_full\u001b[0m\u001b[0;34m)\u001b[0m\u001b[0;34m)\u001b[0m\u001b[0;34m)\u001b[0m\u001b[0;34m\u001b[0m\u001b[0;34m\u001b[0m\u001b[0m\n\u001b[0m",
      "\u001b[0;31mNameError\u001b[0m: name 'slv4' is not defined"
     ]
    }
   ],
   "source": [
    "plt.plot(list(map(len, slv4.history_full)))"
   ]
  },
  {
   "cell_type": "code",
   "execution_count": 77,
   "id": "dca57cc6-dc71-4d03-811f-690b607fed67",
   "metadata": {},
   "outputs": [],
   "source": [
    "vss4_sav = vss4"
   ]
  },
  {
   "cell_type": "code",
   "execution_count": 78,
   "id": "146874f3-2568-40df-9050-044cb617aac9",
   "metadata": {},
   "outputs": [
    {
     "data": {
      "text/plain": [
       "[<matplotlib.lines.Line2D at 0x84eea06a0>]"
      ]
     },
     "execution_count": 78,
     "metadata": {},
     "output_type": "execute_result"
    },
    {
     "data": {
      "image/png": "[encoded data removed]",
      "text/plain": [
       "<Figure size 432x288 with 1 Axes>"
      ]
     },
     "metadata": {
      "needs_background": "light"
     },
     "output_type": "display_data"
    }
   ],
   "source": [
    "vss4 = list(vss4)\n",
    "for _ in range(10000, 30000):\n",
    "    vss4.append(slv4.step())\n",
    "    if _ % 10 == 0:\n",
    "        plt.clf()\n",
    "        plt.plot(vss3[:10+len(vss4)])\n",
    "        plt.plot(vss4)\n",
    "        display.display(plt.gcf())\n",
    "        display.display(_)\n",
    "        display.display(f'Hist len: {len(slv4.history_full[-1])}')\n",
    "    \n",
    "    display.clear_output(wait=True)\n",
    "plt.clf()\n",
    "plt.plot(list(map(len, slv4.history_full)))"
   ]
  },
  {
   "cell_type": "code",
   "execution_count": 78,
   "id": "780af97f-6464-40c4-8bbb-3defab0e9eba",
   "metadata": {},
   "outputs": [
    {
     "ename": "NameError",
     "evalue": "name 'vss4_sav' is not defined",
     "output_type": "error",
     "traceback": [
      "\u001b[0;31m---------------------------------------------------------------------------\u001b[0m",
      "\u001b[0;31mNameError\u001b[0m                                 Traceback (most recent call last)",
      "\u001b[0;32m<ipython-input-78-a326b6e96e2a>\u001b[0m in \u001b[0;36m<module>\u001b[0;34m\u001b[0m\n\u001b[0;32m----> 1\u001b[0;31m \u001b[0mvss4_sav\u001b[0m\u001b[0;34m\u001b[0m\u001b[0;34m\u001b[0m\u001b[0m\n\u001b[0m",
      "\u001b[0;31mNameError\u001b[0m: name 'vss4_sav' is not defined"
     ]
    }
   ],
   "source": [
    "vss4_sav"
   ]
  },
  {
   "cell_type": "code",
   "execution_count": 72,
   "id": "1c4f659c-4dad-45bb-a863-cbb6b2ed0c53",
   "metadata": {},
   "outputs": [],
   "source": [
    "vss3 = np.array(vss3)\n",
    "vss4 = np.array(vss4)"
   ]
  },
  {
   "cell_type": "code",
   "execution_count": 76,
   "id": "c546eee7-7bea-4ad8-98eb-339ed7c179cf",
   "metadata": {},
   "outputs": [
    {
     "ename": "NameError",
     "evalue": "name 'vss4' is not defined",
     "output_type": "error",
     "traceback": [
      "\u001b[0;31m---------------------------------------------------------------------------\u001b[0m",
      "\u001b[0;31mNameError\u001b[0m                                 Traceback (most recent call last)",
      "\u001b[0;32m<ipython-input-76-93e8ac1c2827>\u001b[0m in \u001b[0;36m<module>\u001b[0;34m\u001b[0m\n\u001b[1;32m      1\u001b[0m \u001b[0;31m# plt.plot(vss3)\u001b[0m\u001b[0;34m\u001b[0m\u001b[0;34m\u001b[0m\u001b[0;34m\u001b[0m\u001b[0m\n\u001b[1;32m      2\u001b[0m \u001b[0;31m# plt.plot(vss4)\u001b[0m\u001b[0;34m\u001b[0m\u001b[0;34m\u001b[0m\u001b[0;34m\u001b[0m\u001b[0m\n\u001b[0;32m----> 3\u001b[0;31m \u001b[0mplt\u001b[0m\u001b[0;34m.\u001b[0m\u001b[0mplot\u001b[0m\u001b[0;34m(\u001b[0m\u001b[0;34m(\u001b[0m\u001b[0mvss4\u001b[0m \u001b[0;34m-\u001b[0m \u001b[0mvss3\u001b[0m\u001b[0;34m[\u001b[0m\u001b[0;34m:\u001b[0m\u001b[0;36m10000\u001b[0m\u001b[0;34m]\u001b[0m\u001b[0;34m)\u001b[0m \u001b[0;34m/\u001b[0m \u001b[0mvss3\u001b[0m\u001b[0;34m[\u001b[0m\u001b[0;34m:\u001b[0m\u001b[0;36m10000\u001b[0m\u001b[0;34m]\u001b[0m\u001b[0;34m)\u001b[0m\u001b[0;34m\u001b[0m\u001b[0;34m\u001b[0m\u001b[0m\n\u001b[0m",
      "\u001b[0;31mNameError\u001b[0m: name 'vss4' is not defined"
     ]
    }
   ],
   "source": [
    "# plt.plot(vss3)\n",
    "# plt.plot(vss4)\n",
    "plt.plot((vss4 - vss3[:10000]) / vss3[:10000])"
   ]
  },
  {
   "cell_type": "code",
   "execution_count": 42,
   "id": "9c687bee-8b46-41b7-a0c0-4f22fbabe734",
   "metadata": {},
   "outputs": [
    {
     "data": {
      "text/plain": [
       "[<matplotlib.lines.Line2D at 0x130ebf7c0>]"
      ]
     },
     "execution_count": 42,
     "metadata": {},
     "output_type": "execute_result"
    },
    {
     "data": {
      "image/png": "[encoded data removed]",
      "text/plain": [
       "<Figure size 432x288 with 1 Axes>"
      ]
     },
     "metadata": {
      "needs_background": "light"
     },
     "output_type": "display_data"
    }
   ],
   "source": [
    "plt.plot(np.subtract(vss2, vss3))"
   ]
  },
  {
   "cell_type": "code",
   "execution_count": 267,
   "id": "75fbec06-f4ce-4ad2-bb3b-6efb4c20f67e",
   "metadata": {},
   "outputs": [
    {
     "ename": "KeyboardInterrupt",
     "evalue": "",
     "output_type": "error",
     "traceback": [
      "\u001b[0;31m---------------------------------------------------------------------------\u001b[0m",
      "\u001b[0;31mKeyboardInterrupt\u001b[0m                         Traceback (most recent call last)",
      "\u001b[0;32m<ipython-input-267-811bda4fa83d>\u001b[0m in \u001b[0;36m<module>\u001b[0;34m\u001b[0m\n\u001b[1;32m     40\u001b[0m \u001b[0;34m\u001b[0m\u001b[0m\n\u001b[1;32m     41\u001b[0m     \u001b[0mdisplay\u001b[0m\u001b[0;34m.\u001b[0m\u001b[0mclear_output\u001b[0m\u001b[0;34m(\u001b[0m\u001b[0mwait\u001b[0m\u001b[0;34m=\u001b[0m\u001b[0;32mTrue\u001b[0m\u001b[0;34m)\u001b[0m\u001b[0;34m\u001b[0m\u001b[0;34m\u001b[0m\u001b[0m\n\u001b[0;32m---> 42\u001b[0;31m     \u001b[0mdisplay\u001b[0m\u001b[0;34m.\u001b[0m\u001b[0mdisplay\u001b[0m\u001b[0;34m(\u001b[0m\u001b[0mplt\u001b[0m\u001b[0;34m.\u001b[0m\u001b[0mgcf\u001b[0m\u001b[0;34m(\u001b[0m\u001b[0;34m)\u001b[0m\u001b[0;34m)\u001b[0m\u001b[0;34m\u001b[0m\u001b[0;34m\u001b[0m\u001b[0m\n\u001b[0m\u001b[1;32m     43\u001b[0m \u001b[0mplt\u001b[0m\u001b[0;34m.\u001b[0m\u001b[0mclf\u001b[0m\u001b[0;34m(\u001b[0m\u001b[0;34m)\u001b[0m\u001b[0;34m\u001b[0m\u001b[0;34m\u001b[0m\u001b[0m\n",
      "\u001b[0;32m~/.pyenv/versions/3.9.0/envs/mpl/lib/python3.9/site-packages/IPython/core/display.py\u001b[0m in \u001b[0;36mdisplay\u001b[0;34m(include, exclude, metadata, transient, display_id, *objs, **kwargs)\u001b[0m\n\u001b[1;32m    311\u001b[0m             \u001b[0mpublish_display_data\u001b[0m\u001b[0;34m(\u001b[0m\u001b[0mdata\u001b[0m\u001b[0;34m=\u001b[0m\u001b[0mobj\u001b[0m\u001b[0;34m,\u001b[0m \u001b[0mmetadata\u001b[0m\u001b[0;34m=\u001b[0m\u001b[0mmetadata\u001b[0m\u001b[0;34m,\u001b[0m \u001b[0;34m**\u001b[0m\u001b[0mkwargs\u001b[0m\u001b[0;34m)\u001b[0m\u001b[0;34m\u001b[0m\u001b[0;34m\u001b[0m\u001b[0m\n\u001b[1;32m    312\u001b[0m         \u001b[0;32melse\u001b[0m\u001b[0;34m:\u001b[0m\u001b[0;34m\u001b[0m\u001b[0;34m\u001b[0m\u001b[0m\n\u001b[0;32m--> 313\u001b[0;31m             \u001b[0mformat_dict\u001b[0m\u001b[0;34m,\u001b[0m \u001b[0mmd_dict\u001b[0m \u001b[0;34m=\u001b[0m \u001b[0mformat\u001b[0m\u001b[0;34m(\u001b[0m\u001b[0mobj\u001b[0m\u001b[0;34m,\u001b[0m \u001b[0minclude\u001b[0m\u001b[0;34m=\u001b[0m\u001b[0minclude\u001b[0m\u001b[0;34m,\u001b[0m \u001b[0mexclude\u001b[0m\u001b[0;34m=\u001b[0m\u001b[0mexclude\u001b[0m\u001b[0;34m)\u001b[0m\u001b[0;34m\u001b[0m\u001b[0;34m\u001b[0m\u001b[0m\n\u001b[0m\u001b[1;32m    314\u001b[0m             \u001b[0;32mif\u001b[0m \u001b[0;32mnot\u001b[0m \u001b[0mformat_dict\u001b[0m\u001b[0;34m:\u001b[0m\u001b[0;34m\u001b[0m\u001b[0;34m\u001b[0m\u001b[0m\n\u001b[1;32m    315\u001b[0m                 \u001b[0;31m# nothing to display (e.g. _ipython_display_ took over)\u001b[0m\u001b[0;34m\u001b[0m\u001b[0;34m\u001b[0m\u001b[0;34m\u001b[0m\u001b[0m\n",
      "\u001b[0;32m~/.pyenv/versions/3.9.0/envs/mpl/lib/python3.9/site-packages/IPython/core/formatters.py\u001b[0m in \u001b[0;36mformat\u001b[0;34m(self, obj, include, exclude)\u001b[0m\n\u001b[1;32m    178\u001b[0m             \u001b[0mmd\u001b[0m \u001b[0;34m=\u001b[0m \u001b[0;32mNone\u001b[0m\u001b[0;34m\u001b[0m\u001b[0;34m\u001b[0m\u001b[0m\n\u001b[1;32m    179\u001b[0m             \u001b[0;32mtry\u001b[0m\u001b[0;34m:\u001b[0m\u001b[0;34m\u001b[0m\u001b[0;34m\u001b[0m\u001b[0m\n\u001b[0;32m--> 180\u001b[0;31m                 \u001b[0mdata\u001b[0m \u001b[0;34m=\u001b[0m \u001b[0mformatter\u001b[0m\u001b[0;34m(\u001b[0m\u001b[0mobj\u001b[0m\u001b[0;34m)\u001b[0m\u001b[0;34m\u001b[0m\u001b[0;34m\u001b[0m\u001b[0m\n\u001b[0m\u001b[1;32m    181\u001b[0m             \u001b[0;32mexcept\u001b[0m\u001b[0;34m:\u001b[0m\u001b[0;34m\u001b[0m\u001b[0;34m\u001b[0m\u001b[0m\n\u001b[1;32m    182\u001b[0m                 \u001b[0;31m# FIXME: log the exception\u001b[0m\u001b[0;34m\u001b[0m\u001b[0;34m\u001b[0m\u001b[0;34m\u001b[0m\u001b[0m\n",
      "\u001b[0;32m<decorator-gen-2>\u001b[0m in \u001b[0;36m__call__\u001b[0;34m(self, obj)\u001b[0m\n",
      "\u001b[0;32m~/.pyenv/versions/3.9.0/envs/mpl/lib/python3.9/site-packages/IPython/core/formatters.py\u001b[0m in \u001b[0;36mcatch_format_error\u001b[0;34m(method, self, *args, **kwargs)\u001b[0m\n\u001b[1;32m    222\u001b[0m     \u001b[0;34m\"\"\"show traceback on failed format call\"\"\"\u001b[0m\u001b[0;34m\u001b[0m\u001b[0;34m\u001b[0m\u001b[0m\n\u001b[1;32m    223\u001b[0m     \u001b[0;32mtry\u001b[0m\u001b[0;34m:\u001b[0m\u001b[0;34m\u001b[0m\u001b[0;34m\u001b[0m\u001b[0m\n\u001b[0;32m--> 224\u001b[0;31m         \u001b[0mr\u001b[0m \u001b[0;34m=\u001b[0m \u001b[0mmethod\u001b[0m\u001b[0;34m(\u001b[0m\u001b[0mself\u001b[0m\u001b[0;34m,\u001b[0m \u001b[0;34m*\u001b[0m\u001b[0margs\u001b[0m\u001b[0;34m,\u001b[0m \u001b[0;34m**\u001b[0m\u001b[0mkwargs\u001b[0m\u001b[0;34m)\u001b[0m\u001b[0;34m\u001b[0m\u001b[0;34m\u001b[0m\u001b[0m\n\u001b[0m\u001b[1;32m    225\u001b[0m     \u001b[0;32mexcept\u001b[0m \u001b[0mNotImplementedError\u001b[0m\u001b[0;34m:\u001b[0m\u001b[0;34m\u001b[0m\u001b[0;34m\u001b[0m\u001b[0m\n\u001b[1;32m    226\u001b[0m         \u001b[0;31m# don't warn on NotImplementedErrors\u001b[0m\u001b[0;34m\u001b[0m\u001b[0;34m\u001b[0m\u001b[0;34m\u001b[0m\u001b[0m\n",
      "\u001b[0;32m~/.pyenv/versions/3.9.0/envs/mpl/lib/python3.9/site-packages/IPython/core/formatters.py\u001b[0m in \u001b[0;36m__call__\u001b[0;34m(self, obj)\u001b[0m\n\u001b[1;32m    339\u001b[0m                 \u001b[0;32mpass\u001b[0m\u001b[0;34m\u001b[0m\u001b[0;34m\u001b[0m\u001b[0m\n\u001b[1;32m    340\u001b[0m             \u001b[0;32melse\u001b[0m\u001b[0;34m:\u001b[0m\u001b[0;34m\u001b[0m\u001b[0;34m\u001b[0m\u001b[0m\n\u001b[0;32m--> 341\u001b[0;31m                 \u001b[0;32mreturn\u001b[0m \u001b[0mprinter\u001b[0m\u001b[0;34m(\u001b[0m\u001b[0mobj\u001b[0m\u001b[0;34m)\u001b[0m\u001b[0;34m\u001b[0m\u001b[0;34m\u001b[0m\u001b[0m\n\u001b[0m\u001b[1;32m    342\u001b[0m             \u001b[0;31m# Finally look for special method names\u001b[0m\u001b[0;34m\u001b[0m\u001b[0;34m\u001b[0m\u001b[0;34m\u001b[0m\u001b[0m\n\u001b[1;32m    343\u001b[0m             \u001b[0mmethod\u001b[0m \u001b[0;34m=\u001b[0m \u001b[0mget_real_method\u001b[0m\u001b[0;34m(\u001b[0m\u001b[0mobj\u001b[0m\u001b[0;34m,\u001b[0m \u001b[0mself\u001b[0m\u001b[0;34m.\u001b[0m\u001b[0mprint_method\u001b[0m\u001b[0;34m)\u001b[0m\u001b[0;34m\u001b[0m\u001b[0;34m\u001b[0m\u001b[0m\n",
      "\u001b[0;32m~/.pyenv/versions/3.9.0/envs/mpl/lib/python3.9/site-packages/IPython/core/pylabtools.py\u001b[0m in \u001b[0;36m<lambda>\u001b[0;34m(fig)\u001b[0m\n\u001b[1;32m    246\u001b[0m \u001b[0;34m\u001b[0m\u001b[0m\n\u001b[1;32m    247\u001b[0m     \u001b[0;32mif\u001b[0m \u001b[0;34m'png'\u001b[0m \u001b[0;32min\u001b[0m \u001b[0mformats\u001b[0m\u001b[0;34m:\u001b[0m\u001b[0;34m\u001b[0m\u001b[0;34m\u001b[0m\u001b[0m\n\u001b[0;32m--> 248\u001b[0;31m         \u001b[0mpng_formatter\u001b[0m\u001b[0;34m.\u001b[0m\u001b[0mfor_type\u001b[0m\u001b[0;34m(\u001b[0m\u001b[0mFigure\u001b[0m\u001b[0;34m,\u001b[0m \u001b[0;32mlambda\u001b[0m \u001b[0mfig\u001b[0m\u001b[0;34m:\u001b[0m \u001b[0mprint_figure\u001b[0m\u001b[0;34m(\u001b[0m\u001b[0mfig\u001b[0m\u001b[0;34m,\u001b[0m \u001b[0;34m'png'\u001b[0m\u001b[0;34m,\u001b[0m \u001b[0;34m**\u001b[0m\u001b[0mkwargs\u001b[0m\u001b[0;34m)\u001b[0m\u001b[0;34m)\u001b[0m\u001b[0;34m\u001b[0m\u001b[0;34m\u001b[0m\u001b[0m\n\u001b[0m\u001b[1;32m    249\u001b[0m     \u001b[0;32mif\u001b[0m \u001b[0;34m'retina'\u001b[0m \u001b[0;32min\u001b[0m \u001b[0mformats\u001b[0m \u001b[0;32mor\u001b[0m \u001b[0;34m'png2x'\u001b[0m \u001b[0;32min\u001b[0m \u001b[0mformats\u001b[0m\u001b[0;34m:\u001b[0m\u001b[0;34m\u001b[0m\u001b[0;34m\u001b[0m\u001b[0m\n\u001b[1;32m    250\u001b[0m         \u001b[0mpng_formatter\u001b[0m\u001b[0;34m.\u001b[0m\u001b[0mfor_type\u001b[0m\u001b[0;34m(\u001b[0m\u001b[0mFigure\u001b[0m\u001b[0;34m,\u001b[0m \u001b[0;32mlambda\u001b[0m \u001b[0mfig\u001b[0m\u001b[0;34m:\u001b[0m \u001b[0mretina_figure\u001b[0m\u001b[0;34m(\u001b[0m\u001b[0mfig\u001b[0m\u001b[0;34m,\u001b[0m \u001b[0;34m**\u001b[0m\u001b[0mkwargs\u001b[0m\u001b[0;34m)\u001b[0m\u001b[0;34m)\u001b[0m\u001b[0;34m\u001b[0m\u001b[0;34m\u001b[0m\u001b[0m\n",
      "\u001b[0;32m~/.pyenv/versions/3.9.0/envs/mpl/lib/python3.9/site-packages/IPython/core/pylabtools.py\u001b[0m in \u001b[0;36mprint_figure\u001b[0;34m(fig, fmt, bbox_inches, **kwargs)\u001b[0m\n\u001b[1;32m    130\u001b[0m         \u001b[0mFigureCanvasBase\u001b[0m\u001b[0;34m(\u001b[0m\u001b[0mfig\u001b[0m\u001b[0;34m)\u001b[0m\u001b[0;34m\u001b[0m\u001b[0;34m\u001b[0m\u001b[0m\n\u001b[1;32m    131\u001b[0m \u001b[0;34m\u001b[0m\u001b[0m\n\u001b[0;32m--> 132\u001b[0;31m     \u001b[0mfig\u001b[0m\u001b[0;34m.\u001b[0m\u001b[0mcanvas\u001b[0m\u001b[0;34m.\u001b[0m\u001b[0mprint_figure\u001b[0m\u001b[0;34m(\u001b[0m\u001b[0mbytes_io\u001b[0m\u001b[0;34m,\u001b[0m \u001b[0;34m**\u001b[0m\u001b[0mkw\u001b[0m\u001b[0;34m)\u001b[0m\u001b[0;34m\u001b[0m\u001b[0;34m\u001b[0m\u001b[0m\n\u001b[0m\u001b[1;32m    133\u001b[0m     \u001b[0mdata\u001b[0m \u001b[0;34m=\u001b[0m \u001b[0mbytes_io\u001b[0m\u001b[0;34m.\u001b[0m\u001b[0mgetvalue\u001b[0m\u001b[0;34m(\u001b[0m\u001b[0;34m)\u001b[0m\u001b[0;34m\u001b[0m\u001b[0;34m\u001b[0m\u001b[0m\n\u001b[1;32m    134\u001b[0m     \u001b[0;32mif\u001b[0m \u001b[0mfmt\u001b[0m \u001b[0;34m==\u001b[0m \u001b[0;34m'svg'\u001b[0m\u001b[0;34m:\u001b[0m\u001b[0;34m\u001b[0m\u001b[0;34m\u001b[0m\u001b[0m\n",
      "\u001b[0;32m~/.pyenv/versions/3.9.0/envs/mpl/lib/python3.9/site-packages/matplotlib/backend_bases.py\u001b[0m in \u001b[0;36mprint_figure\u001b[0;34m(self, filename, dpi, facecolor, edgecolor, orientation, format, bbox_inches, pad_inches, bbox_extra_artists, backend, **kwargs)\u001b[0m\n\u001b[1;32m   2208\u001b[0m \u001b[0;34m\u001b[0m\u001b[0m\n\u001b[1;32m   2209\u001b[0m             \u001b[0;32mtry\u001b[0m\u001b[0;34m:\u001b[0m\u001b[0;34m\u001b[0m\u001b[0;34m\u001b[0m\u001b[0m\n\u001b[0;32m-> 2210\u001b[0;31m                 result = print_method(\n\u001b[0m\u001b[1;32m   2211\u001b[0m                     \u001b[0mfilename\u001b[0m\u001b[0;34m,\u001b[0m\u001b[0;34m\u001b[0m\u001b[0;34m\u001b[0m\u001b[0m\n\u001b[1;32m   2212\u001b[0m                     \u001b[0mdpi\u001b[0m\u001b[0;34m=\u001b[0m\u001b[0mdpi\u001b[0m\u001b[0;34m,\u001b[0m\u001b[0;34m\u001b[0m\u001b[0;34m\u001b[0m\u001b[0m\n",
      "\u001b[0;32m~/.pyenv/versions/3.9.0/envs/mpl/lib/python3.9/site-packages/matplotlib/backend_bases.py\u001b[0m in \u001b[0;36mwrapper\u001b[0;34m(*args, **kwargs)\u001b[0m\n\u001b[1;32m   1637\u001b[0m             \u001b[0mkwargs\u001b[0m\u001b[0;34m.\u001b[0m\u001b[0mpop\u001b[0m\u001b[0;34m(\u001b[0m\u001b[0marg\u001b[0m\u001b[0;34m)\u001b[0m\u001b[0;34m\u001b[0m\u001b[0;34m\u001b[0m\u001b[0m\n\u001b[1;32m   1638\u001b[0m \u001b[0;34m\u001b[0m\u001b[0m\n\u001b[0;32m-> 1639\u001b[0;31m         \u001b[0;32mreturn\u001b[0m \u001b[0mfunc\u001b[0m\u001b[0;34m(\u001b[0m\u001b[0;34m*\u001b[0m\u001b[0margs\u001b[0m\u001b[0;34m,\u001b[0m \u001b[0;34m**\u001b[0m\u001b[0mkwargs\u001b[0m\u001b[0;34m)\u001b[0m\u001b[0;34m\u001b[0m\u001b[0;34m\u001b[0m\u001b[0m\n\u001b[0m\u001b[1;32m   1640\u001b[0m \u001b[0;34m\u001b[0m\u001b[0m\n\u001b[1;32m   1641\u001b[0m     \u001b[0;32mreturn\u001b[0m \u001b[0mwrapper\u001b[0m\u001b[0;34m\u001b[0m\u001b[0;34m\u001b[0m\u001b[0m\n",
      "\u001b[0;32m~/.pyenv/versions/3.9.0/envs/mpl/lib/python3.9/site-packages/matplotlib/backends/backend_agg.py\u001b[0m in \u001b[0;36mprint_png\u001b[0;34m(self, filename_or_obj, metadata, pil_kwargs, *args)\u001b[0m\n\u001b[1;32m    507\u001b[0m             \u001b[0;34m*\u001b[0m\u001b[0mmetadata\u001b[0m\u001b[0;34m*\u001b[0m\u001b[0;34m,\u001b[0m \u001b[0mincluding\u001b[0m \u001b[0mthe\u001b[0m \u001b[0mdefault\u001b[0m \u001b[0;34m'Software'\u001b[0m \u001b[0mkey\u001b[0m\u001b[0;34m.\u001b[0m\u001b[0;34m\u001b[0m\u001b[0;34m\u001b[0m\u001b[0m\n\u001b[1;32m    508\u001b[0m         \"\"\"\n\u001b[0;32m--> 509\u001b[0;31m         \u001b[0mFigureCanvasAgg\u001b[0m\u001b[0;34m.\u001b[0m\u001b[0mdraw\u001b[0m\u001b[0;34m(\u001b[0m\u001b[0mself\u001b[0m\u001b[0;34m)\u001b[0m\u001b[0;34m\u001b[0m\u001b[0;34m\u001b[0m\u001b[0m\n\u001b[0m\u001b[1;32m    510\u001b[0m         mpl.image.imsave(\n\u001b[1;32m    511\u001b[0m             \u001b[0mfilename_or_obj\u001b[0m\u001b[0;34m,\u001b[0m \u001b[0mself\u001b[0m\u001b[0;34m.\u001b[0m\u001b[0mbuffer_rgba\u001b[0m\u001b[0;34m(\u001b[0m\u001b[0;34m)\u001b[0m\u001b[0;34m,\u001b[0m \u001b[0mformat\u001b[0m\u001b[0;34m=\u001b[0m\u001b[0;34m\"png\"\u001b[0m\u001b[0;34m,\u001b[0m \u001b[0morigin\u001b[0m\u001b[0;34m=\u001b[0m\u001b[0;34m\"upper\"\u001b[0m\u001b[0;34m,\u001b[0m\u001b[0;34m\u001b[0m\u001b[0;34m\u001b[0m\u001b[0m\n",
      "\u001b[0;32m~/.pyenv/versions/3.9.0/envs/mpl/lib/python3.9/site-packages/matplotlib/backends/backend_agg.py\u001b[0m in \u001b[0;36mdraw\u001b[0;34m(self)\u001b[0m\n\u001b[1;32m    405\u001b[0m              (self.toolbar._wait_cursor_for_draw_cm() if self.toolbar\n\u001b[1;32m    406\u001b[0m               else nullcontext()):\n\u001b[0;32m--> 407\u001b[0;31m             \u001b[0mself\u001b[0m\u001b[0;34m.\u001b[0m\u001b[0mfigure\u001b[0m\u001b[0;34m.\u001b[0m\u001b[0mdraw\u001b[0m\u001b[0;34m(\u001b[0m\u001b[0mself\u001b[0m\u001b[0;34m.\u001b[0m\u001b[0mrenderer\u001b[0m\u001b[0;34m)\u001b[0m\u001b[0;34m\u001b[0m\u001b[0;34m\u001b[0m\u001b[0m\n\u001b[0m\u001b[1;32m    408\u001b[0m             \u001b[0;31m# A GUI class may be need to update a window using this draw, so\u001b[0m\u001b[0;34m\u001b[0m\u001b[0;34m\u001b[0m\u001b[0;34m\u001b[0m\u001b[0m\n\u001b[1;32m    409\u001b[0m             \u001b[0;31m# don't forget to call the superclass.\u001b[0m\u001b[0;34m\u001b[0m\u001b[0;34m\u001b[0m\u001b[0;34m\u001b[0m\u001b[0m\n",
      "\u001b[0;32m~/.pyenv/versions/3.9.0/envs/mpl/lib/python3.9/site-packages/matplotlib/artist.py\u001b[0m in \u001b[0;36mdraw_wrapper\u001b[0;34m(artist, renderer, *args, **kwargs)\u001b[0m\n\u001b[1;32m     39\u001b[0m                 \u001b[0mrenderer\u001b[0m\u001b[0;34m.\u001b[0m\u001b[0mstart_filter\u001b[0m\u001b[0;34m(\u001b[0m\u001b[0;34m)\u001b[0m\u001b[0;34m\u001b[0m\u001b[0;34m\u001b[0m\u001b[0m\n\u001b[1;32m     40\u001b[0m \u001b[0;34m\u001b[0m\u001b[0m\n\u001b[0;32m---> 41\u001b[0;31m             \u001b[0;32mreturn\u001b[0m \u001b[0mdraw\u001b[0m\u001b[0;34m(\u001b[0m\u001b[0martist\u001b[0m\u001b[0;34m,\u001b[0m \u001b[0mrenderer\u001b[0m\u001b[0;34m,\u001b[0m \u001b[0;34m*\u001b[0m\u001b[0margs\u001b[0m\u001b[0;34m,\u001b[0m \u001b[0;34m**\u001b[0m\u001b[0mkwargs\u001b[0m\u001b[0;34m)\u001b[0m\u001b[0;34m\u001b[0m\u001b[0;34m\u001b[0m\u001b[0m\n\u001b[0m\u001b[1;32m     42\u001b[0m         \u001b[0;32mfinally\u001b[0m\u001b[0;34m:\u001b[0m\u001b[0;34m\u001b[0m\u001b[0;34m\u001b[0m\u001b[0m\n\u001b[1;32m     43\u001b[0m             \u001b[0;32mif\u001b[0m \u001b[0martist\u001b[0m\u001b[0;34m.\u001b[0m\u001b[0mget_agg_filter\u001b[0m\u001b[0;34m(\u001b[0m\u001b[0;34m)\u001b[0m \u001b[0;32mis\u001b[0m \u001b[0;32mnot\u001b[0m \u001b[0;32mNone\u001b[0m\u001b[0;34m:\u001b[0m\u001b[0;34m\u001b[0m\u001b[0;34m\u001b[0m\u001b[0m\n",
      "\u001b[0;32m~/.pyenv/versions/3.9.0/envs/mpl/lib/python3.9/site-packages/matplotlib/figure.py\u001b[0m in \u001b[0;36mdraw\u001b[0;34m(self, renderer)\u001b[0m\n\u001b[1;32m   1861\u001b[0m \u001b[0;34m\u001b[0m\u001b[0m\n\u001b[1;32m   1862\u001b[0m             \u001b[0mself\u001b[0m\u001b[0;34m.\u001b[0m\u001b[0mpatch\u001b[0m\u001b[0;34m.\u001b[0m\u001b[0mdraw\u001b[0m\u001b[0;34m(\u001b[0m\u001b[0mrenderer\u001b[0m\u001b[0;34m)\u001b[0m\u001b[0;34m\u001b[0m\u001b[0;34m\u001b[0m\u001b[0m\n\u001b[0;32m-> 1863\u001b[0;31m             mimage._draw_list_compositing_images(\n\u001b[0m\u001b[1;32m   1864\u001b[0m                 renderer, self, artists, self.suppressComposite)\n\u001b[1;32m   1865\u001b[0m \u001b[0;34m\u001b[0m\u001b[0m\n",
      "\u001b[0;32m~/.pyenv/versions/3.9.0/envs/mpl/lib/python3.9/site-packages/matplotlib/image.py\u001b[0m in \u001b[0;36m_draw_list_compositing_images\u001b[0;34m(renderer, parent, artists, suppress_composite)\u001b[0m\n\u001b[1;32m    129\u001b[0m     \u001b[0;32mif\u001b[0m \u001b[0mnot_composite\u001b[0m \u001b[0;32mor\u001b[0m \u001b[0;32mnot\u001b[0m \u001b[0mhas_images\u001b[0m\u001b[0;34m:\u001b[0m\u001b[0;34m\u001b[0m\u001b[0;34m\u001b[0m\u001b[0m\n\u001b[1;32m    130\u001b[0m         \u001b[0;32mfor\u001b[0m \u001b[0ma\u001b[0m \u001b[0;32min\u001b[0m \u001b[0martists\u001b[0m\u001b[0;34m:\u001b[0m\u001b[0;34m\u001b[0m\u001b[0;34m\u001b[0m\u001b[0m\n\u001b[0;32m--> 131\u001b[0;31m             \u001b[0ma\u001b[0m\u001b[0;34m.\u001b[0m\u001b[0mdraw\u001b[0m\u001b[0;34m(\u001b[0m\u001b[0mrenderer\u001b[0m\u001b[0;34m)\u001b[0m\u001b[0;34m\u001b[0m\u001b[0;34m\u001b[0m\u001b[0m\n\u001b[0m\u001b[1;32m    132\u001b[0m     \u001b[0;32melse\u001b[0m\u001b[0;34m:\u001b[0m\u001b[0;34m\u001b[0m\u001b[0;34m\u001b[0m\u001b[0m\n\u001b[1;32m    133\u001b[0m         \u001b[0;31m# Composite any adjacent images together\u001b[0m\u001b[0;34m\u001b[0m\u001b[0;34m\u001b[0m\u001b[0;34m\u001b[0m\u001b[0m\n",
      "\u001b[0;32m~/.pyenv/versions/3.9.0/envs/mpl/lib/python3.9/site-packages/matplotlib/artist.py\u001b[0m in \u001b[0;36mdraw_wrapper\u001b[0;34m(artist, renderer, *args, **kwargs)\u001b[0m\n\u001b[1;32m     39\u001b[0m                 \u001b[0mrenderer\u001b[0m\u001b[0;34m.\u001b[0m\u001b[0mstart_filter\u001b[0m\u001b[0;34m(\u001b[0m\u001b[0;34m)\u001b[0m\u001b[0;34m\u001b[0m\u001b[0;34m\u001b[0m\u001b[0m\n\u001b[1;32m     40\u001b[0m \u001b[0;34m\u001b[0m\u001b[0m\n\u001b[0;32m---> 41\u001b[0;31m             \u001b[0;32mreturn\u001b[0m \u001b[0mdraw\u001b[0m\u001b[0;34m(\u001b[0m\u001b[0martist\u001b[0m\u001b[0;34m,\u001b[0m \u001b[0mrenderer\u001b[0m\u001b[0;34m,\u001b[0m \u001b[0;34m*\u001b[0m\u001b[0margs\u001b[0m\u001b[0;34m,\u001b[0m \u001b[0;34m**\u001b[0m\u001b[0mkwargs\u001b[0m\u001b[0;34m)\u001b[0m\u001b[0;34m\u001b[0m\u001b[0;34m\u001b[0m\u001b[0m\n\u001b[0m\u001b[1;32m     42\u001b[0m         \u001b[0;32mfinally\u001b[0m\u001b[0;34m:\u001b[0m\u001b[0;34m\u001b[0m\u001b[0;34m\u001b[0m\u001b[0m\n\u001b[1;32m     43\u001b[0m             \u001b[0;32mif\u001b[0m \u001b[0martist\u001b[0m\u001b[0;34m.\u001b[0m\u001b[0mget_agg_filter\u001b[0m\u001b[0;34m(\u001b[0m\u001b[0;34m)\u001b[0m \u001b[0;32mis\u001b[0m \u001b[0;32mnot\u001b[0m \u001b[0;32mNone\u001b[0m\u001b[0;34m:\u001b[0m\u001b[0;34m\u001b[0m\u001b[0;34m\u001b[0m\u001b[0m\n",
      "\u001b[0;32m~/.pyenv/versions/3.9.0/envs/mpl/lib/python3.9/site-packages/matplotlib/cbook/deprecation.py\u001b[0m in \u001b[0;36mwrapper\u001b[0;34m(*inner_args, **inner_kwargs)\u001b[0m\n\u001b[1;32m    409\u001b[0m                          \u001b[0;32melse\u001b[0m \u001b[0mdeprecation_addendum\u001b[0m\u001b[0;34m,\u001b[0m\u001b[0;34m\u001b[0m\u001b[0;34m\u001b[0m\u001b[0m\n\u001b[1;32m    410\u001b[0m                 **kwargs)\n\u001b[0;32m--> 411\u001b[0;31m         \u001b[0;32mreturn\u001b[0m \u001b[0mfunc\u001b[0m\u001b[0;34m(\u001b[0m\u001b[0;34m*\u001b[0m\u001b[0minner_args\u001b[0m\u001b[0;34m,\u001b[0m \u001b[0;34m**\u001b[0m\u001b[0minner_kwargs\u001b[0m\u001b[0;34m)\u001b[0m\u001b[0;34m\u001b[0m\u001b[0;34m\u001b[0m\u001b[0m\n\u001b[0m\u001b[1;32m    412\u001b[0m \u001b[0;34m\u001b[0m\u001b[0m\n\u001b[1;32m    413\u001b[0m     \u001b[0;32mreturn\u001b[0m \u001b[0mwrapper\u001b[0m\u001b[0;34m\u001b[0m\u001b[0;34m\u001b[0m\u001b[0m\n",
      "\u001b[0;32m~/.pyenv/versions/3.9.0/envs/mpl/lib/python3.9/site-packages/matplotlib/axes/_base.py\u001b[0m in \u001b[0;36mdraw\u001b[0;34m(self, renderer, inframe)\u001b[0m\n\u001b[1;32m   2745\u001b[0m             \u001b[0mrenderer\u001b[0m\u001b[0;34m.\u001b[0m\u001b[0mstop_rasterizing\u001b[0m\u001b[0;34m(\u001b[0m\u001b[0;34m)\u001b[0m\u001b[0;34m\u001b[0m\u001b[0;34m\u001b[0m\u001b[0m\n\u001b[1;32m   2746\u001b[0m \u001b[0;34m\u001b[0m\u001b[0m\n\u001b[0;32m-> 2747\u001b[0;31m         \u001b[0mmimage\u001b[0m\u001b[0;34m.\u001b[0m\u001b[0m_draw_list_compositing_images\u001b[0m\u001b[0;34m(\u001b[0m\u001b[0mrenderer\u001b[0m\u001b[0;34m,\u001b[0m \u001b[0mself\u001b[0m\u001b[0;34m,\u001b[0m \u001b[0martists\u001b[0m\u001b[0;34m)\u001b[0m\u001b[0;34m\u001b[0m\u001b[0;34m\u001b[0m\u001b[0m\n\u001b[0m\u001b[1;32m   2748\u001b[0m \u001b[0;34m\u001b[0m\u001b[0m\n\u001b[1;32m   2749\u001b[0m         \u001b[0mrenderer\u001b[0m\u001b[0;34m.\u001b[0m\u001b[0mclose_group\u001b[0m\u001b[0;34m(\u001b[0m\u001b[0;34m'axes'\u001b[0m\u001b[0;34m)\u001b[0m\u001b[0;34m\u001b[0m\u001b[0;34m\u001b[0m\u001b[0m\n",
      "\u001b[0;32m~/.pyenv/versions/3.9.0/envs/mpl/lib/python3.9/site-packages/matplotlib/image.py\u001b[0m in \u001b[0;36m_draw_list_compositing_images\u001b[0;34m(renderer, parent, artists, suppress_composite)\u001b[0m\n\u001b[1;32m    129\u001b[0m     \u001b[0;32mif\u001b[0m \u001b[0mnot_composite\u001b[0m \u001b[0;32mor\u001b[0m \u001b[0;32mnot\u001b[0m \u001b[0mhas_images\u001b[0m\u001b[0;34m:\u001b[0m\u001b[0;34m\u001b[0m\u001b[0;34m\u001b[0m\u001b[0m\n\u001b[1;32m    130\u001b[0m         \u001b[0;32mfor\u001b[0m \u001b[0ma\u001b[0m \u001b[0;32min\u001b[0m \u001b[0martists\u001b[0m\u001b[0;34m:\u001b[0m\u001b[0;34m\u001b[0m\u001b[0;34m\u001b[0m\u001b[0m\n\u001b[0;32m--> 131\u001b[0;31m             \u001b[0ma\u001b[0m\u001b[0;34m.\u001b[0m\u001b[0mdraw\u001b[0m\u001b[0;34m(\u001b[0m\u001b[0mrenderer\u001b[0m\u001b[0;34m)\u001b[0m\u001b[0;34m\u001b[0m\u001b[0;34m\u001b[0m\u001b[0m\n\u001b[0m\u001b[1;32m    132\u001b[0m     \u001b[0;32melse\u001b[0m\u001b[0;34m:\u001b[0m\u001b[0;34m\u001b[0m\u001b[0;34m\u001b[0m\u001b[0m\n\u001b[1;32m    133\u001b[0m         \u001b[0;31m# Composite any adjacent images together\u001b[0m\u001b[0;34m\u001b[0m\u001b[0;34m\u001b[0m\u001b[0;34m\u001b[0m\u001b[0m\n",
      "\u001b[0;32m~/.pyenv/versions/3.9.0/envs/mpl/lib/python3.9/site-packages/matplotlib/artist.py\u001b[0m in \u001b[0;36mdraw_wrapper\u001b[0;34m(artist, renderer, *args, **kwargs)\u001b[0m\n\u001b[1;32m     39\u001b[0m                 \u001b[0mrenderer\u001b[0m\u001b[0;34m.\u001b[0m\u001b[0mstart_filter\u001b[0m\u001b[0;34m(\u001b[0m\u001b[0;34m)\u001b[0m\u001b[0;34m\u001b[0m\u001b[0;34m\u001b[0m\u001b[0m\n\u001b[1;32m     40\u001b[0m \u001b[0;34m\u001b[0m\u001b[0m\n\u001b[0;32m---> 41\u001b[0;31m             \u001b[0;32mreturn\u001b[0m \u001b[0mdraw\u001b[0m\u001b[0;34m(\u001b[0m\u001b[0martist\u001b[0m\u001b[0;34m,\u001b[0m \u001b[0mrenderer\u001b[0m\u001b[0;34m,\u001b[0m \u001b[0;34m*\u001b[0m\u001b[0margs\u001b[0m\u001b[0;34m,\u001b[0m \u001b[0;34m**\u001b[0m\u001b[0mkwargs\u001b[0m\u001b[0;34m)\u001b[0m\u001b[0;34m\u001b[0m\u001b[0;34m\u001b[0m\u001b[0m\n\u001b[0m\u001b[1;32m     42\u001b[0m         \u001b[0;32mfinally\u001b[0m\u001b[0;34m:\u001b[0m\u001b[0;34m\u001b[0m\u001b[0;34m\u001b[0m\u001b[0m\n\u001b[1;32m     43\u001b[0m             \u001b[0;32mif\u001b[0m \u001b[0martist\u001b[0m\u001b[0;34m.\u001b[0m\u001b[0mget_agg_filter\u001b[0m\u001b[0;34m(\u001b[0m\u001b[0;34m)\u001b[0m \u001b[0;32mis\u001b[0m \u001b[0;32mnot\u001b[0m \u001b[0;32mNone\u001b[0m\u001b[0;34m:\u001b[0m\u001b[0;34m\u001b[0m\u001b[0;34m\u001b[0m\u001b[0m\n",
      "\u001b[0;32m~/.pyenv/versions/3.9.0/envs/mpl/lib/python3.9/site-packages/matplotlib/axis.py\u001b[0m in \u001b[0;36mdraw\u001b[0;34m(self, renderer, *args, **kwargs)\u001b[0m\n\u001b[1;32m   1167\u001b[0m \u001b[0;34m\u001b[0m\u001b[0m\n\u001b[1;32m   1168\u001b[0m         \u001b[0;32mfor\u001b[0m \u001b[0mtick\u001b[0m \u001b[0;32min\u001b[0m \u001b[0mticks_to_draw\u001b[0m\u001b[0;34m:\u001b[0m\u001b[0;34m\u001b[0m\u001b[0;34m\u001b[0m\u001b[0m\n\u001b[0;32m-> 1169\u001b[0;31m             \u001b[0mtick\u001b[0m\u001b[0;34m.\u001b[0m\u001b[0mdraw\u001b[0m\u001b[0;34m(\u001b[0m\u001b[0mrenderer\u001b[0m\u001b[0;34m)\u001b[0m\u001b[0;34m\u001b[0m\u001b[0;34m\u001b[0m\u001b[0m\n\u001b[0m\u001b[1;32m   1170\u001b[0m \u001b[0;34m\u001b[0m\u001b[0m\n\u001b[1;32m   1171\u001b[0m         \u001b[0;31m# scale up the axis label box to also find the neighbors, not\u001b[0m\u001b[0;34m\u001b[0m\u001b[0;34m\u001b[0m\u001b[0;34m\u001b[0m\u001b[0m\n",
      "\u001b[0;32m~/.pyenv/versions/3.9.0/envs/mpl/lib/python3.9/site-packages/matplotlib/artist.py\u001b[0m in \u001b[0;36mdraw_wrapper\u001b[0;34m(artist, renderer, *args, **kwargs)\u001b[0m\n\u001b[1;32m     39\u001b[0m                 \u001b[0mrenderer\u001b[0m\u001b[0;34m.\u001b[0m\u001b[0mstart_filter\u001b[0m\u001b[0;34m(\u001b[0m\u001b[0;34m)\u001b[0m\u001b[0;34m\u001b[0m\u001b[0;34m\u001b[0m\u001b[0m\n\u001b[1;32m     40\u001b[0m \u001b[0;34m\u001b[0m\u001b[0m\n\u001b[0;32m---> 41\u001b[0;31m             \u001b[0;32mreturn\u001b[0m \u001b[0mdraw\u001b[0m\u001b[0;34m(\u001b[0m\u001b[0martist\u001b[0m\u001b[0;34m,\u001b[0m \u001b[0mrenderer\u001b[0m\u001b[0;34m,\u001b[0m \u001b[0;34m*\u001b[0m\u001b[0margs\u001b[0m\u001b[0;34m,\u001b[0m \u001b[0;34m**\u001b[0m\u001b[0mkwargs\u001b[0m\u001b[0;34m)\u001b[0m\u001b[0;34m\u001b[0m\u001b[0;34m\u001b[0m\u001b[0m\n\u001b[0m\u001b[1;32m     42\u001b[0m         \u001b[0;32mfinally\u001b[0m\u001b[0;34m:\u001b[0m\u001b[0;34m\u001b[0m\u001b[0;34m\u001b[0m\u001b[0m\n\u001b[1;32m     43\u001b[0m             \u001b[0;32mif\u001b[0m \u001b[0martist\u001b[0m\u001b[0;34m.\u001b[0m\u001b[0mget_agg_filter\u001b[0m\u001b[0;34m(\u001b[0m\u001b[0;34m)\u001b[0m \u001b[0;32mis\u001b[0m \u001b[0;32mnot\u001b[0m \u001b[0;32mNone\u001b[0m\u001b[0;34m:\u001b[0m\u001b[0;34m\u001b[0m\u001b[0;34m\u001b[0m\u001b[0m\n",
      "\u001b[0;32m~/.pyenv/versions/3.9.0/envs/mpl/lib/python3.9/site-packages/matplotlib/axis.py\u001b[0m in \u001b[0;36mdraw\u001b[0;34m(self, renderer)\u001b[0m\n\u001b[1;32m    289\u001b[0m         for artist in [self.gridline, self.tick1line, self.tick2line,\n\u001b[1;32m    290\u001b[0m                        self.label1, self.label2]:\n\u001b[0;32m--> 291\u001b[0;31m             \u001b[0martist\u001b[0m\u001b[0;34m.\u001b[0m\u001b[0mdraw\u001b[0m\u001b[0;34m(\u001b[0m\u001b[0mrenderer\u001b[0m\u001b[0;34m)\u001b[0m\u001b[0;34m\u001b[0m\u001b[0;34m\u001b[0m\u001b[0m\n\u001b[0m\u001b[1;32m    292\u001b[0m         \u001b[0mrenderer\u001b[0m\u001b[0;34m.\u001b[0m\u001b[0mclose_group\u001b[0m\u001b[0;34m(\u001b[0m\u001b[0mself\u001b[0m\u001b[0;34m.\u001b[0m\u001b[0m__name__\u001b[0m\u001b[0;34m)\u001b[0m\u001b[0;34m\u001b[0m\u001b[0;34m\u001b[0m\u001b[0m\n\u001b[1;32m    293\u001b[0m         \u001b[0mself\u001b[0m\u001b[0;34m.\u001b[0m\u001b[0mstale\u001b[0m \u001b[0;34m=\u001b[0m \u001b[0;32mFalse\u001b[0m\u001b[0;34m\u001b[0m\u001b[0;34m\u001b[0m\u001b[0m\n",
      "\u001b[0;32m~/.pyenv/versions/3.9.0/envs/mpl/lib/python3.9/site-packages/matplotlib/artist.py\u001b[0m in \u001b[0;36mdraw_wrapper\u001b[0;34m(artist, renderer, *args, **kwargs)\u001b[0m\n\u001b[1;32m     39\u001b[0m                 \u001b[0mrenderer\u001b[0m\u001b[0;34m.\u001b[0m\u001b[0mstart_filter\u001b[0m\u001b[0;34m(\u001b[0m\u001b[0;34m)\u001b[0m\u001b[0;34m\u001b[0m\u001b[0;34m\u001b[0m\u001b[0m\n\u001b[1;32m     40\u001b[0m \u001b[0;34m\u001b[0m\u001b[0m\n\u001b[0;32m---> 41\u001b[0;31m             \u001b[0;32mreturn\u001b[0m \u001b[0mdraw\u001b[0m\u001b[0;34m(\u001b[0m\u001b[0martist\u001b[0m\u001b[0;34m,\u001b[0m \u001b[0mrenderer\u001b[0m\u001b[0;34m,\u001b[0m \u001b[0;34m*\u001b[0m\u001b[0margs\u001b[0m\u001b[0;34m,\u001b[0m \u001b[0;34m**\u001b[0m\u001b[0mkwargs\u001b[0m\u001b[0;34m)\u001b[0m\u001b[0;34m\u001b[0m\u001b[0;34m\u001b[0m\u001b[0m\n\u001b[0m\u001b[1;32m     42\u001b[0m         \u001b[0;32mfinally\u001b[0m\u001b[0;34m:\u001b[0m\u001b[0;34m\u001b[0m\u001b[0;34m\u001b[0m\u001b[0m\n\u001b[1;32m     43\u001b[0m             \u001b[0;32mif\u001b[0m \u001b[0martist\u001b[0m\u001b[0;34m.\u001b[0m\u001b[0mget_agg_filter\u001b[0m\u001b[0;34m(\u001b[0m\u001b[0;34m)\u001b[0m \u001b[0;32mis\u001b[0m \u001b[0;32mnot\u001b[0m \u001b[0;32mNone\u001b[0m\u001b[0;34m:\u001b[0m\u001b[0;34m\u001b[0m\u001b[0;34m\u001b[0m\u001b[0m\n",
      "\u001b[0;32m~/.pyenv/versions/3.9.0/envs/mpl/lib/python3.9/site-packages/matplotlib/text.py\u001b[0m in \u001b[0;36mdraw\u001b[0;34m(self, renderer)\u001b[0m\n\u001b[1;32m    725\u001b[0m                                           mtext=mtext)\n\u001b[1;32m    726\u001b[0m                 \u001b[0;32melse\u001b[0m\u001b[0;34m:\u001b[0m\u001b[0;34m\u001b[0m\u001b[0;34m\u001b[0m\u001b[0m\n\u001b[0;32m--> 727\u001b[0;31m                     textrenderer.draw_text(gc, x, y, clean_line,\n\u001b[0m\u001b[1;32m    728\u001b[0m                                            \u001b[0mtextobj\u001b[0m\u001b[0;34m.\u001b[0m\u001b[0m_fontproperties\u001b[0m\u001b[0;34m,\u001b[0m \u001b[0mangle\u001b[0m\u001b[0;34m,\u001b[0m\u001b[0;34m\u001b[0m\u001b[0;34m\u001b[0m\u001b[0m\n\u001b[1;32m    729\u001b[0m                                            ismath=ismath, mtext=mtext)\n",
      "\u001b[0;32m~/.pyenv/versions/3.9.0/envs/mpl/lib/python3.9/site-packages/matplotlib/backends/backend_agg.py\u001b[0m in \u001b[0;36mdraw_text\u001b[0;34m(self, gc, x, y, s, prop, angle, ismath, mtext)\u001b[0m\n\u001b[1;32m    193\u001b[0m \u001b[0;34m\u001b[0m\u001b[0m\n\u001b[1;32m    194\u001b[0m         \u001b[0mflags\u001b[0m \u001b[0;34m=\u001b[0m \u001b[0mget_hinting_flag\u001b[0m\u001b[0;34m(\u001b[0m\u001b[0;34m)\u001b[0m\u001b[0;34m\u001b[0m\u001b[0;34m\u001b[0m\u001b[0m\n\u001b[0;32m--> 195\u001b[0;31m         \u001b[0mfont\u001b[0m \u001b[0;34m=\u001b[0m \u001b[0mself\u001b[0m\u001b[0;34m.\u001b[0m\u001b[0m_get_agg_font\u001b[0m\u001b[0;34m(\u001b[0m\u001b[0mprop\u001b[0m\u001b[0;34m)\u001b[0m\u001b[0;34m\u001b[0m\u001b[0;34m\u001b[0m\u001b[0m\n\u001b[0m\u001b[1;32m    196\u001b[0m \u001b[0;34m\u001b[0m\u001b[0m\n\u001b[1;32m    197\u001b[0m         \u001b[0;32mif\u001b[0m \u001b[0mfont\u001b[0m \u001b[0;32mis\u001b[0m \u001b[0;32mNone\u001b[0m\u001b[0;34m:\u001b[0m\u001b[0;34m\u001b[0m\u001b[0;34m\u001b[0m\u001b[0m\n",
      "\u001b[0;32m~/.pyenv/versions/3.9.0/envs/mpl/lib/python3.9/site-packages/matplotlib/backends/backend_agg.py\u001b[0m in \u001b[0;36m_get_agg_font\u001b[0;34m(self, prop)\u001b[0m\n\u001b[1;32m    270\u001b[0m         \u001b[0mGet\u001b[0m \u001b[0mthe\u001b[0m \u001b[0mfont\u001b[0m \u001b[0;32mfor\u001b[0m \u001b[0mtext\u001b[0m \u001b[0minstance\u001b[0m \u001b[0mt\u001b[0m\u001b[0;34m,\u001b[0m \u001b[0mcaching\u001b[0m \u001b[0;32mfor\u001b[0m \u001b[0mefficiency\u001b[0m\u001b[0;34m\u001b[0m\u001b[0;34m\u001b[0m\u001b[0m\n\u001b[1;32m    271\u001b[0m         \"\"\"\n\u001b[0;32m--> 272\u001b[0;31m         \u001b[0mfname\u001b[0m \u001b[0;34m=\u001b[0m \u001b[0mfindfont\u001b[0m\u001b[0;34m(\u001b[0m\u001b[0mprop\u001b[0m\u001b[0;34m)\u001b[0m\u001b[0;34m\u001b[0m\u001b[0;34m\u001b[0m\u001b[0m\n\u001b[0m\u001b[1;32m    273\u001b[0m         \u001b[0mfont\u001b[0m \u001b[0;34m=\u001b[0m \u001b[0mget_font\u001b[0m\u001b[0;34m(\u001b[0m\u001b[0mfname\u001b[0m\u001b[0;34m)\u001b[0m\u001b[0;34m\u001b[0m\u001b[0;34m\u001b[0m\u001b[0m\n\u001b[1;32m    274\u001b[0m \u001b[0;34m\u001b[0m\u001b[0m\n",
      "\u001b[0;32m~/.pyenv/versions/3.9.0/envs/mpl/lib/python3.9/site-packages/matplotlib/font_manager.py\u001b[0m in \u001b[0;36mfindfont\u001b[0;34m(self, prop, fontext, directory, fallback_to_default, rebuild_if_missing)\u001b[0m\n\u001b[1;32m   1312\u001b[0m             \u001b[0mprop\u001b[0m\u001b[0;34m,\u001b[0m \u001b[0mfontext\u001b[0m\u001b[0;34m,\u001b[0m \u001b[0mdirectory\u001b[0m\u001b[0;34m,\u001b[0m \u001b[0mfallback_to_default\u001b[0m\u001b[0;34m,\u001b[0m \u001b[0mrebuild_if_missing\u001b[0m\u001b[0;34m,\u001b[0m\u001b[0;34m\u001b[0m\u001b[0;34m\u001b[0m\u001b[0m\n\u001b[1;32m   1313\u001b[0m             rc_params)\n\u001b[0;32m-> 1314\u001b[0;31m         \u001b[0;32mreturn\u001b[0m \u001b[0mos\u001b[0m\u001b[0;34m.\u001b[0m\u001b[0mpath\u001b[0m\u001b[0;34m.\u001b[0m\u001b[0mrealpath\u001b[0m\u001b[0;34m(\u001b[0m\u001b[0mfilename\u001b[0m\u001b[0;34m)\u001b[0m\u001b[0;34m\u001b[0m\u001b[0;34m\u001b[0m\u001b[0m\n\u001b[0m\u001b[1;32m   1315\u001b[0m \u001b[0;34m\u001b[0m\u001b[0m\n\u001b[1;32m   1316\u001b[0m     \u001b[0;34m@\u001b[0m\u001b[0mlru_cache\u001b[0m\u001b[0;34m(\u001b[0m\u001b[0;34m)\u001b[0m\u001b[0;34m\u001b[0m\u001b[0;34m\u001b[0m\u001b[0m\n",
      "\u001b[0;32m~/.pyenv/versions/3.9.0/lib/python3.9/posixpath.py\u001b[0m in \u001b[0;36mrealpath\u001b[0;34m(filename)\u001b[0m\n\u001b[1;32m    389\u001b[0m symbolic links encountered in the path.\"\"\"\n\u001b[1;32m    390\u001b[0m     \u001b[0mfilename\u001b[0m \u001b[0;34m=\u001b[0m \u001b[0mos\u001b[0m\u001b[0;34m.\u001b[0m\u001b[0mfspath\u001b[0m\u001b[0;34m(\u001b[0m\u001b[0mfilename\u001b[0m\u001b[0;34m)\u001b[0m\u001b[0;34m\u001b[0m\u001b[0;34m\u001b[0m\u001b[0m\n\u001b[0;32m--> 391\u001b[0;31m     \u001b[0mpath\u001b[0m\u001b[0;34m,\u001b[0m \u001b[0mok\u001b[0m \u001b[0;34m=\u001b[0m \u001b[0m_joinrealpath\u001b[0m\u001b[0;34m(\u001b[0m\u001b[0mfilename\u001b[0m\u001b[0;34m[\u001b[0m\u001b[0;34m:\u001b[0m\u001b[0;36m0\u001b[0m\u001b[0;34m]\u001b[0m\u001b[0;34m,\u001b[0m \u001b[0mfilename\u001b[0m\u001b[0;34m,\u001b[0m \u001b[0;34m{\u001b[0m\u001b[0;34m}\u001b[0m\u001b[0;34m)\u001b[0m\u001b[0;34m\u001b[0m\u001b[0;34m\u001b[0m\u001b[0m\n\u001b[0m\u001b[1;32m    392\u001b[0m     \u001b[0;32mreturn\u001b[0m \u001b[0mabspath\u001b[0m\u001b[0;34m(\u001b[0m\u001b[0mpath\u001b[0m\u001b[0;34m)\u001b[0m\u001b[0;34m\u001b[0m\u001b[0;34m\u001b[0m\u001b[0m\n\u001b[1;32m    393\u001b[0m \u001b[0;34m\u001b[0m\u001b[0m\n",
      "\u001b[0;32m~/.pyenv/versions/3.9.0/lib/python3.9/posixpath.py\u001b[0m in \u001b[0;36m_joinrealpath\u001b[0;34m(path, rest, seen)\u001b[0m\n\u001b[1;32m    423\u001b[0m             \u001b[0;32mcontinue\u001b[0m\u001b[0;34m\u001b[0m\u001b[0;34m\u001b[0m\u001b[0m\n\u001b[1;32m    424\u001b[0m         \u001b[0mnewpath\u001b[0m \u001b[0;34m=\u001b[0m \u001b[0mjoin\u001b[0m\u001b[0;34m(\u001b[0m\u001b[0mpath\u001b[0m\u001b[0;34m,\u001b[0m \u001b[0mname\u001b[0m\u001b[0;34m)\u001b[0m\u001b[0;34m\u001b[0m\u001b[0;34m\u001b[0m\u001b[0m\n\u001b[0;32m--> 425\u001b[0;31m         \u001b[0;32mif\u001b[0m \u001b[0;32mnot\u001b[0m \u001b[0mislink\u001b[0m\u001b[0;34m(\u001b[0m\u001b[0mnewpath\u001b[0m\u001b[0;34m)\u001b[0m\u001b[0;34m:\u001b[0m\u001b[0;34m\u001b[0m\u001b[0;34m\u001b[0m\u001b[0m\n\u001b[0m\u001b[1;32m    426\u001b[0m             \u001b[0mpath\u001b[0m \u001b[0;34m=\u001b[0m \u001b[0mnewpath\u001b[0m\u001b[0;34m\u001b[0m\u001b[0;34m\u001b[0m\u001b[0m\n\u001b[1;32m    427\u001b[0m             \u001b[0;32mcontinue\u001b[0m\u001b[0;34m\u001b[0m\u001b[0;34m\u001b[0m\u001b[0m\n",
      "\u001b[0;32m~/.pyenv/versions/3.9.0/lib/python3.9/posixpath.py\u001b[0m in \u001b[0;36mislink\u001b[0;34m(path)\u001b[0m\n\u001b[1;32m    165\u001b[0m     \u001b[0;34m\"\"\"Test whether a path is a symbolic link\"\"\"\u001b[0m\u001b[0;34m\u001b[0m\u001b[0;34m\u001b[0m\u001b[0m\n\u001b[1;32m    166\u001b[0m     \u001b[0;32mtry\u001b[0m\u001b[0;34m:\u001b[0m\u001b[0;34m\u001b[0m\u001b[0;34m\u001b[0m\u001b[0m\n\u001b[0;32m--> 167\u001b[0;31m         \u001b[0mst\u001b[0m \u001b[0;34m=\u001b[0m \u001b[0mos\u001b[0m\u001b[0;34m.\u001b[0m\u001b[0mlstat\u001b[0m\u001b[0;34m(\u001b[0m\u001b[0mpath\u001b[0m\u001b[0;34m)\u001b[0m\u001b[0;34m\u001b[0m\u001b[0;34m\u001b[0m\u001b[0m\n\u001b[0m\u001b[1;32m    168\u001b[0m     \u001b[0;32mexcept\u001b[0m \u001b[0;34m(\u001b[0m\u001b[0mOSError\u001b[0m\u001b[0;34m,\u001b[0m \u001b[0mValueError\u001b[0m\u001b[0;34m,\u001b[0m \u001b[0mAttributeError\u001b[0m\u001b[0;34m)\u001b[0m\u001b[0;34m:\u001b[0m\u001b[0;34m\u001b[0m\u001b[0;34m\u001b[0m\u001b[0m\n\u001b[1;32m    169\u001b[0m         \u001b[0;32mreturn\u001b[0m \u001b[0;32mFalse\u001b[0m\u001b[0;34m\u001b[0m\u001b[0;34m\u001b[0m\u001b[0m\n",
      "\u001b[0;31mKeyboardInterrupt\u001b[0m: "
     ]
    },
    {
     "data": {
      "text/plain": [
       "<Figure size 432x288 with 0 Axes>"
      ]
     },
     "metadata": {},
     "output_type": "display_data"
    },
    {
     "data": {
      "text/plain": [
       "<Figure size 1152x360 with 0 Axes>"
      ]
     },
     "metadata": {},
     "output_type": "display_data"
    },
    {
     "data": {
      "text/plain": [
       "<Figure size 1152x360 with 0 Axes>"
      ]
     },
     "metadata": {},
     "output_type": "display_data"
    },
    {
     "data": {
      "text/plain": [
       "<Figure size 1152x360 with 0 Axes>"
      ]
     },
     "metadata": {},
     "output_type": "display_data"
    },
    {
     "data": {
      "text/plain": [
       "<Figure size 1152x360 with 0 Axes>"
      ]
     },
     "metadata": {},
     "output_type": "display_data"
    },
    {
     "data": {
      "text/plain": [
       "<Figure size 1152x360 with 0 Axes>"
      ]
     },
     "metadata": {},
     "output_type": "display_data"
    },
    {
     "data": {
      "text/plain": [
       "<Figure size 1152x360 with 0 Axes>"
      ]
     },
     "metadata": {},
     "output_type": "display_data"
    },
    {
     "data": {
      "text/plain": [
       "<Figure size 1152x360 with 0 Axes>"
      ]
     },
     "metadata": {},
     "output_type": "display_data"
    },
    {
     "data": {
      "text/plain": [
       "<Figure size 1152x360 with 0 Axes>"
      ]
     },
     "metadata": {},
     "output_type": "display_data"
    },
    {
     "data": {
      "text/plain": [
       "<Figure size 1152x360 with 0 Axes>"
      ]
     },
     "metadata": {},
     "output_type": "display_data"
    },
    {
     "data": {
      "text/plain": [
       "<Figure size 1152x360 with 0 Axes>"
      ]
     },
     "metadata": {},
     "output_type": "display_data"
    },
    {
     "data": {
      "text/plain": [
       "<Figure size 1152x360 with 0 Axes>"
      ]
     },
     "metadata": {},
     "output_type": "display_data"
    },
    {
     "data": {
      "text/plain": [
       "<Figure size 1152x360 with 0 Axes>"
      ]
     },
     "metadata": {},
     "output_type": "display_data"
    },
    {
     "data": {
      "text/plain": [
       "<Figure size 1152x360 with 0 Axes>"
      ]
     },
     "metadata": {},
     "output_type": "display_data"
    },
    {
     "data": {
      "text/plain": [
       "<Figure size 1152x360 with 0 Axes>"
      ]
     },
     "metadata": {},
     "output_type": "display_data"
    },
    {
     "data": {
      "text/plain": [
       "<Figure size 1152x360 with 0 Axes>"
      ]
     },
     "metadata": {},
     "output_type": "display_data"
    },
    {
     "data": {
      "text/plain": [
       "<Figure size 1152x360 with 0 Axes>"
      ]
     },
     "metadata": {},
     "output_type": "display_data"
    },
    {
     "data": {
      "text/plain": [
       "<Figure size 1152x360 with 0 Axes>"
      ]
     },
     "metadata": {},
     "output_type": "display_data"
    },
    {
     "data": {
      "text/plain": [
       "<Figure size 1152x360 with 0 Axes>"
      ]
     },
     "metadata": {},
     "output_type": "display_data"
    },
    {
     "data": {
      "text/plain": [
       "<Figure size 1152x360 with 0 Axes>"
      ]
     },
     "metadata": {},
     "output_type": "display_data"
    },
    {
     "data": {
      "text/plain": [
       "<Figure size 1152x360 with 0 Axes>"
      ]
     },
     "metadata": {},
     "output_type": "display_data"
    },
    {
     "data": {
      "text/plain": [
       "<Figure size 1152x360 with 0 Axes>"
      ]
     },
     "metadata": {},
     "output_type": "display_data"
    },
    {
     "data": {
      "text/plain": [
       "<Figure size 1152x360 with 0 Axes>"
      ]
     },
     "metadata": {},
     "output_type": "display_data"
    },
    {
     "data": {
      "text/plain": [
       "<Figure size 1152x360 with 0 Axes>"
      ]
     },
     "metadata": {},
     "output_type": "display_data"
    },
    {
     "data": {
      "text/plain": [
       "<Figure size 1152x360 with 0 Axes>"
      ]
     },
     "metadata": {},
     "output_type": "display_data"
    },
    {
     "data": {
      "text/plain": [
       "<Figure size 1152x360 with 0 Axes>"
      ]
     },
     "metadata": {},
     "output_type": "display_data"
    },
    {
     "data": {
      "text/plain": [
       "<Figure size 1152x360 with 0 Axes>"
      ]
     },
     "metadata": {},
     "output_type": "display_data"
    },
    {
     "data": {
      "text/plain": [
       "<Figure size 1152x360 with 0 Axes>"
      ]
     },
     "metadata": {},
     "output_type": "display_data"
    },
    {
     "data": {
      "text/plain": [
       "<Figure size 1152x360 with 0 Axes>"
      ]
     },
     "metadata": {},
     "output_type": "display_data"
    },
    {
     "data": {
      "image/png": "[encoded data removed]",
      "text/plain": [
       "<Figure size 1152x360 with 2 Axes>"
      ]
     },
     "metadata": {
      "needs_background": "light"
     },
     "output_type": "display_data"
    }
   ],
   "source": [
    "random.seed(69)\n",
    "np.random.seed(42)\n",
    "\n",
    "slv1 = solver.BruteForce(base, formula)\n",
    "vss1 = []\n",
    "p2p2 = []\n",
    "dmgs = []\n",
    "for _ in range(200):\n",
    "    vss1.append(slv1.step())\n",
    "    \n",
    "    # tracking i guess\n",
    "    if _ != 0:\n",
    "        cur = slv1.history_full[-1]\n",
    "        prv = slv1.history_full[-2]\n",
    "        \n",
    "        p2p = []\n",
    "        for ix, qq in enumerate(cur):\n",
    "            if qq in slv1.history[-1]:\n",
    "                pri = slv1.config_prior[qq]\n",
    "                frm = prv.index(pri)\n",
    "                nw = True\n",
    "            else:\n",
    "                frm = prv.index(qq)\n",
    "                nw = False\n",
    "            p2p.append((1+frm, 1+ix, nw))\n",
    "        p2p2.append(p2p)\n",
    "    \n",
    "    dmgs.append(list(map(lambda x: x.dmg, slv1.history_full[-1])))\n",
    "    \n",
    "    plt.clf()\n",
    "    plt.figure(figsize=(16,5))\n",
    "    plt.subplot(121)\n",
    "    plt.plot(vss2[:len(vss1)+10])\n",
    "    plt.plot(vss1)\n",
    "    \n",
    "    plt.subplot(122)\n",
    "    buddy = [np.count_nonzero(np.array(d) > .8*max(d)) for d in dmgs]\n",
    "    notbuddy = [len(d) for d in dmgs]\n",
    "    plt.plot(np.array(buddy) / np.array(notbuddy))\n",
    "    \n",
    "    display.clear_output(wait=True)\n",
    "    display.display(plt.gcf())\n",
    "plt.clf()"
   ]
  },
  {
   "cell_type": "code",
   "execution_count": 217,
   "id": "dca43f17-953d-425c-9ca9-ad2b8fdd0f67",
   "metadata": {},
   "outputs": [],
   "source": [
    "dmgs = [list(map(lambda x: x.dmg, bub)) for bub in slv1.history_full]"
   ]
  },
  {
   "cell_type": "code",
   "execution_count": 263,
   "id": "2826798f-86e1-47fc-a603-9e0682553e87",
   "metadata": {},
   "outputs": [
    {
     "data": {
      "text/plain": [
       "[<matplotlib.lines.Line2D at 0x11025da30>]"
      ]
     },
     "execution_count": 263,
     "metadata": {},
     "output_type": "execute_result"
    },
    {
     "data": {
      "image/png": "[encoded data removed]",
      "text/plain": [
       "<Figure size 432x288 with 1 Axes>"
      ]
     },
     "metadata": {
      "needs_background": "light"
     },
     "output_type": "display_data"
    }
   ],
   "source": [
    "buddy = [np.count_nonzero(np.array(d) > .7*max(d)) for d in dmgs]\n",
    "plt.plot(buddy)"
   ]
  },
  {
   "cell_type": "code",
   "execution_count": 258,
   "id": "f930cf4a-f9ae-4e97-b1a2-1f488627405d",
   "metadata": {},
   "outputs": [
    {
     "data": {
      "image/png": "[encoded data removed]",
      "text/plain": [
       "<Figure size 1152x648 with 1 Axes>"
      ]
     },
     "metadata": {
      "needs_background": "light"
     },
     "output_type": "display_data"
    }
   ],
   "source": [
    "plt.figure(figsize=(16,9))\n",
    "for i, p2p in enumerate(p2p2[:30]):\n",
    "    ar = np.array(p2p)\n",
    "    ma, mb, _ = np.amax(ar, axis=0)\n",
    "#     a, b, cl = ar.T\n",
    "    \n",
    "#     if np.count_nonzero(cl==0) != 0:\n",
    "#         plt.plot([i,i+1], [(ma-a[cl==0]+1)/ma,(mb-b[cl==0]+1)/mb], c='black', linewidth=.5)\n",
    "#     plt.plot([i,i+1], [(ma-a[cl==1]+1)/ma,(mb-b[cl==1]+1)/mb], c='red', linewidth=.5)\n",
    "\n",
    "    plt.plot([i, i+1], [(1+ma-buddy[i])/ma, (1+mb-buddy[i+1])/mb], c='blue')\n"
   ]
  },
  {
   "cell_type": "code",
   "execution_count": 189,
   "id": "bbcaeb93-e0aa-4520-87fe-e17d93b4b676",
   "metadata": {},
   "outputs": [
    {
     "data": {
      "text/plain": [
       "Phys Cup@(HP:0>717, DEF%:66>124, ATK:19>19, EM:19>40)"
      ]
     },
     "execution_count": 189,
     "metadata": {},
     "output_type": "execute_result"
    }
   ],
   "source": [
    "slv1.artis[11]"
   ]
  },
  {
   "cell_type": "code",
   "execution_count": 120,
   "id": "642c7562-eed5-45f9-a9f5-0615e55d4ef0",
   "metadata": {},
   "outputs": [],
   "source": [
    "i = 16\n",
    "tz = sorted(slv1.history[i], reverse=True)\n",
    "ty = sorted(slv1.history_full[i-1], reverse=True)\n",
    "\n",
    "bob = []\n",
    "for qq in tz:\n",
    "    pri = slv1.config_prior[qq]\n",
    "    bob.append(ty.index(pri))\n"
   ]
  },
  {
   "cell_type": "code",
   "execution_count": 108,
   "id": "5e46fec7-c63c-4277-99f7-35d166fcda7f",
   "metadata": {},
   "outputs": [
    {
     "data": {
      "text/plain": [
       "[0]"
      ]
     },
     "execution_count": 108,
     "metadata": {},
     "output_type": "execute_result"
    }
   ],
   "source": [
    "bob"
   ]
  },
  {
   "cell_type": "code",
   "execution_count": 57,
   "id": "0bac19ac-23aa-4aad-8689-4e21c2a7252d",
   "metadata": {},
   "outputs": [
    {
     "data": {
      "text/plain": [
       "Loadout(dmg=31040.050068661378, artis=(HP Flower@(DEF%:73>263, CR:39>66, CD:54>54, ER:58>116), ATK Feath@(HP%:58>58, DEF:23>42, CD:0>272, ER:45>45), ATK% Sands@(HP:239>538, DEF%:0>66, CR:31>97, CD:70>148), Phys Cup@(HP:0>717, DEF%:66>124, ATK:19>19, EM:19>40), CR Hat@(HP:0>448, DEF%:51>109, ATK%:41>88, CD:54>116)))"
      ]
     },
     "execution_count": 57,
     "metadata": {},
     "output_type": "execute_result"
    }
   ],
   "source": [
    "sorted(slv1.history_full[11], reverse=True)[0]"
   ]
  },
  {
   "cell_type": "code",
   "execution_count": 51,
   "id": "709d6886-b5d0-4f12-b6d5-91f92849d5f4",
   "metadata": {},
   "outputs": [
    {
     "data": {
      "text/plain": [
       "Loadout(dmg=28061.500415036757, artis=(HP Flower@(HP%:58>99, DEF%:73>124, ATK%:0>47, ER:45>175), ATK Feath@(HP%:47>88, DEF:21>21, ATK%:41>210, EM:0>21), ATK% Sands@(DEF:23>23, ATK:18>34, CD:70>132, EM:0>58), Phys Cup@(HP:0>717, DEF%:66>124, ATK:19>19, EM:19>40), CR Hat@(HP:0>448, DEF%:51>109, ATK%:41>88, CD:54>116)))"
      ]
     },
     "execution_count": 51,
     "metadata": {},
     "output_type": "execute_result"
    }
   ],
   "source": [
    "slv1.config_prior[tz]"
   ]
  },
  {
   "cell_type": "code",
   "execution_count": 39,
   "id": "ef658e4c-b1da-4ab6-9025-692e3deefc39",
   "metadata": {},
   "outputs": [
    {
     "data": {
      "text/plain": [
       "Loadout(dmg=27391.65909456837, artis=(HP Flower@(HP%:58>99, DEF%:73>124, ATK%:0>47, ER:45>175), ATK Feath@(HP:269>807, DEF%:51>51, DEF:16>35, CD:54>178), ATK% Sands@(DEF:23>23, ATK:18>34, CD:70>132, EM:0>58), Phys Cup@(HP:0>717, DEF%:66>124, ATK:19>19, EM:19>40), CR Hat@(HP:0>448, DEF%:51>109, ATK%:41>88, CD:54>116)))"
      ]
     },
     "execution_count": 39,
     "metadata": {},
     "output_type": "execute_result"
    }
   ],
   "source": [
    "sorted(slv1.history[12], reverse=True)[0]"
   ]
  },
  {
   "cell_type": "code",
   "execution_count": 34,
   "id": "c16d0680-db76-4c2b-884e-f8e59f66645c",
   "metadata": {},
   "outputs": [
    {
     "data": {
      "text/plain": [
       "5376"
      ]
     },
     "execution_count": 34,
     "metadata": {},
     "output_type": "execute_result"
    }
   ],
   "source": [
    "sorted(slv1.history_full[11])"
   ]
  },
  {
   "cell_type": "code",
   "execution_count": 83,
   "id": "9cb274f4-ab7a-49dd-84da-86be2fe90e70",
   "metadata": {},
   "outputs": [],
   "source": [
    "anal = sorted(slv1.combos, reverse=True)"
   ]
  },
  {
   "cell_type": "code",
   "execution_count": 86,
   "id": "75a21ee6-5f43-4be9-8c87-0f380fd63e31",
   "metadata": {},
   "outputs": [],
   "source": [
    "zz = np.array([a.dmg for a in anal])"
   ]
  },
  {
   "cell_type": "code",
   "execution_count": 87,
   "id": "a1f77461-28ce-4553-8ebc-0c9344a48c72",
   "metadata": {},
   "outputs": [
    {
     "data": {
      "text/plain": [
       "(array([1.1130e+03, 7.3000e+03, 1.4404e+04, 1.4914e+04, 9.9830e+03,\n",
       "        9.5080e+03, 1.6737e+04, 2.3985e+04, 2.2903e+04, 1.5834e+04,\n",
       "        1.1158e+04, 1.0992e+04, 1.2235e+04, 1.1790e+04, 9.8950e+03,\n",
       "        7.3290e+03, 5.8250e+03, 4.5220e+03, 3.9960e+03, 3.4880e+03,\n",
       "        3.1980e+03, 2.8410e+03, 2.5360e+03, 2.1460e+03, 1.7860e+03,\n",
       "        1.8590e+03, 1.4850e+03, 1.3520e+03, 1.0540e+03, 9.8600e+02,\n",
       "        6.7900e+02, 6.8000e+02, 5.8400e+02, 4.2000e+02, 5.0000e+02,\n",
       "        3.4700e+02, 3.1700e+02, 3.0600e+02, 2.4100e+02, 1.9600e+02,\n",
       "        1.6100e+02, 9.1000e+01, 1.0800e+02, 4.0000e+01, 3.6000e+01,\n",
       "        3.5000e+01, 1.3000e+01, 6.0000e+00, 5.0000e+00, 1.0000e+00]),\n",
       " array([ 9554.1911431 , 10124.98436853, 10695.77759397, 11266.57081941,\n",
       "        11837.36404485, 12408.15727028, 12978.95049572, 13549.74372116,\n",
       "        14120.5369466 , 14691.33017204, 15262.12339747, 15832.91662291,\n",
       "        16403.70984835, 16974.50307379, 17545.29629922, 18116.08952466,\n",
       "        18686.8827501 , 19257.67597554, 19828.46920097, 20399.26242641,\n",
       "        20970.05565185, 21540.84887729, 22111.64210272, 22682.43532816,\n",
       "        23253.2285536 , 23824.02177904, 24394.81500447, 24965.60822991,\n",
       "        25536.40145535, 26107.19468079, 26677.98790623, 27248.78113166,\n",
       "        27819.5743571 , 28390.36758254, 28961.16080798, 29531.95403341,\n",
       "        30102.74725885, 30673.54048429, 31244.33370973, 31815.12693516,\n",
       "        32385.9201606 , 32956.71338604, 33527.50661148, 34098.29983691,\n",
       "        34669.09306235, 35239.88628779, 35810.67951323, 36381.47273867,\n",
       "        36952.2659641 , 37523.05918954, 38093.85241498]),\n",
       " <BarContainer object of 50 artists>)"
      ]
     },
     "execution_count": 87,
     "metadata": {},
     "output_type": "execute_result"
    },
    {
     "data": {
      "image/png": "[encoded data removed]",
      "text/plain": [
       "<Figure size 432x288 with 1 Axes>"
      ]
     },
     "metadata": {
      "needs_background": "light"
     },
     "output_type": "display_data"
    }
   ],
   "source": [
    "plt.hist(zz, bins=50)"
   ]
  },
  {
   "cell_type": "code",
   "execution_count": 73,
   "id": "123e44a6-e54a-4fd9-b2d1-186e5bd40c23",
   "metadata": {},
   "outputs": [],
   "source": [
    "for _ in range(20):\n",
    "    f'Iter {len(vss1)}'\n",
    "    vss1.append(slv1.step())"
   ]
  },
  {
   "cell_type": "code",
   "execution_count": 77,
   "id": "8122fbb0-ba1c-42a7-bb7e-63f7795f33e5",
   "metadata": {},
   "outputs": [
    {
     "data": {
      "text/plain": [
       "[<matplotlib.lines.Line2D at 0x1534f15e0>]"
      ]
     },
     "execution_count": 77,
     "metadata": {},
     "output_type": "execute_result"
    },
    {
     "data": {
      "image/png": "[encoded data removed]",
      "text/plain": [
       "<Figure size 432x288 with 1 Axes>"
      ]
     },
     "metadata": {
      "needs_background": "light"
     },
     "output_type": "display_data"
    }
   ],
   "source": [
    "plt.plot(vss2)\n",
    "plt.plot(vss1)"
   ]
  },
  {
   "cell_type": "code",
   "execution_count": 5,
   "id": "22dd0976-06f0-435b-be67-90c75881ad33",
   "metadata": {},
   "outputs": [],
   "source": [
    "curves = []\n",
    "c2 = []"
   ]
  },
  {
   "cell_type": "code",
   "execution_count": 24,
   "id": "bd98d938-029f-4295-a00b-fc807483237c",
   "metadata": {},
   "outputs": [],
   "source": [
    "c1 = []\n",
    "random.seed(50)\n",
    "np.random.seed(42)\n",
    "for _ in range(20):\n",
    "    slv = solver.Top1(base, formula)\n",
    "    c1.append([slv.step() for _ in range(2000)])"
   ]
  },
  {
   "cell_type": "code",
   "execution_count": 25,
   "id": "d7654578-fb8a-43e2-81bd-97d3904bf0a7",
   "metadata": {},
   "outputs": [],
   "source": [
    "c2 = []\n",
    "random.seed(50)\n",
    "np.random.seed(42)\n",
    "for _ in range(20):\n",
    "    slv = solver.Top2(base, formula)\n",
    "    c2.append([slv.step() for _ in range(2000)])"
   ]
  },
  {
   "cell_type": "code",
   "execution_count": 26,
   "id": "bfffc32a-13f1-4051-8900-73287a857fb9",
   "metadata": {},
   "outputs": [
    {
     "data": {
      "text/plain": [
       "[<matplotlib.lines.Line2D at 0x131902160>]"
      ]
     },
     "execution_count": 26,
     "metadata": {},
     "output_type": "execute_result"
    },
    {
     "data": {
      "image/png": "[encoded data removed]",
      "text/plain": [
       "<Figure size 432x288 with 1 Axes>"
      ]
     },
     "metadata": {
      "needs_background": "light"
     },
     "output_type": "display_data"
    }
   ],
   "source": [
    "c1 = np.array(c1)\n",
    "c2 = np.array(c2)\n",
    "\n",
    "m1, s1 = np.mean(c1, axis=0), np.std(c1, axis=0)\n",
    "m2, s2 = np.mean(c2, axis=0), np.std(c2, axis=0)\n",
    "plt.plot(m1, color='b')\n",
    "plt.plot(m1 + s1, color='orange')\n",
    "plt.plot(m1 - s1, color='orange')\n",
    "plt.plot(m2, color='green')\n",
    "plt.plot(m2 + s2, color='red')\n",
    "plt.plot(m2 - s2, color='red')"
   ]
  },
  {
   "cell_type": "code",
   "execution_count": 6,
   "id": "8d89ef03-dd6f-4ecc-81e4-c22df6879890",
   "metadata": {},
   "outputs": [
    {
     "data": {
      "text/plain": [
       "[<matplotlib.lines.Line2D at 0x136ecb790>]"
      ]
     },
     "execution_count": 6,
     "metadata": {},
     "output_type": "execute_result"
    },
    {
     "data": {
      "image/png": "[encoded data removed]",
      "text/plain": [
       "<Figure size 432x288 with 1 Axes>"
      ]
     },
     "metadata": {
      "needs_background": "light"
     },
     "output_type": "display_data"
    }
   ],
   "source": [
    "for _ in range(50):\n",
    "    slv = solver.Top1(base, formula)\n",
    "    vss = np.array([slv.step() for _ in range(2000)])\n",
    "    curves.append(vss)\n",
    "plt.plot(vss)"
   ]
  },
  {
   "cell_type": "code",
   "execution_count": 13,
   "id": "40d69b2a-7aed-4789-941e-df2fdd17da11",
   "metadata": {},
   "outputs": [
    {
     "ename": "TypeError",
     "evalue": "'<' not supported between instances of 'Artifact' and 'NoneType'",
     "output_type": "error",
     "traceback": [
      "\u001b[0;31m---------------------------------------------------------------------------\u001b[0m",
      "\u001b[0;31mTypeError\u001b[0m                                 Traceback (most recent call last)",
      "\u001b[0;32m<ipython-input-13-f24faa4c2d75>\u001b[0m in \u001b[0;36m<module>\u001b[0;34m\u001b[0m\n\u001b[1;32m      1\u001b[0m \u001b[0;32mfor\u001b[0m \u001b[0m_\u001b[0m \u001b[0;32min\u001b[0m \u001b[0mrange\u001b[0m\u001b[0;34m(\u001b[0m\u001b[0;36m10\u001b[0m\u001b[0;34m)\u001b[0m\u001b[0;34m:\u001b[0m\u001b[0;34m\u001b[0m\u001b[0;34m\u001b[0m\u001b[0m\n\u001b[1;32m      2\u001b[0m     \u001b[0mslv\u001b[0m \u001b[0;34m=\u001b[0m \u001b[0msolver\u001b[0m\u001b[0;34m.\u001b[0m\u001b[0mTop2\u001b[0m\u001b[0;34m(\u001b[0m\u001b[0mbase\u001b[0m\u001b[0;34m,\u001b[0m \u001b[0mformula\u001b[0m\u001b[0;34m)\u001b[0m\u001b[0;34m\u001b[0m\u001b[0;34m\u001b[0m\u001b[0m\n\u001b[0;32m----> 3\u001b[0;31m     \u001b[0mvss2\u001b[0m \u001b[0;34m=\u001b[0m \u001b[0mnp\u001b[0m\u001b[0;34m.\u001b[0m\u001b[0marray\u001b[0m\u001b[0;34m(\u001b[0m\u001b[0;34m[\u001b[0m\u001b[0mslv\u001b[0m\u001b[0;34m.\u001b[0m\u001b[0mstep\u001b[0m\u001b[0;34m(\u001b[0m\u001b[0;34m)\u001b[0m \u001b[0;32mfor\u001b[0m \u001b[0m_\u001b[0m \u001b[0;32min\u001b[0m \u001b[0mrange\u001b[0m\u001b[0;34m(\u001b[0m\u001b[0;36m2000\u001b[0m\u001b[0;34m)\u001b[0m\u001b[0;34m]\u001b[0m\u001b[0;34m)\u001b[0m\u001b[0;34m\u001b[0m\u001b[0;34m\u001b[0m\u001b[0m\n\u001b[0m\u001b[1;32m      4\u001b[0m     \u001b[0mc2\u001b[0m\u001b[0;34m.\u001b[0m\u001b[0mappend\u001b[0m\u001b[0;34m(\u001b[0m\u001b[0mvss2\u001b[0m\u001b[0;34m)\u001b[0m\u001b[0;34m\u001b[0m\u001b[0;34m\u001b[0m\u001b[0m\n",
      "\u001b[0;32m<ipython-input-13-f24faa4c2d75>\u001b[0m in \u001b[0;36m<listcomp>\u001b[0;34m(.0)\u001b[0m\n\u001b[1;32m      1\u001b[0m \u001b[0;32mfor\u001b[0m \u001b[0m_\u001b[0m \u001b[0;32min\u001b[0m \u001b[0mrange\u001b[0m\u001b[0;34m(\u001b[0m\u001b[0;36m10\u001b[0m\u001b[0;34m)\u001b[0m\u001b[0;34m:\u001b[0m\u001b[0;34m\u001b[0m\u001b[0;34m\u001b[0m\u001b[0m\n\u001b[1;32m      2\u001b[0m     \u001b[0mslv\u001b[0m \u001b[0;34m=\u001b[0m \u001b[0msolver\u001b[0m\u001b[0;34m.\u001b[0m\u001b[0mTop2\u001b[0m\u001b[0;34m(\u001b[0m\u001b[0mbase\u001b[0m\u001b[0;34m,\u001b[0m \u001b[0mformula\u001b[0m\u001b[0;34m)\u001b[0m\u001b[0;34m\u001b[0m\u001b[0;34m\u001b[0m\u001b[0m\n\u001b[0;32m----> 3\u001b[0;31m     \u001b[0mvss2\u001b[0m \u001b[0;34m=\u001b[0m \u001b[0mnp\u001b[0m\u001b[0;34m.\u001b[0m\u001b[0marray\u001b[0m\u001b[0;34m(\u001b[0m\u001b[0;34m[\u001b[0m\u001b[0mslv\u001b[0m\u001b[0;34m.\u001b[0m\u001b[0mstep\u001b[0m\u001b[0;34m(\u001b[0m\u001b[0;34m)\u001b[0m \u001b[0;32mfor\u001b[0m \u001b[0m_\u001b[0m \u001b[0;32min\u001b[0m \u001b[0mrange\u001b[0m\u001b[0;34m(\u001b[0m\u001b[0;36m2000\u001b[0m\u001b[0;34m)\u001b[0m\u001b[0;34m]\u001b[0m\u001b[0;34m)\u001b[0m\u001b[0;34m\u001b[0m\u001b[0;34m\u001b[0m\u001b[0m\n\u001b[0m\u001b[1;32m      4\u001b[0m     \u001b[0mc2\u001b[0m\u001b[0;34m.\u001b[0m\u001b[0mappend\u001b[0m\u001b[0;34m(\u001b[0m\u001b[0mvss2\u001b[0m\u001b[0;34m)\u001b[0m\u001b[0;34m\u001b[0m\u001b[0;34m\u001b[0m\u001b[0m\n",
      "\u001b[0;32m~/PycharmProjects/playground/Genshin/solver.py\u001b[0m in \u001b[0;36mstep\u001b[0;34m(self)\u001b[0m\n\u001b[1;32m     14\u001b[0m         \u001b[0ma\u001b[0m \u001b[0;34m=\u001b[0m \u001b[0martifact\u001b[0m\u001b[0;34m.\u001b[0m\u001b[0mmake_arti\u001b[0m\u001b[0;34m(\u001b[0m\u001b[0;34m)\u001b[0m\u001b[0;34m\u001b[0m\u001b[0;34m\u001b[0m\u001b[0m\n\u001b[1;32m     15\u001b[0m         \u001b[0mself\u001b[0m\u001b[0;34m.\u001b[0m\u001b[0martis\u001b[0m\u001b[0;34m.\u001b[0m\u001b[0mappend\u001b[0m\u001b[0;34m(\u001b[0m\u001b[0ma\u001b[0m\u001b[0;34m)\u001b[0m\u001b[0;34m\u001b[0m\u001b[0;34m\u001b[0m\u001b[0m\n\u001b[0;32m---> 16\u001b[0;31m         \u001b[0mmax_dmg\u001b[0m \u001b[0;34m=\u001b[0m \u001b[0mself\u001b[0m\u001b[0;34m.\u001b[0m\u001b[0msolve\u001b[0m\u001b[0;34m(\u001b[0m\u001b[0ma\u001b[0m\u001b[0;34m)\u001b[0m\u001b[0;34m\u001b[0m\u001b[0;34m\u001b[0m\u001b[0m\n\u001b[0m\u001b[1;32m     17\u001b[0m         \u001b[0mself\u001b[0m\u001b[0;34m.\u001b[0m\u001b[0mcur_dmg\u001b[0m \u001b[0;34m=\u001b[0m \u001b[0mmax_dmg\u001b[0m\u001b[0;34m\u001b[0m\u001b[0;34m\u001b[0m\u001b[0m\n\u001b[1;32m     18\u001b[0m         \u001b[0;32mreturn\u001b[0m \u001b[0mmax_dmg\u001b[0m\u001b[0;34m\u001b[0m\u001b[0;34m\u001b[0m\u001b[0m\n",
      "\u001b[0;32m~/PycharmProjects/playground/Genshin/solver.py\u001b[0m in \u001b[0;36msolve\u001b[0;34m(self, a)\u001b[0m\n\u001b[1;32m     49\u001b[0m         \u001b[0mself\u001b[0m\u001b[0;34m.\u001b[0m\u001b[0mc\u001b[0m\u001b[0;34m.\u001b[0m\u001b[0meval\u001b[0m\u001b[0;34m(\u001b[0m\u001b[0mprop2\u001b[0m\u001b[0;34m)\u001b[0m\u001b[0;34m\u001b[0m\u001b[0;34m\u001b[0m\u001b[0m\n\u001b[1;32m     50\u001b[0m \u001b[0;34m\u001b[0m\u001b[0m\n\u001b[0;32m---> 51\u001b[0;31m         \u001b[0mself\u001b[0m\u001b[0;34m.\u001b[0m\u001b[0mtop1\u001b[0m\u001b[0;34m,\u001b[0m \u001b[0mself\u001b[0m\u001b[0;34m.\u001b[0m\u001b[0mtop2\u001b[0m \u001b[0;34m=\u001b[0m \u001b[0msorted\u001b[0m\u001b[0;34m(\u001b[0m\u001b[0;34m[\u001b[0m\u001b[0mprop1\u001b[0m\u001b[0;34m,\u001b[0m \u001b[0mprop2\u001b[0m\u001b[0;34m,\u001b[0m \u001b[0mself\u001b[0m\u001b[0;34m.\u001b[0m\u001b[0mtop1\u001b[0m\u001b[0;34m,\u001b[0m \u001b[0mself\u001b[0m\u001b[0;34m.\u001b[0m\u001b[0mtop2\u001b[0m\u001b[0;34m]\u001b[0m\u001b[0;34m,\u001b[0m \u001b[0mreverse\u001b[0m\u001b[0;34m=\u001b[0m\u001b[0;32mTrue\u001b[0m\u001b[0;34m)\u001b[0m\u001b[0;34m[\u001b[0m\u001b[0;34m:\u001b[0m\u001b[0;36m2\u001b[0m\u001b[0;34m]\u001b[0m\u001b[0;34m\u001b[0m\u001b[0;34m\u001b[0m\u001b[0m\n\u001b[0m\u001b[1;32m     52\u001b[0m         \u001b[0;32mreturn\u001b[0m \u001b[0mself\u001b[0m\u001b[0;34m.\u001b[0m\u001b[0mtop1\u001b[0m\u001b[0;34m.\u001b[0m\u001b[0mdmg\u001b[0m\u001b[0;34m\u001b[0m\u001b[0;34m\u001b[0m\u001b[0m\n\u001b[1;32m     53\u001b[0m \u001b[0;34m\u001b[0m\u001b[0m\n",
      "\u001b[0;32m~/PycharmProjects/playground/Genshin/stats.py\u001b[0m in \u001b[0;36m__lt__\u001b[0;34m(self, other)\u001b[0m\n",
      "\u001b[0;31mTypeError\u001b[0m: '<' not supported between instances of 'Artifact' and 'NoneType'"
     ]
    }
   ],
   "source": [
    "for _ in range(10):\n",
    "    slv = solver.Top2(base, formula)\n",
    "    vss2 = np.array([slv.step() for _ in range(2000)])\n",
    "    c2.append(vss2)"
   ]
  },
  {
   "cell_type": "code",
   "execution_count": 12,
   "id": "7ed241be-c59f-409d-8c20-260eaeccdab5",
   "metadata": {},
   "outputs": [
    {
     "data": {
      "text/plain": [
       "[<matplotlib.lines.Line2D at 0x13701ddc0>]"
      ]
     },
     "execution_count": 12,
     "metadata": {},
     "output_type": "execute_result"
    },
    {
     "data": {
      "image/png": "[encoded data removed]",
      "text/plain": [
       "<Figure size 432x288 with 1 Axes>"
      ]
     },
     "metadata": {
      "needs_background": "light"
     },
     "output_type": "display_data"
    }
   ],
   "source": [
    "plt.plot(vss2)"
   ]
  },
  {
   "cell_type": "code",
   "execution_count": 7,
   "id": "1757f43e-d594-4ebb-bae1-536c03fb36a9",
   "metadata": {},
   "outputs": [
    {
     "data": {
      "text/plain": [
       "[<matplotlib.lines.Line2D at 0x136fc1070>]"
      ]
     },
     "execution_count": 7,
     "metadata": {},
     "output_type": "execute_result"
    },
    {
     "data": {
      "image/png": "[encoded data removed]",
      "text/plain": [
       "<Figure size 432x288 with 1 Axes>"
      ]
     },
     "metadata": {
      "needs_background": "light"
     },
     "output_type": "display_data"
    }
   ],
   "source": [
    "m1 = np.mean(curves, axis=0)\n",
    "s1 = np.std(curves, axis=0)\n",
    "plt.plot(m1)\n",
    "plt.plot(m1 + s1, color='orange')\n",
    "plt.plot(m1 - s1, color='orange')"
   ]
  },
  {
   "cell_type": "code",
   "execution_count": 5,
   "id": "b543f1c8-bf4a-4a40-846e-f083dd6e3591",
   "metadata": {},
   "outputs": [],
   "source": [
    "class CumSolver:\n",
    "    def __init__(self, stats, dmg):\n",
    "        self.c = char.Character(stats, dmg)\n",
    "        self.artis = []\n",
    "        \n",
    "        self.eqset = stats.Loadout()\n",
    "        self.cur_dmg = self.c.eval()\n",
    "        \n",
    "        self.sets = {stats.Loadout()}\n",
    "    \n",
    "    def advance(self):\n",
    "        a = artifact.make_arti()\n",
    "        self.artis.append(a)\n",
    "        \n",
    "        # solver step\n",
    "        self.c.equip(a)\n",
    "        new_dmg = self.c.eval()\n",
    "        if new_dmg >= self.cur_dmg:\n",
    "            self.eqset = self.eqset.add(a)\n",
    "            self.cur_dmg = new_dmg\n",
    "        else:\n",
    "            self.c.equip(self.eqset)\n",
    "        return self.cur_dmg\n",
    "    \n",
    "    def solve_max(self, a):\n",
    "        for s in self.sets:\n",
    "            s[a.slot] "
   ]
  },
  {
   "cell_type": "code",
   "execution_count": 37,
   "id": "45b6ccc9-3c17-4ba4-8a7a-ad58b26d3594",
   "metadata": {},
   "outputs": [
    {
     "data": {
      "text/plain": [
       "array([ 112,   19,    1, ..., 1336, 1337,  999])"
      ]
     },
     "execution_count": 37,
     "metadata": {},
     "output_type": "execute_result"
    }
   ],
   "source": [
    "np.argsort(vss[1:] - vss[:-1])[::-1]"
   ]
  },
  {
   "cell_type": "code",
   "execution_count": 32,
   "id": "78f60071-2d53-4cde-9d64-5175bfc931a4",
   "metadata": {},
   "outputs": [
    {
     "data": {
      "text/plain": [
       "(27286.364579186775, 31743.08867826028)"
      ]
     },
     "execution_count": 32,
     "metadata": {},
     "output_type": "execute_result"
    }
   ],
   "source": [
    "vss[112], vss[113]"
   ]
  },
  {
   "cell_type": "code",
   "execution_count": 33,
   "id": "25af1ee2-e34f-4809-8af0-d1beda953c2b",
   "metadata": {},
   "outputs": [
    {
     "data": {
      "text/plain": [
       "Phys Cup@(HP:269>867, DEF:16>32, ER:0>110, EM:23>23)"
      ]
     },
     "execution_count": 33,
     "metadata": {},
     "output_type": "execute_result"
    }
   ],
   "source": [
    "slv.artis[113]"
   ]
  },
  {
   "cell_type": "code",
   "execution_count": null,
   "id": "8c754b93-b4d4-4971-bdfa-06789c802e11",
   "metadata": {},
   "outputs": [],
   "source": []
  },
  {
   "cell_type": "code",
   "execution_count": 95,
   "id": "27bed580-296b-42bd-b80f-3e2681b82815",
   "metadata": {},
   "outputs": [
    {
     "data": {
      "text/plain": [
       "34954.41928656727"
      ]
     },
     "execution_count": 95,
     "metadata": {},
     "output_type": "execute_result"
    }
   ],
   "source": [
    "eqset = [None for _ in range(5)]\n",
    "c.artis = eqset.copy()\n",
    "cur_dmg = c.eval()\n",
    "\n",
    "artis = []\n",
    "for _ in range(100):\n",
    "    a = artifact.make_arti()\n",
    "    artis.append(a)\n",
    "    c.equip(a)\n",
    "    \n",
    "    new_dmg = c.eval()\n",
    "    if new_dmg >= cur_dmg:\n",
    "        eqset[a.slot] = a\n",
    "        cur_dmg = new_dmg\n",
    "    else:\n",
    "        c.equip(eqset)\n",
    "cur_dmg"
   ]
  },
  {
   "cell_type": "code",
   "execution_count": 96,
   "id": "e7f1e69e-ac75-4494-98c6-0fea260a7729",
   "metadata": {},
   "outputs": [
    {
     "name": "stdout",
     "output_type": "stream",
     "text": [
      "Dmg: 34954.41928656727\n",
      "  ATK: 2511.1201171875\n",
      "  CR: 0.3840000033378601\n",
      "  CD: 1.2380000352859497\n"
     ]
    },
    {
     "data": {
      "text/plain": [
       "[HP Flower@(DEF:0>21, ATK%:58>99, ATK:14>30, CD:62>186),\n",
       " ATK Feath@(HP%:41>41, ATK%:41>135, CR:0>97, ER:65>65),\n",
       " ATK% Sands@(HP%:53>53, ATK:0>28, CD:70>202, EM:16>39),\n",
       " Phys Cup@(HP:269>269, ATK:0>28, CD:62>132, ER:52>156),\n",
       " ATK% Hat@(HP:239>239, ATK:14>14, CR:27>93, CD:0>218)]"
      ]
     },
     "execution_count": 96,
     "metadata": {},
     "output_type": "execute_result"
    }
   ],
   "source": [
    "print(f'Dmg: {c.eval(eqset)}')\n",
    "for ts in ['ATK', 'CR', 'CD']:\n",
    "    print(f'  {ts}: {c._bake_stats()[ts]}')\n",
    "eqset"
   ]
  },
  {
   "cell_type": "code",
   "execution_count": 78,
   "id": "112ff6e8-0381-45a6-87cf-d4f13f0af771",
   "metadata": {},
   "outputs": [
    {
     "name": "stdout",
     "output_type": "stream",
     "text": [
      "Dmg: 51990.25112449387\n",
      "  ATK: 2194.360107421875\n",
      "  CR: 0.8159999847412109\n",
      "  CD: 1.8519999980926514\n"
     ]
    },
    {
     "data": {
      "text/plain": [
       "[HP Flower@(ATK%:41>152, ATK:18>18, CR:35>144, CD:54>54),\n",
       " ATK Feath@(ATK%:58>116, CR:31>62, CD:54>280, EM:19>19),\n",
       " ATK% Sands@(HP:209>209, DEF%:73>73, CR:27>101, CD:54>264),\n",
       " Phys Cup@(HP%:41>41, ATK:19>19, CR:35>179, CD:62>132),\n",
       " CD Hat@(DEF:16>39, ATK%:58>116, ATK:18>18, CR:39>136)]"
      ]
     },
     "execution_count": 78,
     "metadata": {},
     "output_type": "execute_result"
    }
   ],
   "source": [
    "print(f'Dmg: {c.eval(eqset)}')\n",
    "for ts in ['ATK', 'CR', 'CD']:\n",
    "    print(f'  {ts}: {c._bake_stats()[ts]}')\n",
    "eqset"
   ]
  },
  {
   "cell_type": "code",
   "execution_count": 74,
   "id": "bceceb45-8712-4d92-8478-61dd918416d2",
   "metadata": {},
   "outputs": [
    {
     "name": "stdout",
     "output_type": "stream",
     "text": [
      "Dmg: 52511.063832588814\n",
      "  ATK: 2221.47998046875\n",
      "  CR: 0.9480000138282776\n",
      "  CD: 1.5880000591278076\n"
     ]
    },
    {
     "data": {
      "text/plain": [
       "[HP Flower@(DEF:19>19, ATK%:53>53, CR:39>179, CD:62>132),\n",
       " ATK Feath@(DEF:19>19, ATK%:58>163, CR:35>97, CD:70>132),\n",
       " ATK% Sands@(HP%:58>58, ATK:16>16, CR:35>179, CD:78>148),\n",
       " Phys Cup@(HP%:58>58, ATK%:47>163, CR:27>124, CD:54>54),\n",
       " CD Hat@(ATK%:47>47, ATK:16>30, CR:39>175, EM:23>23)]"
      ]
     },
     "execution_count": 74,
     "metadata": {},
     "output_type": "execute_result"
    }
   ],
   "source": [
    "print(f'Dmg: {c.eval(eqset)}')\n",
    "for ts in ['ATK', 'CR', 'CD']:\n",
    "    print(f'  {ts}: {c._bake_stats()[ts]}')\n",
    "eqset"
   ]
  },
  {
   "cell_type": "code",
   "execution_count": 65,
   "id": "3d3330c1-ff8a-432a-8261-c85303b56917",
   "metadata": {},
   "outputs": [
    {
     "name": "stdout",
     "output_type": "stream",
     "text": [
      "Dmg: 53961.627858173\n"
     ]
    },
    {
     "data": {
      "text/plain": [
       "[HP Flower@(ATK%:53>53, ATK:18>18, CR:35>35, CD:70>428),\n",
       " ATK Feath@(DEF:21>21, ATK%:58>58, CR:35>132, CD:78>218),\n",
       " ATK% Sands@(HP:299>299, DEF:16>16, CR:27>105, CD:78>288),\n",
       " Phys Cup@(HP:239>239, ATK%:41>204, CR:39>109, CD:78>78),\n",
       " CR Hat@(HP%:58>58, ATK%:47>158, ATK:19>37, CD:70>202)]"
      ]
     },
     "execution_count": 65,
     "metadata": {},
     "output_type": "execute_result"
    }
   ],
   "source": [
    "print(f'Dmg: {c.eval(eqset)}')\n",
    "eqset"
   ]
  },
  {
   "cell_type": "code",
   "execution_count": 70,
   "id": "8c878a44-40a0-4591-a001-b24a8f7ea7bd",
   "metadata": {},
   "outputs": [
    {
     "data": {
      "text/plain": [
       "[0.0000000e+00 1.7435273e+04 0.0000000e+00 7.2900000e+02 0.0000000e+00\n",
       " 2.2708999e+03 8.8599998e-01 1.7140000e+00 0.0000000e+00 0.0000000e+00\n",
       " 0.0000000e+00 5.8300000e-01 0.0000000e+00 0.0000000e+00 0.0000000e+00\n",
       " 0.0000000e+00 0.0000000e+00 0.0000000e+00 0.0000000e+00]"
      ]
     },
     "execution_count": 70,
     "metadata": {},
     "output_type": "execute_result"
    }
   ],
   "source": [
    "c._bake_stats()"
   ]
  },
  {
   "cell_type": "code",
   "execution_count": 14,
   "id": "73df1823-d2a7-4806-a7a6-c9afa2d8bf0a",
   "metadata": {},
   "outputs": [
    {
     "name": "stdout",
     "output_type": "stream",
     "text": [
      "173 µs ± 19.2 µs per loop (mean ± std. dev. of 7 runs, 1000 loops each)\n"
     ]
    }
   ],
   "source": [
    "%timeit c.eval()"
   ]
  },
  {
   "cell_type": "code",
   "execution_count": 8,
   "id": "5a256d0d-72db-4591-bb87-59e512198be7",
   "metadata": {},
   "outputs": [],
   "source": [
    "a = artifact.make_arti()"
   ]
  },
  {
   "cell_type": "code",
   "execution_count": 12,
   "id": "e082af47-a5fe-48df-b370-b25e40662554",
   "metadata": {},
   "outputs": [
    {
     "data": {
      "text/plain": [
       "ATK% Hat@(HP:0>418, DEF%:66>66, CD:54>240, EM:16>16)"
      ]
     },
     "execution_count": 12,
     "metadata": {},
     "output_type": "execute_result"
    }
   ],
   "source": [
    "a"
   ]
  },
  {
   "cell_type": "code",
   "execution_count": 10,
   "id": "55cdbb7b-df22-4188-9f23-7156cdfe2c59",
   "metadata": {},
   "outputs": [],
   "source": [
    "c.artis[4] = a"
   ]
  },
  {
   "cell_type": "code",
   "execution_count": 2,
   "id": "12cd731d-6ab1-4035-bcd3-8263021f9190",
   "metadata": {},
   "outputs": [
    {
     "data": {
      "text/plain": [
       "(ATK% Sands@(HP%:58>198, DEF:19>19, CD:0>156, EM:23>23),\n",
       " CR Hat@(HP:239>508, DEF%:66>212, ATK:19>37, CD:70>124))"
      ]
     },
     "execution_count": 2,
     "metadata": {},
     "output_type": "execute_result"
    }
   ],
   "source": [
    "a1 = artifact.make_arti()\n",
    "a2 = artifact.make_arti()\n",
    "a1, a2"
   ]
  },
  {
   "cell_type": "code",
   "execution_count": 3,
   "id": "54c10aa9-47af-4243-a345-845a6d9798e9",
   "metadata": {},
   "outputs": [],
   "source": [
    "s = char.Stats()"
   ]
  },
  {
   "cell_type": "code",
   "execution_count": 5,
   "id": "5f3fc2aa-587d-4d20-8869-d1cec49f9f99",
   "metadata": {},
   "outputs": [
    {
     "data": {
      "text/plain": [
       "[198 508 212  19 466  37 311 280   0  23   0   0   0   0   0   0   0   0\n",
       "   0]"
      ]
     },
     "execution_count": 5,
     "metadata": {},
     "output_type": "execute_result"
    }
   ],
   "source": [
    "a1 + a2"
   ]
  },
  {
   "cell_type": "code",
   "execution_count": 47,
   "id": "edae727e-095e-47ec-a3cd-f7002f56064a",
   "metadata": {},
   "outputs": [
    {
     "name": "stdout",
     "output_type": "stream",
     "text": [
      "137 µs ± 13.3 µs per loop (mean ± std. dev. of 7 runs, 10000 loops each)\n"
     ]
    }
   ],
   "source": [
    "%timeit artifact.make_arti()"
   ]
  },
  {
   "cell_type": "code",
   "execution_count": 1099,
   "id": "2e7f0d6e-c501-4f6c-8f99-d605974fa173",
   "metadata": {},
   "outputs": [],
   "source": [
    "slotnames = ['Flower', 'Feath', 'Sands', 'Cup', 'Circ']\n",
    "# statnames = ['CR', 'CD', 'ER', 'EM', 'ATK%', 'ATK', 'HP%', 'HP', 'DEF%', 'DEF', 'Heal',\n",
    "statnames = ['HP%', 'HP', 'DEF%', 'DEF', 'ATK%', 'ATK', 'CR', 'CD', 'ER', 'EM', 'Heal',\n",
    "          'Phys', 'Hydro', 'Pyro', 'Cryo', 'Electro', 'Anemo', 'Geo', 'Dendro']\n",
    "statmap = {n: i for i, n in enumerate(statnames)}"
   ]
  },
  {
   "cell_type": "code",
   "execution_count": null,
   "id": "3860d78f-29f4-40fa-ad04-ba714fbceaed",
   "metadata": {},
   "outputs": [],
   "source": []
  }
 ],
 "metadata": {
  "kernelspec": {
   "display_name": "Python 3",
   "language": "python",
   "name": "python3"
  },
  "language_info": {
   "codemirror_mode": {
    "name": "ipython",
    "version": 3
   },
   "file_extension": ".py",
   "mimetype": "text/x-python",
   "name": "python",
   "nbconvert_exporter": "python",
   "pygments_lexer": "ipython3",
   "version": "3.9.0"
  }
 },
 "nbformat": 4,
 "nbformat_minor": 5
}
