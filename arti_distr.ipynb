{
 "cells": [
  {
   "cell_type": "code",
   "execution_count": 1,
   "id": "133d6e71-6780-475b-a671-e677d3732cb8",
   "metadata": {},
   "outputs": [],
   "source": [
    "import numpy as np\n",
    "import matplotlib.pyplot as plt\n",
    "import pandas as pd\n",
    "from dataclasses import dataclass\n",
    "from typing import Tuple\n",
    "import random\n",
    "\n",
    "\n",
    "import artifact\n",
    "import sampler\n",
    "import char\n",
    "import damage\n",
    "import stats\n",
    "import solver\n",
    "\n",
    "from IPython import display"
   ]
  },
  {
   "cell_type": "code",
   "execution_count": 97,
   "id": "633c90c7-b57e-4702-8174-5ff117ed77d4",
   "metadata": {},
   "outputs": [
    {
     "data": {
      "text/plain": [
       "<module 'solver' from '/Users/albertxu/PycharmProjects/playground/Genshin/solver.py'>"
      ]
     },
     "execution_count": 97,
     "metadata": {},
     "output_type": "execute_result"
    }
   ],
   "source": [
    "import importlib\n",
    "importlib.reload(solver)"
   ]
  },
  {
   "cell_type": "code",
   "execution_count": 2,
   "id": "6f94dcb8-f9e5-4a6d-bdf9-02dc03616406",
   "metadata": {},
   "outputs": [],
   "source": [
    "# Diluc base stats at A5 L80. With Lvl 90 prototype archaic.\n",
    "base = [\n",
    "    0, 11453,\n",
    "    0, 692,\n",
    "    0 + 276, 295 + 565,\n",
    "    194, 500,\n",
    "    0, 0,\n",
    "    0, 0, 0, 0, 0, 0, 0, 0, 0,\n",
    "]\n",
    "base = stats.Stats(np.array(base, dtype=np.float32))\n",
    "\n",
    "formula = sum([damage.DilucN1(i) for i in range(4)])\n",
    "c = char.Character(base, formula)"
   ]
  },
  {
   "cell_type": "code",
   "execution_count": 3,
   "id": "b4dae8ad-e272-4229-837f-54b9c584ef31",
   "metadata": {},
   "outputs": [
    {
     "data": {
      "text/plain": [
       "Loadout(dmg=-1, artis=(None, None, None, None, None))"
      ]
     },
     "execution_count": 3,
     "metadata": {},
     "output_type": "execute_result"
    }
   ],
   "source": [
    "c.artis"
   ]
  },
  {
   "cell_type": "code",
   "execution_count": 4,
   "id": "bf449b44-163d-4789-953c-725aca29545d",
   "metadata": {},
   "outputs": [
    {
     "data": {
      "text/plain": [
       "'Base dmg: 7174.671286138608'"
      ]
     },
     "execution_count": 4,
     "metadata": {},
     "output_type": "execute_result"
    }
   ],
   "source": [
    "# c.artis = [None for _ in range(5)]\n",
    "f'Base dmg: {c.eval()}'"
   ]
  },
  {
   "cell_type": "code",
   "execution_count": 5,
   "id": "60414573-4351-4b68-bcf2-6a8e458712ce",
   "metadata": {},
   "outputs": [],
   "source": [
    "random.seed(69)\n",
    "np.random.seed(42)\n",
    "slv2 = solver.Top1(base, formula)\n",
    "vss2 = [slv2.step() for _ in range(1000)]"
   ]
  },
  {
   "cell_type": "code",
   "execution_count": null,
   "id": "75fbec06-f4ce-4ad2-bb3b-6efb4c20f67e",
   "metadata": {},
   "outputs": [
    {
     "data": {
      "image/png": "[encoded data removed]",
      "text/plain": [
       "<Figure size 432x288 with 1 Axes>"
      ]
     },
     "metadata": {},
     "output_type": "display_data"
    }
   ],
   "source": [
    "random.seed(69)\n",
    "np.random.seed(42)\n",
    "\n",
    "slv1 = solver.BruteForce(base, formula)\n",
    "vss1 = []\n",
    "for _ in range(30):\n",
    "    vss1.append(slv1.step())\n",
    "    \n",
    "    plt.clf()\n",
    "    plt.plot(vss2[:len(vss1)+10])\n",
    "    plt.plot(vss1)\n",
    "    display.clear_output(wait=True)\n",
    "    display.display(plt.gcf())\n"
   ]
  },
  {
   "cell_type": "code",
   "execution_count": 9,
   "id": "767ccbec-0543-45e5-a767-703e563c778d",
   "metadata": {},
   "outputs": [
    {
     "data": {
      "text/plain": [
       "5376"
      ]
     },
     "execution_count": 9,
     "metadata": {},
     "output_type": "execute_result"
    }
   ],
   "source": [
    "len(slv1.combos)"
   ]
  },
  {
   "cell_type": "code",
   "execution_count": 20,
   "id": "a292423f-6b69-4fc2-88c7-71569b45cc6c",
   "metadata": {},
   "outputs": [
    {
     "data": {
      "text/plain": [
       "[HP Flower@(HP%:41>99, DEF%:0>212, ATK:18>37, EM:19>19),\n",
       " DEF% Cup@(HP%:53>164, DEF:0>19, ATK%:47>88, EM:19>38),\n",
       " CR Hat@(HP:0>448, DEF%:51>109, ATK%:41>88, CD:54>116),\n",
       " ATK% Sands@(HP:299>568, DEF:0>56, ATK:18>18, ER:45>110),\n",
       " DEF% Sands@(HP%:58>99, DEF:21>60, CR:31>31, CD:0>156),\n",
       " HP% Cup@(DEF:0>65, ATK%:47>47, CR:35>35, EM:16>53),\n",
       " HP Flower@(HP%:58>99, DEF%:73>124, ATK%:0>47, ER:45>175),\n",
       " ATK Feath@(HP:299>1016, DEF%:73>197, DEF:21>21, EM:16>16),\n",
       " ATK Feath@(HP%:47>88, DEF:21>21, ATK%:41>210, EM:0>21),\n",
       " ATK% Sands@(DEF:23>23, ATK:18>34, CD:70>132, EM:0>58),\n",
       " Geo Cup@(HP%:53>100, DEF:16>56, ATK:0>19, ER:58>123),\n",
       " Phys Cup@(HP:0>717, DEF%:66>124, ATK:19>19, EM:19>40),\n",
       " ATK Feath@(HP:269>807, DEF%:51>51, DEF:16>35, CD:54>178),\n",
       " ATK% Sands@(HP:239>538, DEF%:0>66, CR:31>97, CD:70>148),\n",
       " DEF% Cup@(HP:0>508, DEF:21>37, CD:62>178, EM:16>16),\n",
       " EM Sands@(DEF%:0>102, DEF:21>74, ATK:14>14, ER:65>65),\n",
       " ATK Feath@(HP%:41>82, DEF%:51>175, ATK%:58>58, ER:58>161),\n",
       " HP Flower@(DEF%:73>263, CR:39>66, CD:54>54, ER:58>116),\n",
       " ATK Feath@(HP%:58>111, HP:269>508, DEF%:51>117, EM:19>56),\n",
       " ATK Feath@(HP%:58>58, DEF:23>42, CD:0>272, ER:45>45),\n",
       " ATK% Sands@(DEF:23>67, ATK:14>28, CR:0>74, ER:58>58),\n",
       " ATK Feath@(HP%:0>41, HP:239>508, DEF%:73>247, DEF:21>21),\n",
       " Hydro Cup@(HP%:47>47, HP:239>717, ATK:14>49, ER:45>97),\n",
       " EM Sands@(DEF%:66>175, ATK%:0>58, CR:31>62, ER:52>117),\n",
       " ATK Feath@(HP%:58>163, DEF:16>35, CR:39>117, CD:70>70),\n",
       " DEF% Cup@(HP:299>508, DEF:0>54, CD:78>140, ER:45>45),\n",
       " DEF% Hat@(HP:269>807, DEF:21>37, ATK%:0>88, ATK:18>18),\n",
       " DEF% Sands@(DEF:23>23, ATK:19>49, ER:52>162, EM:21>40),\n",
       " HP% Hat@(DEF:23>101, ATK%:53>53, ATK:14>14, ER:58>103),\n",
       " DEF% Hat@(HP:269>538, DEF:0>16, CD:54>116, EM:16>58)]"
      ]
     },
     "execution_count": 20,
     "metadata": {},
     "output_type": "execute_result"
    }
   ],
   "source": [
    "slv1.artis"
   ]
  },
  {
   "cell_type": "code",
   "execution_count": 94,
   "id": "642c7562-eed5-45f9-a9f5-0615e55d4ef0",
   "metadata": {},
   "outputs": [
    {
     "ename": "ValueError",
     "evalue": "Loadout(dmg=13318.869381085897, artis=(HP Flower@(HP%:41>99, DEF%:0>212, ATK:18>37, EM:19>19), None, ATK% Sands@(HP:299>568, DEF:0>56, ATK:18>18, ER:45>110), DEF% Cup@(HP%:53>164, DEF:0>19, ATK%:47>88, EM:19>38), CR Hat@(HP:0>448, DEF%:51>109, ATK%:41>88, CD:54>116))) is not in list",
     "output_type": "error",
     "traceback": [
      "\u001b[0;31m---------------------------------------------------------------------------\u001b[0m",
      "\u001b[0;31mValueError\u001b[0m                                Traceback (most recent call last)",
      "\u001b[0;32m<ipython-input-94-f6904e25cdca>\u001b[0m in \u001b[0;36m<module>\u001b[0;34m\u001b[0m\n\u001b[1;32m      5\u001b[0m \u001b[0;32mfor\u001b[0m \u001b[0mqq\u001b[0m \u001b[0;32min\u001b[0m \u001b[0mtz\u001b[0m\u001b[0;34m:\u001b[0m\u001b[0;34m\u001b[0m\u001b[0;34m\u001b[0m\u001b[0m\n\u001b[1;32m      6\u001b[0m     \u001b[0mpri\u001b[0m \u001b[0;34m=\u001b[0m \u001b[0mslv1\u001b[0m\u001b[0;34m.\u001b[0m\u001b[0mconfig_prior\u001b[0m\u001b[0;34m[\u001b[0m\u001b[0mqq\u001b[0m\u001b[0;34m]\u001b[0m\u001b[0;34m\u001b[0m\u001b[0;34m\u001b[0m\u001b[0m\n\u001b[0;32m----> 7\u001b[0;31m     \u001b[0mbob\u001b[0m\u001b[0;34m.\u001b[0m\u001b[0mappend\u001b[0m\u001b[0;34m(\u001b[0m\u001b[0mty\u001b[0m\u001b[0;34m.\u001b[0m\u001b[0mindex\u001b[0m\u001b[0;34m(\u001b[0m\u001b[0mpri\u001b[0m\u001b[0;34m)\u001b[0m\u001b[0;34m)\u001b[0m\u001b[0;34m\u001b[0m\u001b[0;34m\u001b[0m\u001b[0m\n\u001b[0m",
      "\u001b[0;31mValueError\u001b[0m: Loadout(dmg=13318.869381085897, artis=(HP Flower@(HP%:41>99, DEF%:0>212, ATK:18>37, EM:19>19), None, ATK% Sands@(HP:299>568, DEF:0>56, ATK:18>18, ER:45>110), DEF% Cup@(HP%:53>164, DEF:0>19, ATK%:47>88, EM:19>38), CR Hat@(HP:0>448, DEF%:51>109, ATK%:41>88, CD:54>116))) is not in list"
     ]
    }
   ],
   "source": [
    "tz = sorted(slv1.history[3], reverse=True)\n",
    "ty = sorted(slv1.history_full[2], reverse=True)\n",
    "\n",
    "bob = []\n",
    "for qq in tz:\n",
    "    pri = slv1.config_prior[qq]\n",
    "    bob.append(ty.index(pri))"
   ]
  },
  {
   "cell_type": "code",
   "execution_count": 96,
   "id": "4e4bc41d-4f04-4698-9276-318b38613262",
   "metadata": {},
   "outputs": [
    {
     "data": {
      "text/plain": [
       "[Loadout(dmg=13345.593730510442, artis=(HP Flower@(HP%:58>99, DEF%:73>124, ATK%:0>47, ER:45>175), None, ATK% Sands@(HP:299>568, DEF:0>56, ATK:18>18, ER:45>110), DEF% Cup@(HP%:53>164, DEF:0>19, ATK%:47>88, EM:19>38), CR Hat@(HP:0>448, DEF%:51>109, ATK%:41>88, CD:54>116))),\n",
       " Loadout(dmg=13318.869381085897, artis=(HP Flower@(HP%:41>99, DEF%:0>212, ATK:18>37, EM:19>19), None, ATK% Sands@(HP:299>568, DEF:0>56, ATK:18>18, ER:45>110), DEF% Cup@(HP%:53>164, DEF:0>19, ATK%:47>88, EM:19>38), CR Hat@(HP:0>448, DEF%:51>109, ATK%:41>88, CD:54>116))),\n",
       " Loadout(dmg=13285.001074871187, artis=(HP Flower@(HP%:58>99, DEF%:73>124, ATK%:0>47, ER:45>175), None, ATK% Sands@(HP:299>568, DEF:0>56, ATK:18>18, ER:45>110), HP% Cup@(DEF:0>65, ATK%:47>47, CR:35>35, EM:16>53), CR Hat@(HP:0>448, DEF%:51>109, ATK%:41>88, CD:54>116))),\n",
       " Loadout(dmg=13257.837257736792, artis=(HP Flower@(HP%:41>99, DEF%:0>212, ATK:18>37, EM:19>19), None, ATK% Sands@(HP:299>568, DEF:0>56, ATK:18>18, ER:45>110), HP% Cup@(DEF:0>65, ATK%:47>47, CR:35>35, EM:16>53), CR Hat@(HP:0>448, DEF%:51>109, ATK%:41>88, CD:54>116))),\n",
       " Loadout(dmg=10862.552112458741, artis=(HP Flower@(HP%:58>99, DEF%:73>124, ATK%:0>47, ER:45>175), None, DEF% Sands@(HP%:58>99, DEF:21>60, CR:31>31, CD:0>156), DEF% Cup@(HP%:53>164, DEF:0>19, ATK%:47>88, EM:19>38), CR Hat@(HP:0>448, DEF%:51>109, ATK%:41>88, CD:54>116))),\n",
       " Loadout(dmg=10833.734136784482, artis=(HP Flower@(HP%:41>99, DEF%:0>212, ATK:18>37, EM:19>19), None, DEF% Sands@(HP%:58>99, DEF:21>60, CR:31>31, CD:0>156), DEF% Cup@(HP%:53>164, DEF:0>19, ATK%:47>88, EM:19>38), CR Hat@(HP:0>448, DEF%:51>109, ATK%:41>88, CD:54>116))),\n",
       " Loadout(dmg=10767.367869177691, artis=(HP Flower@(HP%:58>99, DEF%:73>124, ATK%:0>47, ER:45>175), None, DEF% Sands@(HP%:58>99, DEF:21>60, CR:31>31, CD:0>156), HP% Cup@(DEF:0>65, ATK%:47>47, CR:35>35, EM:16>53), CR Hat@(HP:0>448, DEF%:51>109, ATK%:41>88, CD:54>116))),\n",
       " Loadout(dmg=10737.999132819721, artis=(HP Flower@(HP%:41>99, DEF%:0>212, ATK:18>37, EM:19>19), None, DEF% Sands@(HP%:58>99, DEF:21>60, CR:31>31, CD:0>156), HP% Cup@(DEF:0>65, ATK%:47>47, CR:35>35, EM:16>53), CR Hat@(HP:0>448, DEF%:51>109, ATK%:41>88, CD:54>116)))]"
      ]
     },
     "execution_count": 96,
     "metadata": {},
     "output_type": "execute_result"
    }
   ],
   "source": [
    "tz"
   ]
  },
  {
   "cell_type": "code",
   "execution_count": 95,
   "id": "5e46fec7-c63c-4277-99f7-35d166fcda7f",
   "metadata": {},
   "outputs": [
    {
     "data": {
      "text/plain": [
       "[]"
      ]
     },
     "execution_count": 95,
     "metadata": {},
     "output_type": "execute_result"
    }
   ],
   "source": [
    "bob"
   ]
  },
  {
   "cell_type": "code",
   "execution_count": 57,
   "id": "0bac19ac-23aa-4aad-8689-4e21c2a7252d",
   "metadata": {},
   "outputs": [
    {
     "data": {
      "text/plain": [
       "Loadout(dmg=31040.050068661378, artis=(HP Flower@(DEF%:73>263, CR:39>66, CD:54>54, ER:58>116), ATK Feath@(HP%:58>58, DEF:23>42, CD:0>272, ER:45>45), ATK% Sands@(HP:239>538, DEF%:0>66, CR:31>97, CD:70>148), Phys Cup@(HP:0>717, DEF%:66>124, ATK:19>19, EM:19>40), CR Hat@(HP:0>448, DEF%:51>109, ATK%:41>88, CD:54>116)))"
      ]
     },
     "execution_count": 57,
     "metadata": {},
     "output_type": "execute_result"
    }
   ],
   "source": [
    "sorted(slv1.history_full[11], reverse=True)[0]"
   ]
  },
  {
   "cell_type": "code",
   "execution_count": 51,
   "id": "709d6886-b5d0-4f12-b6d5-91f92849d5f4",
   "metadata": {},
   "outputs": [
    {
     "data": {
      "text/plain": [
       "Loadout(dmg=28061.500415036757, artis=(HP Flower@(HP%:58>99, DEF%:73>124, ATK%:0>47, ER:45>175), ATK Feath@(HP%:47>88, DEF:21>21, ATK%:41>210, EM:0>21), ATK% Sands@(DEF:23>23, ATK:18>34, CD:70>132, EM:0>58), Phys Cup@(HP:0>717, DEF%:66>124, ATK:19>19, EM:19>40), CR Hat@(HP:0>448, DEF%:51>109, ATK%:41>88, CD:54>116)))"
      ]
     },
     "execution_count": 51,
     "metadata": {},
     "output_type": "execute_result"
    }
   ],
   "source": [
    "slv1.config_prior[tz]"
   ]
  },
  {
   "cell_type": "code",
   "execution_count": 39,
   "id": "ef658e4c-b1da-4ab6-9025-692e3deefc39",
   "metadata": {},
   "outputs": [
    {
     "data": {
      "text/plain": [
       "Loadout(dmg=27391.65909456837, artis=(HP Flower@(HP%:58>99, DEF%:73>124, ATK%:0>47, ER:45>175), ATK Feath@(HP:269>807, DEF%:51>51, DEF:16>35, CD:54>178), ATK% Sands@(DEF:23>23, ATK:18>34, CD:70>132, EM:0>58), Phys Cup@(HP:0>717, DEF%:66>124, ATK:19>19, EM:19>40), CR Hat@(HP:0>448, DEF%:51>109, ATK%:41>88, CD:54>116)))"
      ]
     },
     "execution_count": 39,
     "metadata": {},
     "output_type": "execute_result"
    }
   ],
   "source": [
    "sorted(slv1.history[12], reverse=True)[0]"
   ]
  },
  {
   "cell_type": "code",
   "execution_count": 34,
   "id": "c16d0680-db76-4c2b-884e-f8e59f66645c",
   "metadata": {},
   "outputs": [
    {
     "data": {
      "text/plain": [
       "5376"
      ]
     },
     "execution_count": 34,
     "metadata": {},
     "output_type": "execute_result"
    }
   ],
   "source": [
    "sorted(slv1.history_full[11])"
   ]
  },
  {
   "cell_type": "code",
   "execution_count": 83,
   "id": "9cb274f4-ab7a-49dd-84da-86be2fe90e70",
   "metadata": {},
   "outputs": [],
   "source": [
    "anal = sorted(slv1.combos, reverse=True)"
   ]
  },
  {
   "cell_type": "code",
   "execution_count": 86,
   "id": "75a21ee6-5f43-4be9-8c87-0f380fd63e31",
   "metadata": {},
   "outputs": [],
   "source": [
    "zz = np.array([a.dmg for a in anal])"
   ]
  },
  {
   "cell_type": "code",
   "execution_count": 87,
   "id": "a1f77461-28ce-4553-8ebc-0c9344a48c72",
   "metadata": {},
   "outputs": [
    {
     "data": {
      "text/plain": [
       "(array([1.1130e+03, 7.3000e+03, 1.4404e+04, 1.4914e+04, 9.9830e+03,\n",
       "        9.5080e+03, 1.6737e+04, 2.3985e+04, 2.2903e+04, 1.5834e+04,\n",
       "        1.1158e+04, 1.0992e+04, 1.2235e+04, 1.1790e+04, 9.8950e+03,\n",
       "        7.3290e+03, 5.8250e+03, 4.5220e+03, 3.9960e+03, 3.4880e+03,\n",
       "        3.1980e+03, 2.8410e+03, 2.5360e+03, 2.1460e+03, 1.7860e+03,\n",
       "        1.8590e+03, 1.4850e+03, 1.3520e+03, 1.0540e+03, 9.8600e+02,\n",
       "        6.7900e+02, 6.8000e+02, 5.8400e+02, 4.2000e+02, 5.0000e+02,\n",
       "        3.4700e+02, 3.1700e+02, 3.0600e+02, 2.4100e+02, 1.9600e+02,\n",
       "        1.6100e+02, 9.1000e+01, 1.0800e+02, 4.0000e+01, 3.6000e+01,\n",
       "        3.5000e+01, 1.3000e+01, 6.0000e+00, 5.0000e+00, 1.0000e+00]),\n",
       " array([ 9554.1911431 , 10124.98436853, 10695.77759397, 11266.57081941,\n",
       "        11837.36404485, 12408.15727028, 12978.95049572, 13549.74372116,\n",
       "        14120.5369466 , 14691.33017204, 15262.12339747, 15832.91662291,\n",
       "        16403.70984835, 16974.50307379, 17545.29629922, 18116.08952466,\n",
       "        18686.8827501 , 19257.67597554, 19828.46920097, 20399.26242641,\n",
       "        20970.05565185, 21540.84887729, 22111.64210272, 22682.43532816,\n",
       "        23253.2285536 , 23824.02177904, 24394.81500447, 24965.60822991,\n",
       "        25536.40145535, 26107.19468079, 26677.98790623, 27248.78113166,\n",
       "        27819.5743571 , 28390.36758254, 28961.16080798, 29531.95403341,\n",
       "        30102.74725885, 30673.54048429, 31244.33370973, 31815.12693516,\n",
       "        32385.9201606 , 32956.71338604, 33527.50661148, 34098.29983691,\n",
       "        34669.09306235, 35239.88628779, 35810.67951323, 36381.47273867,\n",
       "        36952.2659641 , 37523.05918954, 38093.85241498]),\n",
       " <BarContainer object of 50 artists>)"
      ]
     },
     "execution_count": 87,
     "metadata": {},
     "output_type": "execute_result"
    },
    {
     "data": {
      "image/png": "[encoded data removed]",
      "text/plain": [
       "<Figure size 432x288 with 1 Axes>"
      ]
     },
     "metadata": {
      "needs_background": "light"
     },
     "output_type": "display_data"
    }
   ],
   "source": [
    "plt.hist(zz, bins=50)"
   ]
  },
  {
   "cell_type": "code",
   "execution_count": 73,
   "id": "123e44a6-e54a-4fd9-b2d1-186e5bd40c23",
   "metadata": {},
   "outputs": [],
   "source": [
    "for _ in range(20):\n",
    "    f'Iter {len(vss1)}'\n",
    "    vss1.append(slv1.step())"
   ]
  },
  {
   "cell_type": "code",
   "execution_count": 77,
   "id": "8122fbb0-ba1c-42a7-bb7e-63f7795f33e5",
   "metadata": {},
   "outputs": [
    {
     "data": {
      "text/plain": [
       "[<matplotlib.lines.Line2D at 0x1534f15e0>]"
      ]
     },
     "execution_count": 77,
     "metadata": {},
     "output_type": "execute_result"
    },
    {
     "data": {
      "image/png": "[encoded data removed]",
      "text/plain": [
       "<Figure size 432x288 with 1 Axes>"
      ]
     },
     "metadata": {
      "needs_background": "light"
     },
     "output_type": "display_data"
    }
   ],
   "source": [
    "plt.plot(vss2)\n",
    "plt.plot(vss1)"
   ]
  },
  {
   "cell_type": "code",
   "execution_count": 5,
   "id": "22dd0976-06f0-435b-be67-90c75881ad33",
   "metadata": {},
   "outputs": [],
   "source": [
    "curves = []\n",
    "c2 = []"
   ]
  },
  {
   "cell_type": "code",
   "execution_count": 24,
   "id": "bd98d938-029f-4295-a00b-fc807483237c",
   "metadata": {},
   "outputs": [],
   "source": [
    "c1 = []\n",
    "random.seed(50)\n",
    "np.random.seed(42)\n",
    "for _ in range(20):\n",
    "    slv = solver.Top1(base, formula)\n",
    "    c1.append([slv.step() for _ in range(2000)])"
   ]
  },
  {
   "cell_type": "code",
   "execution_count": 25,
   "id": "d7654578-fb8a-43e2-81bd-97d3904bf0a7",
   "metadata": {},
   "outputs": [],
   "source": [
    "c2 = []\n",
    "random.seed(50)\n",
    "np.random.seed(42)\n",
    "for _ in range(20):\n",
    "    slv = solver.Top2(base, formula)\n",
    "    c2.append([slv.step() for _ in range(2000)])"
   ]
  },
  {
   "cell_type": "code",
   "execution_count": 26,
   "id": "bfffc32a-13f1-4051-8900-73287a857fb9",
   "metadata": {},
   "outputs": [
    {
     "data": {
      "text/plain": [
       "[<matplotlib.lines.Line2D at 0x131902160>]"
      ]
     },
     "execution_count": 26,
     "metadata": {},
     "output_type": "execute_result"
    },
    {
     "data": {
      "image/png": "[encoded data removed]",
      "text/plain": [
       "<Figure size 432x288 with 1 Axes>"
      ]
     },
     "metadata": {
      "needs_background": "light"
     },
     "output_type": "display_data"
    }
   ],
   "source": [
    "c1 = np.array(c1)\n",
    "c2 = np.array(c2)\n",
    "\n",
    "m1, s1 = np.mean(c1, axis=0), np.std(c1, axis=0)\n",
    "m2, s2 = np.mean(c2, axis=0), np.std(c2, axis=0)\n",
    "plt.plot(m1, color='b')\n",
    "plt.plot(m1 + s1, color='orange')\n",
    "plt.plot(m1 - s1, color='orange')\n",
    "plt.plot(m2, color='green')\n",
    "plt.plot(m2 + s2, color='red')\n",
    "plt.plot(m2 - s2, color='red')"
   ]
  },
  {
   "cell_type": "code",
   "execution_count": 6,
   "id": "8d89ef03-dd6f-4ecc-81e4-c22df6879890",
   "metadata": {},
   "outputs": [
    {
     "data": {
      "text/plain": [
       "[<matplotlib.lines.Line2D at 0x136ecb790>]"
      ]
     },
     "execution_count": 6,
     "metadata": {},
     "output_type": "execute_result"
    },
    {
     "data": {
      "image/png": "[encoded data removed]",
      "text/plain": [
       "<Figure size 432x288 with 1 Axes>"
      ]
     },
     "metadata": {
      "needs_background": "light"
     },
     "output_type": "display_data"
    }
   ],
   "source": [
    "for _ in range(50):\n",
    "    slv = solver.Top1(base, formula)\n",
    "    vss = np.array([slv.step() for _ in range(2000)])\n",
    "    curves.append(vss)\n",
    "plt.plot(vss)"
   ]
  },
  {
   "cell_type": "code",
   "execution_count": 13,
   "id": "40d69b2a-7aed-4789-941e-df2fdd17da11",
   "metadata": {},
   "outputs": [
    {
     "ename": "TypeError",
     "evalue": "'<' not supported between instances of 'Artifact' and 'NoneType'",
     "output_type": "error",
     "traceback": [
      "\u001b[0;31m---------------------------------------------------------------------------\u001b[0m",
      "\u001b[0;31mTypeError\u001b[0m                                 Traceback (most recent call last)",
      "\u001b[0;32m<ipython-input-13-f24faa4c2d75>\u001b[0m in \u001b[0;36m<module>\u001b[0;34m\u001b[0m\n\u001b[1;32m      1\u001b[0m \u001b[0;32mfor\u001b[0m \u001b[0m_\u001b[0m \u001b[0;32min\u001b[0m \u001b[0mrange\u001b[0m\u001b[0;34m(\u001b[0m\u001b[0;36m10\u001b[0m\u001b[0;34m)\u001b[0m\u001b[0;34m:\u001b[0m\u001b[0;34m\u001b[0m\u001b[0;34m\u001b[0m\u001b[0m\n\u001b[1;32m      2\u001b[0m     \u001b[0mslv\u001b[0m \u001b[0;34m=\u001b[0m \u001b[0msolver\u001b[0m\u001b[0;34m.\u001b[0m\u001b[0mTop2\u001b[0m\u001b[0;34m(\u001b[0m\u001b[0mbase\u001b[0m\u001b[0;34m,\u001b[0m \u001b[0mformula\u001b[0m\u001b[0;34m)\u001b[0m\u001b[0;34m\u001b[0m\u001b[0;34m\u001b[0m\u001b[0m\n\u001b[0;32m----> 3\u001b[0;31m     \u001b[0mvss2\u001b[0m \u001b[0;34m=\u001b[0m \u001b[0mnp\u001b[0m\u001b[0;34m.\u001b[0m\u001b[0marray\u001b[0m\u001b[0;34m(\u001b[0m\u001b[0;34m[\u001b[0m\u001b[0mslv\u001b[0m\u001b[0;34m.\u001b[0m\u001b[0mstep\u001b[0m\u001b[0;34m(\u001b[0m\u001b[0;34m)\u001b[0m \u001b[0;32mfor\u001b[0m \u001b[0m_\u001b[0m \u001b[0;32min\u001b[0m \u001b[0mrange\u001b[0m\u001b[0;34m(\u001b[0m\u001b[0;36m2000\u001b[0m\u001b[0;34m)\u001b[0m\u001b[0;34m]\u001b[0m\u001b[0;34m)\u001b[0m\u001b[0;34m\u001b[0m\u001b[0;34m\u001b[0m\u001b[0m\n\u001b[0m\u001b[1;32m      4\u001b[0m     \u001b[0mc2\u001b[0m\u001b[0;34m.\u001b[0m\u001b[0mappend\u001b[0m\u001b[0;34m(\u001b[0m\u001b[0mvss2\u001b[0m\u001b[0;34m)\u001b[0m\u001b[0;34m\u001b[0m\u001b[0;34m\u001b[0m\u001b[0m\n",
      "\u001b[0;32m<ipython-input-13-f24faa4c2d75>\u001b[0m in \u001b[0;36m<listcomp>\u001b[0;34m(.0)\u001b[0m\n\u001b[1;32m      1\u001b[0m \u001b[0;32mfor\u001b[0m \u001b[0m_\u001b[0m \u001b[0;32min\u001b[0m \u001b[0mrange\u001b[0m\u001b[0;34m(\u001b[0m\u001b[0;36m10\u001b[0m\u001b[0;34m)\u001b[0m\u001b[0;34m:\u001b[0m\u001b[0;34m\u001b[0m\u001b[0;34m\u001b[0m\u001b[0m\n\u001b[1;32m      2\u001b[0m     \u001b[0mslv\u001b[0m \u001b[0;34m=\u001b[0m \u001b[0msolver\u001b[0m\u001b[0;34m.\u001b[0m\u001b[0mTop2\u001b[0m\u001b[0;34m(\u001b[0m\u001b[0mbase\u001b[0m\u001b[0;34m,\u001b[0m \u001b[0mformula\u001b[0m\u001b[0;34m)\u001b[0m\u001b[0;34m\u001b[0m\u001b[0;34m\u001b[0m\u001b[0m\n\u001b[0;32m----> 3\u001b[0;31m     \u001b[0mvss2\u001b[0m \u001b[0;34m=\u001b[0m \u001b[0mnp\u001b[0m\u001b[0;34m.\u001b[0m\u001b[0marray\u001b[0m\u001b[0;34m(\u001b[0m\u001b[0;34m[\u001b[0m\u001b[0mslv\u001b[0m\u001b[0;34m.\u001b[0m\u001b[0mstep\u001b[0m\u001b[0;34m(\u001b[0m\u001b[0;34m)\u001b[0m \u001b[0;32mfor\u001b[0m \u001b[0m_\u001b[0m \u001b[0;32min\u001b[0m \u001b[0mrange\u001b[0m\u001b[0;34m(\u001b[0m\u001b[0;36m2000\u001b[0m\u001b[0;34m)\u001b[0m\u001b[0;34m]\u001b[0m\u001b[0;34m)\u001b[0m\u001b[0;34m\u001b[0m\u001b[0;34m\u001b[0m\u001b[0m\n\u001b[0m\u001b[1;32m      4\u001b[0m     \u001b[0mc2\u001b[0m\u001b[0;34m.\u001b[0m\u001b[0mappend\u001b[0m\u001b[0;34m(\u001b[0m\u001b[0mvss2\u001b[0m\u001b[0;34m)\u001b[0m\u001b[0;34m\u001b[0m\u001b[0;34m\u001b[0m\u001b[0m\n",
      "\u001b[0;32m~/PycharmProjects/playground/Genshin/solver.py\u001b[0m in \u001b[0;36mstep\u001b[0;34m(self)\u001b[0m\n\u001b[1;32m     14\u001b[0m         \u001b[0ma\u001b[0m \u001b[0;34m=\u001b[0m \u001b[0martifact\u001b[0m\u001b[0;34m.\u001b[0m\u001b[0mmake_arti\u001b[0m\u001b[0;34m(\u001b[0m\u001b[0;34m)\u001b[0m\u001b[0;34m\u001b[0m\u001b[0;34m\u001b[0m\u001b[0m\n\u001b[1;32m     15\u001b[0m         \u001b[0mself\u001b[0m\u001b[0;34m.\u001b[0m\u001b[0martis\u001b[0m\u001b[0;34m.\u001b[0m\u001b[0mappend\u001b[0m\u001b[0;34m(\u001b[0m\u001b[0ma\u001b[0m\u001b[0;34m)\u001b[0m\u001b[0;34m\u001b[0m\u001b[0;34m\u001b[0m\u001b[0m\n\u001b[0;32m---> 16\u001b[0;31m         \u001b[0mmax_dmg\u001b[0m \u001b[0;34m=\u001b[0m \u001b[0mself\u001b[0m\u001b[0;34m.\u001b[0m\u001b[0msolve\u001b[0m\u001b[0;34m(\u001b[0m\u001b[0ma\u001b[0m\u001b[0;34m)\u001b[0m\u001b[0;34m\u001b[0m\u001b[0;34m\u001b[0m\u001b[0m\n\u001b[0m\u001b[1;32m     17\u001b[0m         \u001b[0mself\u001b[0m\u001b[0;34m.\u001b[0m\u001b[0mcur_dmg\u001b[0m \u001b[0;34m=\u001b[0m \u001b[0mmax_dmg\u001b[0m\u001b[0;34m\u001b[0m\u001b[0;34m\u001b[0m\u001b[0m\n\u001b[1;32m     18\u001b[0m         \u001b[0;32mreturn\u001b[0m \u001b[0mmax_dmg\u001b[0m\u001b[0;34m\u001b[0m\u001b[0;34m\u001b[0m\u001b[0m\n",
      "\u001b[0;32m~/PycharmProjects/playground/Genshin/solver.py\u001b[0m in \u001b[0;36msolve\u001b[0;34m(self, a)\u001b[0m\n\u001b[1;32m     49\u001b[0m         \u001b[0mself\u001b[0m\u001b[0;34m.\u001b[0m\u001b[0mc\u001b[0m\u001b[0;34m.\u001b[0m\u001b[0meval\u001b[0m\u001b[0;34m(\u001b[0m\u001b[0mprop2\u001b[0m\u001b[0;34m)\u001b[0m\u001b[0;34m\u001b[0m\u001b[0;34m\u001b[0m\u001b[0m\n\u001b[1;32m     50\u001b[0m \u001b[0;34m\u001b[0m\u001b[0m\n\u001b[0;32m---> 51\u001b[0;31m         \u001b[0mself\u001b[0m\u001b[0;34m.\u001b[0m\u001b[0mtop1\u001b[0m\u001b[0;34m,\u001b[0m \u001b[0mself\u001b[0m\u001b[0;34m.\u001b[0m\u001b[0mtop2\u001b[0m \u001b[0;34m=\u001b[0m \u001b[0msorted\u001b[0m\u001b[0;34m(\u001b[0m\u001b[0;34m[\u001b[0m\u001b[0mprop1\u001b[0m\u001b[0;34m,\u001b[0m \u001b[0mprop2\u001b[0m\u001b[0;34m,\u001b[0m \u001b[0mself\u001b[0m\u001b[0;34m.\u001b[0m\u001b[0mtop1\u001b[0m\u001b[0;34m,\u001b[0m \u001b[0mself\u001b[0m\u001b[0;34m.\u001b[0m\u001b[0mtop2\u001b[0m\u001b[0;34m]\u001b[0m\u001b[0;34m,\u001b[0m \u001b[0mreverse\u001b[0m\u001b[0;34m=\u001b[0m\u001b[0;32mTrue\u001b[0m\u001b[0;34m)\u001b[0m\u001b[0;34m[\u001b[0m\u001b[0;34m:\u001b[0m\u001b[0;36m2\u001b[0m\u001b[0;34m]\u001b[0m\u001b[0;34m\u001b[0m\u001b[0;34m\u001b[0m\u001b[0m\n\u001b[0m\u001b[1;32m     52\u001b[0m         \u001b[0;32mreturn\u001b[0m \u001b[0mself\u001b[0m\u001b[0;34m.\u001b[0m\u001b[0mtop1\u001b[0m\u001b[0;34m.\u001b[0m\u001b[0mdmg\u001b[0m\u001b[0;34m\u001b[0m\u001b[0;34m\u001b[0m\u001b[0m\n\u001b[1;32m     53\u001b[0m \u001b[0;34m\u001b[0m\u001b[0m\n",
      "\u001b[0;32m~/PycharmProjects/playground/Genshin/stats.py\u001b[0m in \u001b[0;36m__lt__\u001b[0;34m(self, other)\u001b[0m\n",
      "\u001b[0;31mTypeError\u001b[0m: '<' not supported between instances of 'Artifact' and 'NoneType'"
     ]
    }
   ],
   "source": [
    "for _ in range(10):\n",
    "    slv = solver.Top2(base, formula)\n",
    "    vss2 = np.array([slv.step() for _ in range(2000)])\n",
    "    c2.append(vss2)"
   ]
  },
  {
   "cell_type": "code",
   "execution_count": 12,
   "id": "7ed241be-c59f-409d-8c20-260eaeccdab5",
   "metadata": {},
   "outputs": [
    {
     "data": {
      "text/plain": [
       "[<matplotlib.lines.Line2D at 0x13701ddc0>]"
      ]
     },
     "execution_count": 12,
     "metadata": {},
     "output_type": "execute_result"
    },
    {
     "data": {
      "image/png": "[encoded data removed]",
      "text/plain": [
       "<Figure size 432x288 with 1 Axes>"
      ]
     },
     "metadata": {
      "needs_background": "light"
     },
     "output_type": "display_data"
    }
   ],
   "source": [
    "plt.plot(vss2)"
   ]
  },
  {
   "cell_type": "code",
   "execution_count": 7,
   "id": "1757f43e-d594-4ebb-bae1-536c03fb36a9",
   "metadata": {},
   "outputs": [
    {
     "data": {
      "text/plain": [
       "[<matplotlib.lines.Line2D at 0x136fc1070>]"
      ]
     },
     "execution_count": 7,
     "metadata": {},
     "output_type": "execute_result"
    },
    {
     "data": {
      "image/png": "[encoded data removed]",
      "text/plain": [
       "<Figure size 432x288 with 1 Axes>"
      ]
     },
     "metadata": {
      "needs_background": "light"
     },
     "output_type": "display_data"
    }
   ],
   "source": [
    "m1 = np.mean(curves, axis=0)\n",
    "s1 = np.std(curves, axis=0)\n",
    "plt.plot(m1)\n",
    "plt.plot(m1 + s1, color='orange')\n",
    "plt.plot(m1 - s1, color='orange')"
   ]
  },
  {
   "cell_type": "code",
   "execution_count": 5,
   "id": "b543f1c8-bf4a-4a40-846e-f083dd6e3591",
   "metadata": {},
   "outputs": [],
   "source": [
    "class CumSolver:\n",
    "    def __init__(self, stats, dmg):\n",
    "        self.c = char.Character(stats, dmg)\n",
    "        self.artis = []\n",
    "        \n",
    "        self.eqset = stats.Loadout()\n",
    "        self.cur_dmg = self.c.eval()\n",
    "        \n",
    "        self.sets = {stats.Loadout()}\n",
    "    \n",
    "    def advance(self):\n",
    "        a = artifact.make_arti()\n",
    "        self.artis.append(a)\n",
    "        \n",
    "        # solver step\n",
    "        self.c.equip(a)\n",
    "        new_dmg = self.c.eval()\n",
    "        if new_dmg >= self.cur_dmg:\n",
    "            self.eqset = self.eqset.add(a)\n",
    "            self.cur_dmg = new_dmg\n",
    "        else:\n",
    "            self.c.equip(self.eqset)\n",
    "        return self.cur_dmg\n",
    "    \n",
    "    def solve_max(self, a):\n",
    "        for s in self.sets:\n",
    "            s[a.slot] "
   ]
  },
  {
   "cell_type": "code",
   "execution_count": 37,
   "id": "45b6ccc9-3c17-4ba4-8a7a-ad58b26d3594",
   "metadata": {},
   "outputs": [
    {
     "data": {
      "text/plain": [
       "array([ 112,   19,    1, ..., 1336, 1337,  999])"
      ]
     },
     "execution_count": 37,
     "metadata": {},
     "output_type": "execute_result"
    }
   ],
   "source": [
    "np.argsort(vss[1:] - vss[:-1])[::-1]"
   ]
  },
  {
   "cell_type": "code",
   "execution_count": 32,
   "id": "78f60071-2d53-4cde-9d64-5175bfc931a4",
   "metadata": {},
   "outputs": [
    {
     "data": {
      "text/plain": [
       "(27286.364579186775, 31743.08867826028)"
      ]
     },
     "execution_count": 32,
     "metadata": {},
     "output_type": "execute_result"
    }
   ],
   "source": [
    "vss[112], vss[113]"
   ]
  },
  {
   "cell_type": "code",
   "execution_count": 33,
   "id": "25af1ee2-e34f-4809-8af0-d1beda953c2b",
   "metadata": {},
   "outputs": [
    {
     "data": {
      "text/plain": [
       "Phys Cup@(HP:269>867, DEF:16>32, ER:0>110, EM:23>23)"
      ]
     },
     "execution_count": 33,
     "metadata": {},
     "output_type": "execute_result"
    }
   ],
   "source": [
    "slv.artis[113]"
   ]
  },
  {
   "cell_type": "code",
   "execution_count": null,
   "id": "8c754b93-b4d4-4971-bdfa-06789c802e11",
   "metadata": {},
   "outputs": [],
   "source": []
  },
  {
   "cell_type": "code",
   "execution_count": 95,
   "id": "27bed580-296b-42bd-b80f-3e2681b82815",
   "metadata": {},
   "outputs": [
    {
     "data": {
      "text/plain": [
       "34954.41928656727"
      ]
     },
     "execution_count": 95,
     "metadata": {},
     "output_type": "execute_result"
    }
   ],
   "source": [
    "eqset = [None for _ in range(5)]\n",
    "c.artis = eqset.copy()\n",
    "cur_dmg = c.eval()\n",
    "\n",
    "artis = []\n",
    "for _ in range(100):\n",
    "    a = artifact.make_arti()\n",
    "    artis.append(a)\n",
    "    c.equip(a)\n",
    "    \n",
    "    new_dmg = c.eval()\n",
    "    if new_dmg >= cur_dmg:\n",
    "        eqset[a.slot] = a\n",
    "        cur_dmg = new_dmg\n",
    "    else:\n",
    "        c.equip(eqset)\n",
    "cur_dmg"
   ]
  },
  {
   "cell_type": "code",
   "execution_count": 96,
   "id": "e7f1e69e-ac75-4494-98c6-0fea260a7729",
   "metadata": {},
   "outputs": [
    {
     "name": "stdout",
     "output_type": "stream",
     "text": [
      "Dmg: 34954.41928656727\n",
      "  ATK: 2511.1201171875\n",
      "  CR: 0.3840000033378601\n",
      "  CD: 1.2380000352859497\n"
     ]
    },
    {
     "data": {
      "text/plain": [
       "[HP Flower@(DEF:0>21, ATK%:58>99, ATK:14>30, CD:62>186),\n",
       " ATK Feath@(HP%:41>41, ATK%:41>135, CR:0>97, ER:65>65),\n",
       " ATK% Sands@(HP%:53>53, ATK:0>28, CD:70>202, EM:16>39),\n",
       " Phys Cup@(HP:269>269, ATK:0>28, CD:62>132, ER:52>156),\n",
       " ATK% Hat@(HP:239>239, ATK:14>14, CR:27>93, CD:0>218)]"
      ]
     },
     "execution_count": 96,
     "metadata": {},
     "output_type": "execute_result"
    }
   ],
   "source": [
    "print(f'Dmg: {c.eval(eqset)}')\n",
    "for ts in ['ATK', 'CR', 'CD']:\n",
    "    print(f'  {ts}: {c._bake_stats()[ts]}')\n",
    "eqset"
   ]
  },
  {
   "cell_type": "code",
   "execution_count": 78,
   "id": "112ff6e8-0381-45a6-87cf-d4f13f0af771",
   "metadata": {},
   "outputs": [
    {
     "name": "stdout",
     "output_type": "stream",
     "text": [
      "Dmg: 51990.25112449387\n",
      "  ATK: 2194.360107421875\n",
      "  CR: 0.8159999847412109\n",
      "  CD: 1.8519999980926514\n"
     ]
    },
    {
     "data": {
      "text/plain": [
       "[HP Flower@(ATK%:41>152, ATK:18>18, CR:35>144, CD:54>54),\n",
       " ATK Feath@(ATK%:58>116, CR:31>62, CD:54>280, EM:19>19),\n",
       " ATK% Sands@(HP:209>209, DEF%:73>73, CR:27>101, CD:54>264),\n",
       " Phys Cup@(HP%:41>41, ATK:19>19, CR:35>179, CD:62>132),\n",
       " CD Hat@(DEF:16>39, ATK%:58>116, ATK:18>18, CR:39>136)]"
      ]
     },
     "execution_count": 78,
     "metadata": {},
     "output_type": "execute_result"
    }
   ],
   "source": [
    "print(f'Dmg: {c.eval(eqset)}')\n",
    "for ts in ['ATK', 'CR', 'CD']:\n",
    "    print(f'  {ts}: {c._bake_stats()[ts]}')\n",
    "eqset"
   ]
  },
  {
   "cell_type": "code",
   "execution_count": 74,
   "id": "bceceb45-8712-4d92-8478-61dd918416d2",
   "metadata": {},
   "outputs": [
    {
     "name": "stdout",
     "output_type": "stream",
     "text": [
      "Dmg: 52511.063832588814\n",
      "  ATK: 2221.47998046875\n",
      "  CR: 0.9480000138282776\n",
      "  CD: 1.5880000591278076\n"
     ]
    },
    {
     "data": {
      "text/plain": [
       "[HP Flower@(DEF:19>19, ATK%:53>53, CR:39>179, CD:62>132),\n",
       " ATK Feath@(DEF:19>19, ATK%:58>163, CR:35>97, CD:70>132),\n",
       " ATK% Sands@(HP%:58>58, ATK:16>16, CR:35>179, CD:78>148),\n",
       " Phys Cup@(HP%:58>58, ATK%:47>163, CR:27>124, CD:54>54),\n",
       " CD Hat@(ATK%:47>47, ATK:16>30, CR:39>175, EM:23>23)]"
      ]
     },
     "execution_count": 74,
     "metadata": {},
     "output_type": "execute_result"
    }
   ],
   "source": [
    "print(f'Dmg: {c.eval(eqset)}')\n",
    "for ts in ['ATK', 'CR', 'CD']:\n",
    "    print(f'  {ts}: {c._bake_stats()[ts]}')\n",
    "eqset"
   ]
  },
  {
   "cell_type": "code",
   "execution_count": 65,
   "id": "3d3330c1-ff8a-432a-8261-c85303b56917",
   "metadata": {},
   "outputs": [
    {
     "name": "stdout",
     "output_type": "stream",
     "text": [
      "Dmg: 53961.627858173\n"
     ]
    },
    {
     "data": {
      "text/plain": [
       "[HP Flower@(ATK%:53>53, ATK:18>18, CR:35>35, CD:70>428),\n",
       " ATK Feath@(DEF:21>21, ATK%:58>58, CR:35>132, CD:78>218),\n",
       " ATK% Sands@(HP:299>299, DEF:16>16, CR:27>105, CD:78>288),\n",
       " Phys Cup@(HP:239>239, ATK%:41>204, CR:39>109, CD:78>78),\n",
       " CR Hat@(HP%:58>58, ATK%:47>158, ATK:19>37, CD:70>202)]"
      ]
     },
     "execution_count": 65,
     "metadata": {},
     "output_type": "execute_result"
    }
   ],
   "source": [
    "print(f'Dmg: {c.eval(eqset)}')\n",
    "eqset"
   ]
  },
  {
   "cell_type": "code",
   "execution_count": 70,
   "id": "8c878a44-40a0-4591-a001-b24a8f7ea7bd",
   "metadata": {},
   "outputs": [
    {
     "data": {
      "text/plain": [
       "[0.0000000e+00 1.7435273e+04 0.0000000e+00 7.2900000e+02 0.0000000e+00\n",
       " 2.2708999e+03 8.8599998e-01 1.7140000e+00 0.0000000e+00 0.0000000e+00\n",
       " 0.0000000e+00 5.8300000e-01 0.0000000e+00 0.0000000e+00 0.0000000e+00\n",
       " 0.0000000e+00 0.0000000e+00 0.0000000e+00 0.0000000e+00]"
      ]
     },
     "execution_count": 70,
     "metadata": {},
     "output_type": "execute_result"
    }
   ],
   "source": [
    "c._bake_stats()"
   ]
  },
  {
   "cell_type": "code",
   "execution_count": 14,
   "id": "73df1823-d2a7-4806-a7a6-c9afa2d8bf0a",
   "metadata": {},
   "outputs": [
    {
     "name": "stdout",
     "output_type": "stream",
     "text": [
      "173 µs ± 19.2 µs per loop (mean ± std. dev. of 7 runs, 1000 loops each)\n"
     ]
    }
   ],
   "source": [
    "%timeit c.eval()"
   ]
  },
  {
   "cell_type": "code",
   "execution_count": 8,
   "id": "5a256d0d-72db-4591-bb87-59e512198be7",
   "metadata": {},
   "outputs": [],
   "source": [
    "a = artifact.make_arti()"
   ]
  },
  {
   "cell_type": "code",
   "execution_count": 12,
   "id": "e082af47-a5fe-48df-b370-b25e40662554",
   "metadata": {},
   "outputs": [
    {
     "data": {
      "text/plain": [
       "ATK% Hat@(HP:0>418, DEF%:66>66, CD:54>240, EM:16>16)"
      ]
     },
     "execution_count": 12,
     "metadata": {},
     "output_type": "execute_result"
    }
   ],
   "source": [
    "a"
   ]
  },
  {
   "cell_type": "code",
   "execution_count": 10,
   "id": "55cdbb7b-df22-4188-9f23-7156cdfe2c59",
   "metadata": {},
   "outputs": [],
   "source": [
    "c.artis[4] = a"
   ]
  },
  {
   "cell_type": "code",
   "execution_count": 2,
   "id": "12cd731d-6ab1-4035-bcd3-8263021f9190",
   "metadata": {},
   "outputs": [
    {
     "data": {
      "text/plain": [
       "(ATK% Sands@(HP%:58>198, DEF:19>19, CD:0>156, EM:23>23),\n",
       " CR Hat@(HP:239>508, DEF%:66>212, ATK:19>37, CD:70>124))"
      ]
     },
     "execution_count": 2,
     "metadata": {},
     "output_type": "execute_result"
    }
   ],
   "source": [
    "a1 = artifact.make_arti()\n",
    "a2 = artifact.make_arti()\n",
    "a1, a2"
   ]
  },
  {
   "cell_type": "code",
   "execution_count": 3,
   "id": "54c10aa9-47af-4243-a345-845a6d9798e9",
   "metadata": {},
   "outputs": [],
   "source": [
    "s = char.Stats()"
   ]
  },
  {
   "cell_type": "code",
   "execution_count": 5,
   "id": "5f3fc2aa-587d-4d20-8869-d1cec49f9f99",
   "metadata": {},
   "outputs": [
    {
     "data": {
      "text/plain": [
       "[198 508 212  19 466  37 311 280   0  23   0   0   0   0   0   0   0   0\n",
       "   0]"
      ]
     },
     "execution_count": 5,
     "metadata": {},
     "output_type": "execute_result"
    }
   ],
   "source": [
    "a1 + a2"
   ]
  },
  {
   "cell_type": "code",
   "execution_count": 47,
   "id": "edae727e-095e-47ec-a3cd-f7002f56064a",
   "metadata": {},
   "outputs": [
    {
     "name": "stdout",
     "output_type": "stream",
     "text": [
      "137 µs ± 13.3 µs per loop (mean ± std. dev. of 7 runs, 10000 loops each)\n"
     ]
    }
   ],
   "source": [
    "%timeit artifact.make_arti()"
   ]
  },
  {
   "cell_type": "code",
   "execution_count": 1099,
   "id": "2e7f0d6e-c501-4f6c-8f99-d605974fa173",
   "metadata": {},
   "outputs": [],
   "source": [
    "slotnames = ['Flower', 'Feath', 'Sands', 'Cup', 'Circ']\n",
    "# statnames = ['CR', 'CD', 'ER', 'EM', 'ATK%', 'ATK', 'HP%', 'HP', 'DEF%', 'DEF', 'Heal',\n",
    "statnames = ['HP%', 'HP', 'DEF%', 'DEF', 'ATK%', 'ATK', 'CR', 'CD', 'ER', 'EM', 'Heal',\n",
    "          'Phys', 'Hydro', 'Pyro', 'Cryo', 'Electro', 'Anemo', 'Geo', 'Dendro']\n",
    "statmap = {n: i for i, n in enumerate(statnames)}"
   ]
  },
  {
   "cell_type": "code",
   "execution_count": null,
   "id": "3860d78f-29f4-40fa-ad04-ba714fbceaed",
   "metadata": {},
   "outputs": [],
   "source": []
  }
 ],
 "metadata": {
  "kernelspec": {
   "display_name": "Python 3",
   "language": "python",
   "name": "python3"
  },
  "language_info": {
   "codemirror_mode": {
    "name": "ipython",
    "version": 3
   },
   "file_extension": ".py",
   "mimetype": "text/x-python",
   "name": "python",
   "nbconvert_exporter": "python",
   "pygments_lexer": "ipython3",
   "version": "3.9.0"
  }
 },
 "nbformat": 4,
 "nbformat_minor": 5
}
