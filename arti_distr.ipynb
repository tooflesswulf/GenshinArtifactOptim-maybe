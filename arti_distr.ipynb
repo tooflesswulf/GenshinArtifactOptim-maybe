{
 "cells": [
  {
   "cell_type": "code",
   "execution_count": 1,
   "id": "133d6e71-6780-475b-a671-e677d3732cb8",
   "metadata": {},
   "outputs": [],
   "source": [
    "import numpy as np\n",
    "import matplotlib.pyplot as plt\n",
    "import pandas as pd\n",
    "from dataclasses import dataclass\n",
    "from typing import Tuple\n",
    "import random\n",
    "import artifact\n",
    "import sampler\n",
    "import char\n",
    "\n",
    "from IPython import display"
   ]
  },
  {
   "cell_type": "code",
   "execution_count": 2,
   "id": "12cd731d-6ab1-4035-bcd3-8263021f9190",
   "metadata": {},
   "outputs": [
    {
     "data": {
      "text/plain": [
       "(ATK% Sands@(HP%:58>198, DEF:19>19, CD:0>156, EM:23>23),\n",
       " CR Hat@(HP:239>508, DEF%:66>212, ATK:19>37, CD:70>124))"
      ]
     },
     "execution_count": 2,
     "metadata": {},
     "output_type": "execute_result"
    }
   ],
   "source": [
    "a1 = artifact.make_arti()\n",
    "a2 = artifact.make_arti()\n",
    "a1, a2"
   ]
  },
  {
   "cell_type": "code",
   "execution_count": 3,
   "id": "54c10aa9-47af-4243-a345-845a6d9798e9",
   "metadata": {},
   "outputs": [],
   "source": [
    "s = char.Stats()"
   ]
  },
  {
   "cell_type": "code",
   "execution_count": 5,
   "id": "5f3fc2aa-587d-4d20-8869-d1cec49f9f99",
   "metadata": {},
   "outputs": [
    {
     "data": {
      "text/plain": [
       "[198 508 212  19 466  37 311 280   0  23   0   0   0   0   0   0   0   0\n",
       "   0]"
      ]
     },
     "execution_count": 5,
     "metadata": {},
     "output_type": "execute_result"
    }
   ],
   "source": [
    "a1 + a2"
   ]
  },
  {
   "cell_type": "code",
   "execution_count": 47,
   "id": "edae727e-095e-47ec-a3cd-f7002f56064a",
   "metadata": {},
   "outputs": [
    {
     "name": "stdout",
     "output_type": "stream",
     "text": [
      "137 µs ± 13.3 µs per loop (mean ± std. dev. of 7 runs, 10000 loops each)\n"
     ]
    }
   ],
   "source": [
    "%timeit artifact.make_arti()"
   ]
  },
  {
   "cell_type": "code",
   "execution_count": 1099,
   "id": "2e7f0d6e-c501-4f6c-8f99-d605974fa173",
   "metadata": {},
   "outputs": [],
   "source": [
    "slotnames = ['Flower', 'Feath', 'Sands', 'Cup', 'Circ']\n",
    "# statnames = ['CR', 'CD', 'ER', 'EM', 'ATK%', 'ATK', 'HP%', 'HP', 'DEF%', 'DEF', 'Heal',\n",
    "statnames = ['HP%', 'HP', 'DEF%', 'DEF', 'ATK%', 'ATK', 'CR', 'CD', 'ER', 'EM', 'Heal',\n",
    "          'Phys', 'Hydro', 'Pyro', 'Cryo', 'Electro', 'Anemo', 'Geo', 'Dendro']\n",
    "statmap = {n: i for i, n in enumerate(statnames)}"
   ]
  },
  {
   "cell_type": "code",
   "execution_count": null,
   "id": "3860d78f-29f4-40fa-ad04-ba714fbceaed",
   "metadata": {},
   "outputs": [],
   "source": []
  }
 ],
 "metadata": {
  "kernelspec": {
   "display_name": "Python 3",
   "language": "python",
   "name": "python3"
  },
  "language_info": {
   "codemirror_mode": {
    "name": "ipython",
    "version": 3
   },
   "file_extension": ".py",
   "mimetype": "text/x-python",
   "name": "python",
   "nbconvert_exporter": "python",
   "pygments_lexer": "ipython3",
   "version": "3.9.0"
  }
 },
 "nbformat": 4,
 "nbformat_minor": 5
}
