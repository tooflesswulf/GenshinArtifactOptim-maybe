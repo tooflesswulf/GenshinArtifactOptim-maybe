{
 "cells": [
  {
   "cell_type": "code",
   "execution_count": 1,
   "id": "133d6e71-6780-475b-a671-e677d3732cb8",
   "metadata": {},
   "outputs": [],
   "source": [
    "import numpy as np\n",
    "import matplotlib.pyplot as plt\n",
    "import pandas as pd\n",
    "from dataclasses import dataclass\n",
    "from typing import Tuple\n",
    "import random\n",
    "import artifact\n",
    "import sampler\n",
    "import char\n",
    "import damage\n",
    "\n",
    "from IPython import display"
   ]
  },
  {
   "cell_type": "code",
   "execution_count": 2,
   "id": "6f94dcb8-f9e5-4a6d-bdf9-02dc03616406",
   "metadata": {},
   "outputs": [],
   "source": [
    "# Diluc base stats at A5 L80. With Lvl 90 prototype archaic.\n",
    "base = [\n",
    "    0, 11453,\n",
    "    0, 692,\n",
    "    0 + 276, 295 + 565,\n",
    "    194, 500,\n",
    "    0, 0,\n",
    "    0, 0, 0, 0, 0, 0, 0, 0, 0,\n",
    "]\n",
    "base = np.array(base, dtype=np.float32)\n",
    "\n",
    "formula = sum([damage.DilucN1(i) for i in range(4)])\n",
    "c = char.Character(char.Stats(base), formula)"
   ]
  },
  {
   "cell_type": "code",
   "execution_count": 3,
   "id": "bf449b44-163d-4789-953c-725aca29545d",
   "metadata": {},
   "outputs": [
    {
     "data": {
      "text/plain": [
       "'Base dmg: 7174.671286138608'"
      ]
     },
     "execution_count": 3,
     "metadata": {},
     "output_type": "execute_result"
    }
   ],
   "source": [
    "c.artis = [None for _ in range(5)]\n",
    "f'Base dmg: {c.eval()}'"
   ]
  },
  {
   "cell_type": "code",
   "execution_count": 11,
   "id": "b543f1c8-bf4a-4a40-846e-f083dd6e3591",
   "metadata": {},
   "outputs": [],
   "source": [
    "class CumSolver:\n",
    "    def __init__(self, stats, dmg):\n",
    "        self.c = char.Character(stats, dmg)\n",
    "        self.artis = []\n",
    "        \n",
    "        self.eqset = [None for _ in range(5)]\n",
    "        self.cur_dmg = c.eval()\n",
    "    \n",
    "    def advance(self):\n",
    "        a = artifact.make_arti()\n",
    "        self.artis.append(a)\n",
    "        \n",
    "        # solver step\n",
    "        self.c.equip(a)\n",
    "        new_dmg = self.c.eval()\n",
    "        if new_dmg >= self.cur_dmg:\n",
    "            self.eqset[a.slot] = a\n",
    "            self.cur_dmg = new_dmg\n",
    "        else:\n",
    "            self.c.equip(self.eqset)\n",
    "        return self.cur_dmg"
   ]
  },
  {
   "cell_type": "code",
   "execution_count": 41,
   "id": "22dd0976-06f0-435b-be67-90c75881ad33",
   "metadata": {},
   "outputs": [],
   "source": [
    "curves = []"
   ]
  },
  {
   "cell_type": "code",
   "execution_count": 79,
   "id": "8d89ef03-dd6f-4ecc-81e4-c22df6879890",
   "metadata": {},
   "outputs": [
    {
     "data": {
      "text/plain": [
       "[<matplotlib.lines.Line2D at 0x134d88b80>]"
      ]
     },
     "execution_count": 79,
     "metadata": {},
     "output_type": "execute_result"
    },
    {
     "data": {
      "image/png": "[encoded data removed]",
      "text/plain": [
       "<Figure size 432x288 with 1 Axes>"
      ]
     },
     "metadata": {
      "needs_background": "light"
     },
     "output_type": "display_data"
    }
   ],
   "source": [
    "for _ in range(50):\n",
    "    slv = CumSolver(char.Stats(base), formula)\n",
    "    vss = np.array([slv.advance() for _ in range(2000)])\n",
    "    curves.append(vss)\n",
    "plt.plot(vss)"
   ]
  },
  {
   "cell_type": "code",
   "execution_count": 80,
   "id": "1757f43e-d594-4ebb-bae1-536c03fb36a9",
   "metadata": {},
   "outputs": [
    {
     "data": {
      "text/plain": [
       "[<matplotlib.lines.Line2D at 0x13517e400>]"
      ]
     },
     "execution_count": 80,
     "metadata": {},
     "output_type": "execute_result"
    },
    {
     "data": {
      "image/png": "[encoded data removed]",
      "text/plain": [
       "<Figure size 432x288 with 1 Axes>"
      ]
     },
     "metadata": {
      "needs_background": "light"
     },
     "output_type": "display_data"
    }
   ],
   "source": [
    "m = np.mean(curves, axis=0)\n",
    "s = np.std(curves, axis=0)\n",
    "plt.plot(m)\n",
    "plt.plot(m + s, color='orange')\n",
    "plt.plot(m - s, color='orange')"
   ]
  },
  {
   "cell_type": "code",
   "execution_count": 37,
   "id": "45b6ccc9-3c17-4ba4-8a7a-ad58b26d3594",
   "metadata": {},
   "outputs": [
    {
     "data": {
      "text/plain": [
       "array([ 112,   19,    1, ..., 1336, 1337,  999])"
      ]
     },
     "execution_count": 37,
     "metadata": {},
     "output_type": "execute_result"
    }
   ],
   "source": [
    "np.argsort(vss[1:] - vss[:-1])[::-1]"
   ]
  },
  {
   "cell_type": "code",
   "execution_count": 32,
   "id": "78f60071-2d53-4cde-9d64-5175bfc931a4",
   "metadata": {},
   "outputs": [
    {
     "data": {
      "text/plain": [
       "(27286.364579186775, 31743.08867826028)"
      ]
     },
     "execution_count": 32,
     "metadata": {},
     "output_type": "execute_result"
    }
   ],
   "source": [
    "vss[112], vss[113]"
   ]
  },
  {
   "cell_type": "code",
   "execution_count": 33,
   "id": "25af1ee2-e34f-4809-8af0-d1beda953c2b",
   "metadata": {},
   "outputs": [
    {
     "data": {
      "text/plain": [
       "Phys Cup@(HP:269>867, DEF:16>32, ER:0>110, EM:23>23)"
      ]
     },
     "execution_count": 33,
     "metadata": {},
     "output_type": "execute_result"
    }
   ],
   "source": [
    "slv.artis[113]"
   ]
  },
  {
   "cell_type": "code",
   "execution_count": null,
   "id": "8c754b93-b4d4-4971-bdfa-06789c802e11",
   "metadata": {},
   "outputs": [],
   "source": []
  },
  {
   "cell_type": "code",
   "execution_count": 95,
   "id": "27bed580-296b-42bd-b80f-3e2681b82815",
   "metadata": {},
   "outputs": [
    {
     "data": {
      "text/plain": [
       "34954.41928656727"
      ]
     },
     "execution_count": 95,
     "metadata": {},
     "output_type": "execute_result"
    }
   ],
   "source": [
    "eqset = [None for _ in range(5)]\n",
    "c.artis = eqset.copy()\n",
    "cur_dmg = c.eval()\n",
    "\n",
    "artis = []\n",
    "for _ in range(100):\n",
    "    a = artifact.make_arti()\n",
    "    artis.append(a)\n",
    "    c.equip(a)\n",
    "    \n",
    "    new_dmg = c.eval()\n",
    "    if new_dmg >= cur_dmg:\n",
    "        eqset[a.slot] = a\n",
    "        cur_dmg = new_dmg\n",
    "    else:\n",
    "        c.equip(eqset)\n",
    "cur_dmg"
   ]
  },
  {
   "cell_type": "code",
   "execution_count": 96,
   "id": "e7f1e69e-ac75-4494-98c6-0fea260a7729",
   "metadata": {},
   "outputs": [
    {
     "name": "stdout",
     "output_type": "stream",
     "text": [
      "Dmg: 34954.41928656727\n",
      "  ATK: 2511.1201171875\n",
      "  CR: 0.3840000033378601\n",
      "  CD: 1.2380000352859497\n"
     ]
    },
    {
     "data": {
      "text/plain": [
       "[HP Flower@(DEF:0>21, ATK%:58>99, ATK:14>30, CD:62>186),\n",
       " ATK Feath@(HP%:41>41, ATK%:41>135, CR:0>97, ER:65>65),\n",
       " ATK% Sands@(HP%:53>53, ATK:0>28, CD:70>202, EM:16>39),\n",
       " Phys Cup@(HP:269>269, ATK:0>28, CD:62>132, ER:52>156),\n",
       " ATK% Hat@(HP:239>239, ATK:14>14, CR:27>93, CD:0>218)]"
      ]
     },
     "execution_count": 96,
     "metadata": {},
     "output_type": "execute_result"
    }
   ],
   "source": [
    "print(f'Dmg: {c.eval(eqset)}')\n",
    "for ts in ['ATK', 'CR', 'CD']:\n",
    "    print(f'  {ts}: {c._bake_stats()[ts]}')\n",
    "eqset"
   ]
  },
  {
   "cell_type": "code",
   "execution_count": 78,
   "id": "112ff6e8-0381-45a6-87cf-d4f13f0af771",
   "metadata": {},
   "outputs": [
    {
     "name": "stdout",
     "output_type": "stream",
     "text": [
      "Dmg: 51990.25112449387\n",
      "  ATK: 2194.360107421875\n",
      "  CR: 0.8159999847412109\n",
      "  CD: 1.8519999980926514\n"
     ]
    },
    {
     "data": {
      "text/plain": [
       "[HP Flower@(ATK%:41>152, ATK:18>18, CR:35>144, CD:54>54),\n",
       " ATK Feath@(ATK%:58>116, CR:31>62, CD:54>280, EM:19>19),\n",
       " ATK% Sands@(HP:209>209, DEF%:73>73, CR:27>101, CD:54>264),\n",
       " Phys Cup@(HP%:41>41, ATK:19>19, CR:35>179, CD:62>132),\n",
       " CD Hat@(DEF:16>39, ATK%:58>116, ATK:18>18, CR:39>136)]"
      ]
     },
     "execution_count": 78,
     "metadata": {},
     "output_type": "execute_result"
    }
   ],
   "source": [
    "print(f'Dmg: {c.eval(eqset)}')\n",
    "for ts in ['ATK', 'CR', 'CD']:\n",
    "    print(f'  {ts}: {c._bake_stats()[ts]}')\n",
    "eqset"
   ]
  },
  {
   "cell_type": "code",
   "execution_count": 74,
   "id": "bceceb45-8712-4d92-8478-61dd918416d2",
   "metadata": {},
   "outputs": [
    {
     "name": "stdout",
     "output_type": "stream",
     "text": [
      "Dmg: 52511.063832588814\n",
      "  ATK: 2221.47998046875\n",
      "  CR: 0.9480000138282776\n",
      "  CD: 1.5880000591278076\n"
     ]
    },
    {
     "data": {
      "text/plain": [
       "[HP Flower@(DEF:19>19, ATK%:53>53, CR:39>179, CD:62>132),\n",
       " ATK Feath@(DEF:19>19, ATK%:58>163, CR:35>97, CD:70>132),\n",
       " ATK% Sands@(HP%:58>58, ATK:16>16, CR:35>179, CD:78>148),\n",
       " Phys Cup@(HP%:58>58, ATK%:47>163, CR:27>124, CD:54>54),\n",
       " CD Hat@(ATK%:47>47, ATK:16>30, CR:39>175, EM:23>23)]"
      ]
     },
     "execution_count": 74,
     "metadata": {},
     "output_type": "execute_result"
    }
   ],
   "source": [
    "print(f'Dmg: {c.eval(eqset)}')\n",
    "for ts in ['ATK', 'CR', 'CD']:\n",
    "    print(f'  {ts}: {c._bake_stats()[ts]}')\n",
    "eqset"
   ]
  },
  {
   "cell_type": "code",
   "execution_count": 65,
   "id": "3d3330c1-ff8a-432a-8261-c85303b56917",
   "metadata": {},
   "outputs": [
    {
     "name": "stdout",
     "output_type": "stream",
     "text": [
      "Dmg: 53961.627858173\n"
     ]
    },
    {
     "data": {
      "text/plain": [
       "[HP Flower@(ATK%:53>53, ATK:18>18, CR:35>35, CD:70>428),\n",
       " ATK Feath@(DEF:21>21, ATK%:58>58, CR:35>132, CD:78>218),\n",
       " ATK% Sands@(HP:299>299, DEF:16>16, CR:27>105, CD:78>288),\n",
       " Phys Cup@(HP:239>239, ATK%:41>204, CR:39>109, CD:78>78),\n",
       " CR Hat@(HP%:58>58, ATK%:47>158, ATK:19>37, CD:70>202)]"
      ]
     },
     "execution_count": 65,
     "metadata": {},
     "output_type": "execute_result"
    }
   ],
   "source": [
    "print(f'Dmg: {c.eval(eqset)}')\n",
    "eqset"
   ]
  },
  {
   "cell_type": "code",
   "execution_count": 70,
   "id": "8c878a44-40a0-4591-a001-b24a8f7ea7bd",
   "metadata": {},
   "outputs": [
    {
     "data": {
      "text/plain": [
       "[0.0000000e+00 1.7435273e+04 0.0000000e+00 7.2900000e+02 0.0000000e+00\n",
       " 2.2708999e+03 8.8599998e-01 1.7140000e+00 0.0000000e+00 0.0000000e+00\n",
       " 0.0000000e+00 5.8300000e-01 0.0000000e+00 0.0000000e+00 0.0000000e+00\n",
       " 0.0000000e+00 0.0000000e+00 0.0000000e+00 0.0000000e+00]"
      ]
     },
     "execution_count": 70,
     "metadata": {},
     "output_type": "execute_result"
    }
   ],
   "source": [
    "c._bake_stats()"
   ]
  },
  {
   "cell_type": "code",
   "execution_count": 14,
   "id": "73df1823-d2a7-4806-a7a6-c9afa2d8bf0a",
   "metadata": {},
   "outputs": [
    {
     "name": "stdout",
     "output_type": "stream",
     "text": [
      "173 µs ± 19.2 µs per loop (mean ± std. dev. of 7 runs, 1000 loops each)\n"
     ]
    }
   ],
   "source": [
    "%timeit c.eval()"
   ]
  },
  {
   "cell_type": "code",
   "execution_count": 8,
   "id": "5a256d0d-72db-4591-bb87-59e512198be7",
   "metadata": {},
   "outputs": [],
   "source": [
    "a = artifact.make_arti()"
   ]
  },
  {
   "cell_type": "code",
   "execution_count": 12,
   "id": "e082af47-a5fe-48df-b370-b25e40662554",
   "metadata": {},
   "outputs": [
    {
     "data": {
      "text/plain": [
       "ATK% Hat@(HP:0>418, DEF%:66>66, CD:54>240, EM:16>16)"
      ]
     },
     "execution_count": 12,
     "metadata": {},
     "output_type": "execute_result"
    }
   ],
   "source": [
    "a"
   ]
  },
  {
   "cell_type": "code",
   "execution_count": 10,
   "id": "55cdbb7b-df22-4188-9f23-7156cdfe2c59",
   "metadata": {},
   "outputs": [],
   "source": [
    "c.artis[4] = a"
   ]
  },
  {
   "cell_type": "code",
   "execution_count": 2,
   "id": "12cd731d-6ab1-4035-bcd3-8263021f9190",
   "metadata": {},
   "outputs": [
    {
     "data": {
      "text/plain": [
       "(ATK% Sands@(HP%:58>198, DEF:19>19, CD:0>156, EM:23>23),\n",
       " CR Hat@(HP:239>508, DEF%:66>212, ATK:19>37, CD:70>124))"
      ]
     },
     "execution_count": 2,
     "metadata": {},
     "output_type": "execute_result"
    }
   ],
   "source": [
    "a1 = artifact.make_arti()\n",
    "a2 = artifact.make_arti()\n",
    "a1, a2"
   ]
  },
  {
   "cell_type": "code",
   "execution_count": 3,
   "id": "54c10aa9-47af-4243-a345-845a6d9798e9",
   "metadata": {},
   "outputs": [],
   "source": [
    "s = char.Stats()"
   ]
  },
  {
   "cell_type": "code",
   "execution_count": 5,
   "id": "5f3fc2aa-587d-4d20-8869-d1cec49f9f99",
   "metadata": {},
   "outputs": [
    {
     "data": {
      "text/plain": [
       "[198 508 212  19 466  37 311 280   0  23   0   0   0   0   0   0   0   0\n",
       "   0]"
      ]
     },
     "execution_count": 5,
     "metadata": {},
     "output_type": "execute_result"
    }
   ],
   "source": [
    "a1 + a2"
   ]
  },
  {
   "cell_type": "code",
   "execution_count": 47,
   "id": "edae727e-095e-47ec-a3cd-f7002f56064a",
   "metadata": {},
   "outputs": [
    {
     "name": "stdout",
     "output_type": "stream",
     "text": [
      "137 µs ± 13.3 µs per loop (mean ± std. dev. of 7 runs, 10000 loops each)\n"
     ]
    }
   ],
   "source": [
    "%timeit artifact.make_arti()"
   ]
  },
  {
   "cell_type": "code",
   "execution_count": 1099,
   "id": "2e7f0d6e-c501-4f6c-8f99-d605974fa173",
   "metadata": {},
   "outputs": [],
   "source": [
    "slotnames = ['Flower', 'Feath', 'Sands', 'Cup', 'Circ']\n",
    "# statnames = ['CR', 'CD', 'ER', 'EM', 'ATK%', 'ATK', 'HP%', 'HP', 'DEF%', 'DEF', 'Heal',\n",
    "statnames = ['HP%', 'HP', 'DEF%', 'DEF', 'ATK%', 'ATK', 'CR', 'CD', 'ER', 'EM', 'Heal',\n",
    "          'Phys', 'Hydro', 'Pyro', 'Cryo', 'Electro', 'Anemo', 'Geo', 'Dendro']\n",
    "statmap = {n: i for i, n in enumerate(statnames)}"
   ]
  },
  {
   "cell_type": "code",
   "execution_count": null,
   "id": "3860d78f-29f4-40fa-ad04-ba714fbceaed",
   "metadata": {},
   "outputs": [],
   "source": []
  }
 ],
 "metadata": {
  "kernelspec": {
   "display_name": "Python 3",
   "language": "python",
   "name": "python3"
  },
  "language_info": {
   "codemirror_mode": {
    "name": "ipython",
    "version": 3
   },
   "file_extension": ".py",
   "mimetype": "text/x-python",
   "name": "python",
   "nbconvert_exporter": "python",
   "pygments_lexer": "ipython3",
   "version": "3.9.0"
  }
 },
 "nbformat": 4,
 "nbformat_minor": 5
}
